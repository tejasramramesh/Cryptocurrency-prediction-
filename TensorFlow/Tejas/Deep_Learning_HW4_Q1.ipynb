{
  "cells": [
    {
      "cell_type": "markdown",
      "metadata": {
        "id": "view-in-github",
        "colab_type": "text"
      },
      "source": [
        "<a href=\"https://colab.research.google.com/github/tejasramramesh/Cryptocurrency-prediction-/blob/main/TensorFlow/Tejas/Deep_Learning_HW4_Q1.ipynb\" target=\"_parent\"><img src=\"https://colab.research.google.com/assets/colab-badge.svg\" alt=\"Open In Colab\"/></a>"
      ]
    },
    {
      "cell_type": "markdown",
      "metadata": {
        "id": "0qY98ll9k41F"
      },
      "source": [
        "#Home Work 4 \n",
        "\n",
        "\n",
        "\n",
        "Reference:\n",
        "\n",
        "1) https://scikit-learn.org/stable/modules/generated/sklearn.preprocessing.OneHotEncoder.html\n",
        "\n",
        "2) https://scikit-learn.org/stable/modules/generated/sklearn.model_selection.train_test_split.html\n",
        "\n",
        "3)"
      ]
    },
    {
      "cell_type": "markdown",
      "metadata": {
        "id": "3yPSqdSjfbVJ"
      },
      "source": [
        "#GPU Check"
      ]
    },
    {
      "cell_type": "code",
      "execution_count": 1,
      "metadata": {
        "colab": {
          "base_uri": "https://localhost:8080/"
        },
        "id": "6eYLcSSkfGh2",
        "outputId": "f9126178-3474-4609-b35d-64d2a8c62fc3"
      },
      "outputs": [
        {
          "output_type": "stream",
          "name": "stdout",
          "text": [
            "Found GPU at: /device:GPU:0\n"
          ]
        }
      ],
      "source": [
        "#Path: TensorFlow/Tejas/\n",
        "import tensorflow as tf\n",
        "device_name = tf.test.gpu_device_name()\n",
        "if device_name != '/device:GPU:0':\n",
        "  raise SystemError('GPU device not found')\n",
        "print('Found GPU at: {}'.format(device_name))"
      ]
    },
    {
      "cell_type": "code",
      "execution_count": 2,
      "metadata": {
        "colab": {
          "base_uri": "https://localhost:8080/"
        },
        "id": "-5WULo6UfScX",
        "outputId": "a25c4bcd-cf7e-4559-a1a7-7b0d8b21a259"
      },
      "outputs": [
        {
          "output_type": "stream",
          "name": "stdout",
          "text": [
            "TensorFlow version: 2.9.2\n"
          ]
        }
      ],
      "source": [
        "print(\"TensorFlow version:\", tf.__version__)"
      ]
    },
    {
      "cell_type": "code",
      "execution_count": 3,
      "metadata": {
        "colab": {
          "base_uri": "https://localhost:8080/"
        },
        "id": "SMyb6ZZjfUKU",
        "outputId": "7a159952-d21d-4c56-8e9f-29fba1f68611"
      },
      "outputs": [
        {
          "output_type": "stream",
          "name": "stdout",
          "text": [
            "Time (s) to convolve 32x7x7x3 filter over random 100x100x100x3 images (batch x height x width x channel). Sum of ten runs.\n",
            "CPU (s):\n",
            "5.904669068000203\n",
            "GPU (s):\n",
            "0.06787491799968848\n",
            "GPU speedup over CPU: 86x\n"
          ]
        }
      ],
      "source": [
        "import tensorflow as tf\n",
        "import timeit\n",
        "\n",
        "device_name = tf.test.gpu_device_name()\n",
        "if device_name != '/device:GPU:0':\n",
        "  print(\n",
        "      '\\n\\nThis error most likely means that this notebook is not '\n",
        "      'configured to use a GPU.  Change this in Notebook Settings via the '\n",
        "      'command palette (cmd/ctrl-shift-P) or the Edit menu.\\n\\n')\n",
        "  raise SystemError('GPU device not found')\n",
        "\n",
        "def cpu():\n",
        "  with tf.device('/cpu:0'):\n",
        "    random_image_cpu = tf.random.normal((100, 100, 100, 3))\n",
        "    net_cpu = tf.keras.layers.Conv2D(32, 7)(random_image_cpu)\n",
        "    return tf.math.reduce_sum(net_cpu)\n",
        "\n",
        "def gpu():\n",
        "  with tf.device('/device:GPU:0'):\n",
        "    random_image_gpu = tf.random.normal((100, 100, 100, 3))\n",
        "    net_gpu = tf.keras.layers.Conv2D(32, 7)(random_image_gpu)\n",
        "    return tf.math.reduce_sum(net_gpu)\n",
        "  \n",
        "# We run each op once to warm up; see: https://stackoverflow.com/a/45067900\n",
        "cpu()\n",
        "gpu()\n",
        "\n",
        "# Run the op several times.\n",
        "print('Time (s) to convolve 32x7x7x3 filter over random 100x100x100x3 images '\n",
        "      '(batch x height x width x channel). Sum of ten runs.')\n",
        "print('CPU (s):')\n",
        "cpu_time = timeit.timeit('cpu()', number=10, setup=\"from __main__ import cpu\")\n",
        "print(cpu_time)\n",
        "print('GPU (s):')\n",
        "gpu_time = timeit.timeit('gpu()', number=10, setup=\"from __main__ import gpu\")\n",
        "print(gpu_time)\n",
        "print('GPU speedup over CPU: {}x'.format(int(cpu_time/gpu_time)))"
      ]
    },
    {
      "cell_type": "markdown",
      "metadata": {
        "id": "c24FwQzHfXaY"
      },
      "source": [
        "#Dependencies"
      ]
    },
    {
      "cell_type": "code",
      "execution_count": 4,
      "metadata": {
        "id": "zk1osSsQfW2q"
      },
      "outputs": [],
      "source": [
        "import numpy as np\n",
        "import random\n",
        "import pandas as pd\n",
        "import seaborn as sns\n",
        "import matplotlib.pyplot as plt\n",
        "from sklearn.decomposition import PCA\n",
        "from sklearn.manifold import TSNE\n",
        "from tensorflow import keras\n",
        "from tensorflow.keras import layers\n",
        "from keras.models import Model\n",
        "import keras.utils\n",
        "from keras import utils as np_utils\n",
        "from keras.models import Sequential\n",
        "from keras.layers import  Dense, Dropout, Activation, Flatten\n",
        "from librosa.core import stft,istft\n",
        "import soundfile as sf\n",
        "from sklearn.model_selection import train_test_split\n",
        "import tensorflow as tf\n",
        "import matplotlib.pyplot as plt\n",
        "%matplotlib inline"
      ]
    },
    {
      "cell_type": "markdown",
      "metadata": {
        "id": "5QdIHGFofjDa"
      },
      "source": [
        "##Load Data Set"
      ]
    },
    {
      "cell_type": "code",
      "execution_count": 5,
      "metadata": {
        "colab": {
          "base_uri": "https://localhost:8080/"
        },
        "id": "ek8G-JizfgtZ",
        "outputId": "cbce1905-bab0-4faa-d6b6-c0ee72c1142c"
      },
      "outputs": [
        {
          "output_type": "stream",
          "name": "stdout",
          "text": [
            "Drive already mounted at /content/drive; to attempt to forcibly remount, call drive.mount(\"/content/drive\", force_remount=True).\n"
          ]
        }
      ],
      "source": [
        "from google.colab import drive\n",
        "drive.mount('/content/drive')"
      ]
    },
    {
      "cell_type": "code",
      "execution_count": 6,
      "metadata": {
        "colab": {
          "base_uri": "https://localhost:8080/"
        },
        "id": "28ee0_I2gRl5",
        "outputId": "719f8d2e-1e03-40c1-c82f-314a1818a3d0"
      },
      "outputs": [
        {
          "output_type": "stream",
          "name": "stdout",
          "text": [
            "dimensions of X_train : (60000, 28, 28)\n",
            "dimensions of y_train : (60000,)\n",
            "dimensions of X_test  : (10000, 28, 28)\n",
            "dimensions of y_test  : (10000,)\n"
          ]
        }
      ],
      "source": [
        "data = tf.keras.datasets.mnist\n",
        "(X_train, y_train), (X_test, y_test) = data.load_data()\n",
        "\n",
        "print('dimensions of X_train : {}'.format(X_train.shape))\n",
        "print('dimensions of y_train : {}'.format(y_train.shape))\n",
        "print('dimensions of X_test  : {}'.format(X_test.shape))\n",
        "print('dimensions of y_test  : {}'.format(y_test.shape))"
      ]
    },
    {
      "cell_type": "code",
      "execution_count": 7,
      "metadata": {
        "colab": {
          "base_uri": "https://localhost:8080/",
          "height": 282
        },
        "id": "T8xftSkyg1rn",
        "outputId": "6fe4263b-78ff-4b3f-f6c2-4a4ee5ca0830"
      },
      "outputs": [
        {
          "output_type": "execute_result",
          "data": {
            "text/plain": [
              "<matplotlib.image.AxesImage at 0x7efa917819d0>"
            ]
          },
          "metadata": {},
          "execution_count": 7
        },
        {
          "output_type": "display_data",
          "data": {
            "text/plain": [
              "<Figure size 432x288 with 1 Axes>"
            ],
            "image/png": "[encoded data removed]"
          },
          "metadata": {
            "needs_background": "light"
          }
        }
      ],
      "source": [
        "import matplotlib.pyplot as plt\n",
        "\n",
        "plt.imshow(X_train[1])"
      ]
    },
    {
      "cell_type": "markdown",
      "metadata": {
        "id": "a0O08JWthXB1"
      },
      "source": [
        "##Split Train Data Set to Train and Validation"
      ]
    },
    {
      "cell_type": "code",
      "execution_count": 8,
      "metadata": {
        "colab": {
          "base_uri": "https://localhost:8080/"
        },
        "id": "rOPHFY6dhWPv",
        "outputId": "ced582c9-33b9-49fb-d5d8-0cbd8c190563"
      },
      "outputs": [
        {
          "output_type": "stream",
          "name": "stdout",
          "text": [
            "dimensions of X_train2 : (48000, 28, 28)\n",
            "dimensions of y_train2 : (48000,)\n",
            "dimensions of X_val  : (12000, 28, 28)\n",
            "dimensions of y_val  : (12000,)\n"
          ]
        }
      ],
      "source": [
        "from sklearn.model_selection import train_test_split\n",
        "\n",
        "X_train2,X_val,y_train2,y_val = train_test_split(X_train,y_train,train_size = 0.8,random_state= None, shuffle=False, stratify=None)\n",
        "\n",
        "print('dimensions of X_train2 : {}'.format(X_train2.shape))\n",
        "print('dimensions of y_train2 : {}'.format(y_train2.shape))\n",
        "print('dimensions of X_val  : {}'.format(X_val.shape))\n",
        "print('dimensions of y_val  : {}'.format(y_val.shape))"
      ]
    },
    {
      "cell_type": "code",
      "execution_count": 9,
      "metadata": {
        "id": "_o_py04Yp5fr"
      },
      "outputs": [],
      "source": [
        "X_train2 = X_train2.astype('float32')\n",
        "X_val = X_val.astype('float32')\n",
        "X_test = X_test.astype('float32')"
      ]
    },
    {
      "cell_type": "markdown",
      "metadata": {
        "id": "w9VTrX5PkCxt"
      },
      "source": [
        "##Model\n",
        "\n",
        "Scale data to range of [0,1] (X_train2,X_val,X_test) and one hot encode all images (Y)."
      ]
    },
    {
      "cell_type": "code",
      "execution_count": 10,
      "metadata": {
        "colab": {
          "base_uri": "https://localhost:8080/",
          "height": 54
        },
        "id": "pv25hFwDhOv9",
        "outputId": "5bb7ce91-ffc4-49e1-b70e-5b74d13c1cb6"
      },
      "outputs": [
        {
          "output_type": "execute_result",
          "data": {
            "text/plain": [
              "'X_train2_sc = X_train2/255    # Broadcast this operation to all values\\nX_val_sc = X_val/255 \\nX_test_sc = X_test/255'"
            ],
            "application/vnd.google.colaboratory.intrinsic+json": {
              "type": "string"
            }
          },
          "metadata": {},
          "execution_count": 10
        }
      ],
      "source": [
        "\n",
        "'''X_train2_sc = X_train2/255    # Broadcast this operation to all values\n",
        "X_val_sc = X_val/255 \n",
        "X_test_sc = X_test/255'''"
      ]
    },
    {
      "cell_type": "code",
      "execution_count": 11,
      "metadata": {
        "colab": {
          "base_uri": "https://localhost:8080/",
          "height": 282
        },
        "id": "DPoggc7tqo-l",
        "outputId": "ba9fbbd2-cd23-4e2c-f1c2-fb2308cd3969"
      },
      "outputs": [
        {
          "output_type": "execute_result",
          "data": {
            "text/plain": [
              "<matplotlib.image.AxesImage at 0x7efa91274c10>"
            ]
          },
          "metadata": {},
          "execution_count": 11
        },
        {
          "output_type": "display_data",
          "data": {
            "text/plain": [
              "<Figure size 432x288 with 1 Axes>"
            ],
            "image/png": "[encoded data removed]"
          },
          "metadata": {
            "needs_background": "light"
          }
        }
      ],
      "source": [
        "plt.imshow(X_train2[1])"
      ]
    },
    {
      "cell_type": "code",
      "execution_count": 12,
      "metadata": {
        "id": "ll6vzBuTrBNA"
      },
      "outputs": [],
      "source": [
        "model = tf.keras.Sequential([\n",
        "    tf.keras.layers.Reshape(target_shape=(28 * 28,), input_shape=(28,28)),\n",
        "    tf.keras.layers.Dense(units=1024,activation='relu', name=\"target_layer1\"),\n",
        "    tf.keras.layers.Dense(units=1024,activation='relu', name=\"target_layer2\"),\n",
        "    tf.keras.layers.Dense(units=1024,activation='relu', name=\"target_layer3\"),\n",
        "    tf.keras.layers.Dense(units=1024,activation='relu', name=\"target_layer4\"),\n",
        "    tf.keras.layers.Dense(units=1024,activation='relu', name=\"target_layer5\"),\n",
        "    tf.keras.layers.Dense(units=10,activation='softmax')\n",
        "  ])"
      ]
    },
    {
      "cell_type": "code",
      "execution_count": 13,
      "metadata": {
        "colab": {
          "base_uri": "https://localhost:8080/"
        },
        "id": "33gFDld0rSGf",
        "outputId": "dc3d6076-c0e1-4ffb-a4b8-03d28db13c63"
      },
      "outputs": [
        {
          "output_type": "stream",
          "name": "stdout",
          "text": [
            "Model: \"sequential\"\n",
            "_________________________________________________________________\n",
            " Layer (type)                Output Shape              Param #   \n",
            "=================================================================\n",
            " reshape (Reshape)           (None, 784)               0         \n",
            "                                                                 \n",
            " target_layer1 (Dense)       (None, 1024)              803840    \n",
            "                                                                 \n",
            " target_layer2 (Dense)       (None, 1024)              1049600   \n",
            "                                                                 \n",
            " target_layer3 (Dense)       (None, 1024)              1049600   \n",
            "                                                                 \n",
            " target_layer4 (Dense)       (None, 1024)              1049600   \n",
            "                                                                 \n",
            " target_layer5 (Dense)       (None, 1024)              1049600   \n",
            "                                                                 \n",
            " dense (Dense)               (None, 10)                10250     \n",
            "                                                                 \n",
            "=================================================================\n",
            "Total params: 5,012,490\n",
            "Trainable params: 5,012,490\n",
            "Non-trainable params: 0\n",
            "_________________________________________________________________\n"
          ]
        }
      ],
      "source": [
        "model.summary()"
      ]
    },
    {
      "cell_type": "code",
      "execution_count": 14,
      "metadata": {
        "id": "Z3fQmVSdrUo3"
      },
      "outputs": [],
      "source": [
        "model.compile(optimizer = 'adam',\n",
        "              loss = tf.losses.SparseCategoricalCrossentropy(from_logits=True),metrics='accuracy')"
      ]
    },
    {
      "cell_type": "code",
      "execution_count": 15,
      "metadata": {
        "colab": {
          "base_uri": "https://localhost:8080/"
        },
        "id": "FS_zCJAJrwJm",
        "outputId": "f9099674-9c30-41de-91b3-80db9b50e135"
      },
      "outputs": [
        {
          "output_type": "stream",
          "name": "stdout",
          "text": [
            "Epoch 1/30\n"
          ]
        },
        {
          "output_type": "stream",
          "name": "stderr",
          "text": [
            "/usr/local/lib/python3.7/dist-packages/tensorflow/python/util/dispatch.py:1082: UserWarning: \"`sparse_categorical_crossentropy` received `from_logits=True`, but the `output` argument was produced by a sigmoid or softmax activation and thus does not represent logits. Was this intended?\"\n",
            "  return dispatch_target(*args, **kwargs)\n"
          ]
        },
        {
          "output_type": "stream",
          "name": "stdout",
          "text": [
            "188/188 [==============================] - 3s 10ms/step - loss: 4.3650 - accuracy: 0.8418\n",
            "Epoch 2/30\n",
            "188/188 [==============================] - 1s 7ms/step - loss: 0.1179 - accuracy: 0.9635\n",
            "Epoch 3/30\n",
            "188/188 [==============================] - 1s 5ms/step - loss: 0.0745 - accuracy: 0.9765\n",
            "Epoch 4/30\n",
            "188/188 [==============================] - 1s 5ms/step - loss: 0.0613 - accuracy: 0.9803\n",
            "Epoch 5/30\n",
            "188/188 [==============================] - 1s 5ms/step - loss: 0.0488 - accuracy: 0.9844\n",
            "Epoch 6/30\n",
            "188/188 [==============================] - 1s 5ms/step - loss: 0.0436 - accuracy: 0.9865\n",
            "Epoch 7/30\n",
            "188/188 [==============================] - 1s 5ms/step - loss: 0.0430 - accuracy: 0.9865\n",
            "Epoch 8/30\n",
            "188/188 [==============================] - 1s 5ms/step - loss: 0.0443 - accuracy: 0.9861\n",
            "Epoch 9/30\n",
            "188/188 [==============================] - 1s 5ms/step - loss: 0.0309 - accuracy: 0.9905\n",
            "Epoch 10/30\n",
            "188/188 [==============================] - 1s 5ms/step - loss: 0.0312 - accuracy: 0.9901\n",
            "Epoch 11/30\n",
            "188/188 [==============================] - 1s 5ms/step - loss: 0.0323 - accuracy: 0.9899\n",
            "Epoch 12/30\n",
            "188/188 [==============================] - 1s 5ms/step - loss: 0.0315 - accuracy: 0.9909\n",
            "Epoch 13/30\n",
            "188/188 [==============================] - 1s 5ms/step - loss: 0.0272 - accuracy: 0.9916\n",
            "Epoch 14/30\n",
            "188/188 [==============================] - 1s 5ms/step - loss: 0.0326 - accuracy: 0.9902\n",
            "Epoch 15/30\n",
            "188/188 [==============================] - 1s 5ms/step - loss: 0.0293 - accuracy: 0.9911\n",
            "Epoch 16/30\n",
            "188/188 [==============================] - 1s 5ms/step - loss: 0.0277 - accuracy: 0.9915\n",
            "Epoch 17/30\n",
            "188/188 [==============================] - 1s 5ms/step - loss: 0.0260 - accuracy: 0.9920\n",
            "Epoch 18/30\n",
            "188/188 [==============================] - 1s 5ms/step - loss: 0.0260 - accuracy: 0.9922\n",
            "Epoch 19/30\n",
            "188/188 [==============================] - 1s 6ms/step - loss: 0.0230 - accuracy: 0.9934\n",
            "Epoch 20/30\n",
            "188/188 [==============================] - 1s 6ms/step - loss: 0.0267 - accuracy: 0.9925\n",
            "Epoch 21/30\n",
            "188/188 [==============================] - 1s 6ms/step - loss: 0.0248 - accuracy: 0.9930\n",
            "Epoch 22/30\n",
            "188/188 [==============================] - 1s 5ms/step - loss: 0.0273 - accuracy: 0.9929\n",
            "Epoch 23/30\n",
            "188/188 [==============================] - 1s 5ms/step - loss: 0.0260 - accuracy: 0.9932\n",
            "Epoch 24/30\n",
            "188/188 [==============================] - 1s 5ms/step - loss: 0.0264 - accuracy: 0.9932\n",
            "Epoch 25/30\n",
            "188/188 [==============================] - 1s 5ms/step - loss: 0.0187 - accuracy: 0.9947\n",
            "Epoch 26/30\n",
            "188/188 [==============================] - 1s 5ms/step - loss: 0.0162 - accuracy: 0.9960\n",
            "Epoch 27/30\n",
            "188/188 [==============================] - 1s 5ms/step - loss: 0.0225 - accuracy: 0.9942\n",
            "Epoch 28/30\n",
            "188/188 [==============================] - 1s 5ms/step - loss: 0.0248 - accuracy: 0.9934\n",
            "Epoch 29/30\n",
            "188/188 [==============================] - 1s 5ms/step - loss: 0.0214 - accuracy: 0.9947\n",
            "Epoch 30/30\n",
            "188/188 [==============================] - 1s 5ms/step - loss: 0.0228 - accuracy: 0.9945\n"
          ]
        }
      ],
      "source": [
        "history = model.fit(X_train2,y_train2,epochs = 30, batch_size = 256 )"
      ]
    },
    {
      "cell_type": "code",
      "execution_count": 16,
      "metadata": {
        "colab": {
          "base_uri": "https://localhost:8080/"
        },
        "id": "H7FvjO3gu9kg",
        "outputId": "99aed4a6-7878-455e-cdf2-a7850ee54921"
      },
      "outputs": [
        {
          "output_type": "stream",
          "name": "stdout",
          "text": [
            "313/313 [==============================] - 1s 3ms/step - loss: 0.1513 - accuracy: 0.9745\n"
          ]
        }
      ],
      "source": [
        "accuracy = model.evaluate(X_test,y_test)"
      ]
    },
    {
      "cell_type": "code",
      "execution_count": 17,
      "metadata": {
        "colab": {
          "base_uri": "https://localhost:8080/"
        },
        "id": "EPGB9b-rvX1V",
        "outputId": "bc847a0e-82c1-4329-a2b7-b107841ecda6"
      },
      "outputs": [
        {
          "output_type": "stream",
          "name": "stdout",
          "text": [
            "The Accuracy of the Model is 0.9745000004768372\n"
          ]
        }
      ],
      "source": [
        "print(\"The Accuracy of the Model is {}\".format(accuracy[-1]))"
      ]
    },
    {
      "cell_type": "markdown",
      "source": [
        "###Save the Model"
      ],
      "metadata": {
        "id": "rserYOf-5s0T"
      }
    },
    {
      "cell_type": "code",
      "execution_count": 18,
      "metadata": {
        "id": "zVQSfi2ivtdO"
      },
      "outputs": [],
      "source": [
        "model_path = '/content/drive/MyDrive/ENGR-E-533 /DATA/HW4/Models/Q1_baselinemodel.h5'"
      ]
    },
    {
      "cell_type": "code",
      "source": [
        "model.save(model_path)"
      ],
      "metadata": {
        "id": "JfnAOy_z6Gv2"
      },
      "execution_count": 19,
      "outputs": []
    },
    {
      "cell_type": "code",
      "source": [
        "model.layers"
      ],
      "metadata": {
        "colab": {
          "base_uri": "https://localhost:8080/"
        },
        "id": "ArpR9HCAm-xF",
        "outputId": "9f3009b1-7312-47eb-cefa-7aa2d63b11ec"
      },
      "execution_count": 20,
      "outputs": [
        {
          "output_type": "execute_result",
          "data": {
            "text/plain": [
              "[<keras.layers.reshaping.reshape.Reshape at 0x7efa91238b10>,\n",
              " <keras.layers.core.dense.Dense at 0x7efa91238990>,\n",
              " <keras.layers.core.dense.Dense at 0x7efa91238250>,\n",
              " <keras.layers.core.dense.Dense at 0x7efa91238e90>,\n",
              " <keras.layers.core.dense.Dense at 0x7efa92918b50>,\n",
              " <keras.layers.core.dense.Dense at 0x7efa9121f250>,\n",
              " <keras.layers.core.dense.Dense at 0x7efa91218e50>]"
            ]
          },
          "metadata": {},
          "execution_count": 20
        }
      ]
    },
    {
      "cell_type": "code",
      "source": [
        "length = 0\n",
        "for i in model.layers:\n",
        "  length = length + 1\n",
        "length = length -1 # remove reshape layer as it has no weight\n",
        "print(length)"
      ],
      "metadata": {
        "colab": {
          "base_uri": "https://localhost:8080/"
        },
        "id": "GWRQ3t2zcLhS",
        "outputId": "38527c9b-a799-49b5-8ee9-dbd92d414305"
      },
      "execution_count": 21,
      "outputs": [
        {
          "output_type": "stream",
          "name": "stdout",
          "text": [
            "6\n"
          ]
        }
      ]
    },
    {
      "cell_type": "code",
      "source": [
        "len(model.layers)"
      ],
      "metadata": {
        "colab": {
          "base_uri": "https://localhost:8080/"
        },
        "id": "UPTv7iWsohD3",
        "outputId": "ed76ff34-200e-4c68-85aa-dc1a8e66418b"
      },
      "execution_count": 22,
      "outputs": [
        {
          "output_type": "execute_result",
          "data": {
            "text/plain": [
              "7"
            ]
          },
          "metadata": {},
          "execution_count": 22
        }
      ]
    },
    {
      "cell_type": "markdown",
      "source": [
        "###Load Saved Model"
      ],
      "metadata": {
        "id": "XCpQIv6t6N7e"
      }
    },
    {
      "cell_type": "code",
      "source": [
        "model = keras.models.load_model(model_path)"
      ],
      "metadata": {
        "id": "XhL9boID6Uhe"
      },
      "execution_count": 23,
      "outputs": []
    },
    {
      "cell_type": "markdown",
      "source": [
        "So SVD reduces dimensionality of the weight matrix which essentially is the importance given to each feature and cumulative evaluations taken by the previous nodes.\n",
        "\n",
        "\n",
        "\n",
        "So Flow:\n",
        "\n",
        "1. Store all of the weights in a list\n",
        "2. loop over the length of list and take SVD of each layers weights.\n",
        "store S V and D to a parent list of S V and D containing the corresponding S ( V or D ) of that layer.\n",
        "3. Loop for rank of matrix \n",
        "4. Call a function to parse S,V and D for that many columns for every layer\n",
        "5. Multiply them to get layer wise weights\n",
        "6. Apply the model to it"
      ],
      "metadata": {
        "id": "qw8NIhs7ZwxN"
      }
    },
    {
      "cell_type": "code",
      "source": [
        "weight =[]\n",
        "for i in range(1,length):\n",
        "  weight_layer = model.get_layer(index = i).get_weights()[0]\n",
        "  #print(\"Weight layer is {} and len {} and shape {}\".format(i,len(weight_layer),weight_layer.shape))\n",
        "  print(\"Weight layer is {}  and shape {}\".format(i,weight_layer.shape))\n",
        "  weight.append(weight_layer)\n",
        "\n",
        "\n"
      ],
      "metadata": {
        "colab": {
          "base_uri": "https://localhost:8080/"
        },
        "id": "5cFrBUSBb98k",
        "outputId": "7a1b572f-fff7-4d42-fa5c-777c2973cbdc"
      },
      "execution_count": 59,
      "outputs": [
        {
          "output_type": "stream",
          "name": "stdout",
          "text": [
            "Weight layer is 1  and shape (784, 1024)\n",
            "Weight layer is 2  and shape (1024, 1024)\n",
            "Weight layer is 3  and shape (1024, 1024)\n",
            "Weight layer is 4  and shape (1024, 1024)\n",
            "Weight layer is 5  and shape (1024, 1024)\n"
          ]
        }
      ]
    },
    {
      "cell_type": "code",
      "source": [
        "print(len(weight))"
      ],
      "metadata": {
        "colab": {
          "base_uri": "https://localhost:8080/"
        },
        "id": "jmS0csTlqwgo",
        "outputId": "9032695e-26fb-405b-8cde-cdecdda49541"
      },
      "execution_count": 27,
      "outputs": [
        {
          "output_type": "stream",
          "name": "stdout",
          "text": [
            "5\n"
          ]
        }
      ]
    },
    {
      "cell_type": "code",
      "source": [
        "S = []\n",
        "V = []\n",
        "D = []\n",
        "\n",
        "for i in range(1,length):\n",
        "  sum, value, direction = tf.linalg.svd(weight[i-1])\n",
        "  S.append(tf.linalg.diag(sum))\n",
        "  V.append(tf.transpose(value))\n",
        "  D.append(direction)\n",
        "\n",
        "print(\"S length is \",len(S))\n",
        "\n",
        "print(\"Shape of S is layer 0 and onwards  :{0} & {1}\".format(S[0].shape,S[1].shape))\n",
        "print(\"Shape of V is layer 0 and onwards  :{0} & {1}\".format(V[0].shape,V[1].shape))\n",
        "print(\"Shape of D is layer 0 and onwards  :{0} & {1}\".format(D[0].shape,D[1].shape))\n"
      ],
      "metadata": {
        "colab": {
          "base_uri": "https://localhost:8080/"
        },
        "id": "uObf27e_eUKe",
        "outputId": "693c7dac-7556-4511-d4a4-7de8576e9806"
      },
      "execution_count": 61,
      "outputs": [
        {
          "output_type": "stream",
          "name": "stdout",
          "text": [
            "S length is  5\n",
            "Shape of S is layer 0 and onwards  :(784, 784) & (1024, 1024)\n",
            "Shape of V is layer 0 and onwards  :(784, 784) & (1024, 1024)\n",
            "Shape of D is layer 0 and onwards  :(1024, 784) & (1024, 1024)\n"
          ]
        }
      ]
    },
    {
      "cell_type": "code",
      "source": [
        "S1 = S[0][:,:]\n",
        "print(S1[:10,:10])"
      ],
      "metadata": {
        "colab": {
          "base_uri": "https://localhost:8080/"
        },
        "id": "GNLPSD2_41ES",
        "outputId": "26f53d87-c772-4440-e74a-7f36777b831d"
      },
      "execution_count": 62,
      "outputs": [
        {
          "output_type": "stream",
          "name": "stdout",
          "text": [
            "tf.Tensor(\n",
            "[[6.281983  0.        0.        0.        0.        0.        0.\n",
            "  0.        0.        0.       ]\n",
            " [0.        4.589154  0.        0.        0.        0.        0.\n",
            "  0.        0.        0.       ]\n",
            " [0.        0.        4.2182217 0.        0.        0.        0.\n",
            "  0.        0.        0.       ]\n",
            " [0.        0.        0.        4.149649  0.        0.        0.\n",
            "  0.        0.        0.       ]\n",
            " [0.        0.        0.        0.        3.9736855 0.        0.\n",
            "  0.        0.        0.       ]\n",
            " [0.        0.        0.        0.        0.        3.8392446 0.\n",
            "  0.        0.        0.       ]\n",
            " [0.        0.        0.        0.        0.        0.        3.8109903\n",
            "  0.        0.        0.       ]\n",
            " [0.        0.        0.        0.        0.        0.        0.\n",
            "  3.665675  0.        0.       ]\n",
            " [0.        0.        0.        0.        0.        0.        0.\n",
            "  0.        3.6366358 0.       ]\n",
            " [0.        0.        0.        0.        0.        0.        0.\n",
            "  0.        0.        3.616989 ]], shape=(10, 10), dtype=float32)\n"
          ]
        }
      ]
    },
    {
      "cell_type": "markdown",
      "source": [
        "We now have the weights and SVD components with S as a diagonal matrix.\n",
        "\n",
        "1. Now we need to loop over the rank given.\n",
        "\n",
        "2. Subset each Component ( S V and D) to the rank.\n",
        "\n",
        "\n",
        "3. Calculate the weight for each layer using the S,V and D  for that subset rank. \n",
        "\n",
        "4. Use the new weights for model "
      ],
      "metadata": {
        "id": "ezcmRL7ChXy_"
      }
    },
    {
      "cell_type": "code",
      "source": [
        "ranks = [10,20,50,100,200,784] \n",
        "# d_full is consideration of all eigenvector in D hence process all columns in S,V and D"
      ],
      "metadata": {
        "id": "aVy-P8ixh6at"
      },
      "execution_count": 48,
      "outputs": []
    },
    {
      "cell_type": "code",
      "source": [
        "model_length = len(model.layers)\n"
      ],
      "metadata": {
        "id": "OMNPr1J1lj6k"
      },
      "execution_count": 33,
      "outputs": []
    },
    {
      "cell_type": "code",
      "source": [
        "bias =[]\n",
        "for i in range(1,length):\n",
        "  bias_layer = model.get_layer(index = i).get_weights()[1]\n",
        "  #print(\"Weight layer is {} and len {} and shape {}\".format(i,len(weight_layer),weight_layer.shape))\n",
        "  print(\"bias layer is {}  and shape {}\".format(i,bias_layer.shape))\n",
        "  bias.append(bias_layer)"
      ],
      "metadata": {
        "colab": {
          "base_uri": "https://localhost:8080/"
        },
        "id": "VaX1m6WZ-vGH",
        "outputId": "d2fb0ae4-08a1-49f9-d71f-161069e6cfb6"
      },
      "execution_count": 65,
      "outputs": [
        {
          "output_type": "stream",
          "name": "stdout",
          "text": [
            "bias layer is 1  and shape (1024,)\n",
            "bias layer is 2  and shape (1024,)\n",
            "bias layer is 3  and shape (1024,)\n",
            "bias layer is 4  and shape (1024,)\n",
            "bias layer is 5  and shape (1024,)\n"
          ]
        }
      ]
    },
    {
      "cell_type": "code",
      "source": [
        "B1 = bias[0]\n",
        "B2 = bias[1]\n",
        "B3 = bias[2]\n",
        "B4 = bias[3]\n",
        "B5 = bias[4]\n"
      ],
      "metadata": {
        "id": "_OmBRuvy-nnd"
      },
      "execution_count": 67,
      "outputs": []
    },
    {
      "cell_type": "code",
      "source": [
        "accuracy = []\n",
        "\n",
        "for rank in ranks:\n",
        "  print(type(rank))\n",
        "  S1 = S[0][:,:]\n",
        "  V1 = V[0][:,:]\n",
        "  D1 = D[0][:,:]\n",
        "  W1 = tf.matmul(tf.matmul(D1[:, :rank], S1[:rank, :rank]), V1[:rank, :])\n",
        "\n",
        "  S2 = S[1][:,:]\n",
        "  V2 = V[1][:,:]\n",
        "  D2 = D[1][:,:]\n",
        "  W2 = tf.matmul(tf.matmul(D2[:, :rank], S2[:rank, :rank]), V2[:rank, :])\n",
        "\n",
        "  S3 = S[2][:,:]\n",
        "  V3 = V[2][:,:]\n",
        "  D3 = D[2][:,:]\n",
        "  W3 = tf.matmul(tf.matmul(D3[:, :rank], S3[:rank, :rank]), V3[:rank, :])\n",
        "\n",
        "  S4 = S[3][:,:]\n",
        "  V4 = V[3][:,:]\n",
        "  D4 = D[3][:,:]\n",
        "  W4 = tf.matmul(tf.matmul(D4[:, :rank], S4[:rank, :rank]), V4[:rank, :])\n",
        "\n",
        "  S5 = S[4][:,:]\n",
        "  V5 = V[4][:,:]\n",
        "  D5 = D[4][:,:]\n",
        "  W5 = tf.matmul(tf.matmul(D5[:, :rank], S5[:rank, :rank]), V5[:rank, :])\n",
        "\n",
        "\n",
        "\n",
        "  model.get_layer(index=1).set_weights([W1,B1])\n",
        "  model.get_layer(index=2).set_weights([W2,B2])\n",
        "  model.get_layer(index=3).set_weights([W3,B3])\n",
        "  model.get_layer(index=4).set_weights([W4,B4])\n",
        "  model.get_layer(index=5).set_weights([W5,B5])\n",
        "\n",
        "  acc = model.evaluate(X_test,y_test,verbose = 1)\n",
        "  accuracy.append(acc[1])"
      ],
      "metadata": {
        "colab": {
          "base_uri": "https://localhost:8080/",
          "height": 368
        },
        "id": "Ys2tLAGE1dYK",
        "outputId": "011cb6e6-14e4-4754-d6a9-cd041e5f7025"
      },
      "execution_count": 68,
      "outputs": [
        {
          "output_type": "stream",
          "name": "stdout",
          "text": [
            "<class 'int'>\n"
          ]
        },
        {
          "output_type": "error",
          "ename": "ValueError",
          "evalue": "ignored",
          "traceback": [
            "\u001b[0;31m---------------------------------------------------------------------------\u001b[0m",
            "\u001b[0;31mValueError\u001b[0m                                Traceback (most recent call last)",
            "\u001b[0;32m<ipython-input-68-94ba1b49d70e>\u001b[0m in \u001b[0;36m<module>\u001b[0;34m\u001b[0m\n\u001b[1;32m     30\u001b[0m \u001b[0;34m\u001b[0m\u001b[0m\n\u001b[1;32m     31\u001b[0m \u001b[0;34m\u001b[0m\u001b[0m\n\u001b[0;32m---> 32\u001b[0;31m   \u001b[0mmodel\u001b[0m\u001b[0;34m.\u001b[0m\u001b[0mget_layer\u001b[0m\u001b[0;34m(\u001b[0m\u001b[0mindex\u001b[0m\u001b[0;34m=\u001b[0m\u001b[0;36m1\u001b[0m\u001b[0;34m)\u001b[0m\u001b[0;34m.\u001b[0m\u001b[0mset_weights\u001b[0m\u001b[0;34m(\u001b[0m\u001b[0;34m[\u001b[0m\u001b[0mW1\u001b[0m\u001b[0;34m,\u001b[0m\u001b[0mB1\u001b[0m\u001b[0;34m]\u001b[0m\u001b[0;34m)\u001b[0m\u001b[0;34m\u001b[0m\u001b[0;34m\u001b[0m\u001b[0m\n\u001b[0m\u001b[1;32m     33\u001b[0m   \u001b[0mmodel\u001b[0m\u001b[0;34m.\u001b[0m\u001b[0mget_layer\u001b[0m\u001b[0;34m(\u001b[0m\u001b[0mindex\u001b[0m\u001b[0;34m=\u001b[0m\u001b[0;36m2\u001b[0m\u001b[0;34m)\u001b[0m\u001b[0;34m.\u001b[0m\u001b[0mset_weights\u001b[0m\u001b[0;34m(\u001b[0m\u001b[0;34m[\u001b[0m\u001b[0mW2\u001b[0m\u001b[0;34m,\u001b[0m\u001b[0mB2\u001b[0m\u001b[0;34m]\u001b[0m\u001b[0;34m)\u001b[0m\u001b[0;34m\u001b[0m\u001b[0;34m\u001b[0m\u001b[0m\n\u001b[1;32m     34\u001b[0m   \u001b[0mmodel\u001b[0m\u001b[0;34m.\u001b[0m\u001b[0mget_layer\u001b[0m\u001b[0;34m(\u001b[0m\u001b[0mindex\u001b[0m\u001b[0;34m=\u001b[0m\u001b[0;36m3\u001b[0m\u001b[0;34m)\u001b[0m\u001b[0;34m.\u001b[0m\u001b[0mset_weights\u001b[0m\u001b[0;34m(\u001b[0m\u001b[0;34m[\u001b[0m\u001b[0mW3\u001b[0m\u001b[0;34m,\u001b[0m\u001b[0mB3\u001b[0m\u001b[0;34m]\u001b[0m\u001b[0;34m)\u001b[0m\u001b[0;34m\u001b[0m\u001b[0;34m\u001b[0m\u001b[0m\n",
            "\u001b[0;32m/usr/local/lib/python3.7/dist-packages/keras/engine/base_layer.py\u001b[0m in \u001b[0;36mset_weights\u001b[0;34m(self, weights)\u001b[0m\n\u001b[1;32m   1642\u001b[0m         \u001b[0;32mif\u001b[0m \u001b[0;32mnot\u001b[0m \u001b[0mref_shape\u001b[0m\u001b[0;34m.\u001b[0m\u001b[0mis_compatible_with\u001b[0m\u001b[0;34m(\u001b[0m\u001b[0mweight_shape\u001b[0m\u001b[0;34m)\u001b[0m\u001b[0;34m:\u001b[0m\u001b[0;34m\u001b[0m\u001b[0;34m\u001b[0m\u001b[0m\n\u001b[1;32m   1643\u001b[0m           raise ValueError(\n\u001b[0;32m-> 1644\u001b[0;31m               \u001b[0;34mf'Layer {self.name} weight shape {ref_shape} '\u001b[0m\u001b[0;34m\u001b[0m\u001b[0;34m\u001b[0m\u001b[0m\n\u001b[0m\u001b[1;32m   1645\u001b[0m               \u001b[0;34m'is not compatible with provided weight '\u001b[0m\u001b[0;34m\u001b[0m\u001b[0;34m\u001b[0m\u001b[0m\n\u001b[1;32m   1646\u001b[0m               f'shape {weight_shape}.')\n",
            "\u001b[0;31mValueError\u001b[0m: Layer target_layer1 weight shape (784, 1024) is not compatible with provided weight shape (1024, 784)."
          ]
        }
      ]
    },
    {
      "cell_type": "code",
      "source": [
        "accuracy =[]\n",
        "for rank in ranks :\n",
        "  S_rank =[]\n",
        "  D_rank = []\n",
        "  V_rank = []\n",
        "  if i == 'd_full':\n",
        "    S_rank = [ s_index for s_index in S]\n",
        "    D_rank = [ d_index for d_index in D]\n",
        "    V_rank = [v_index.numpy().T for v_index in V]\n",
        "  else:\n",
        "    S_rank = [ s_index[:rank,:rank] for s_index in S]\n",
        "    D_rank = [ d_index[:,:rank] for d_index in D]\n",
        "    V_rank = [v_index[:,:rank].numpy().T for v_index in V] \n",
        "    # In V_rank: We are doing Transpose action later hence it is [:,:rank] if it was after transpose then it would be [:rank,:]\n",
        "  print(type(S_rank))\n",
        "  '''\n",
        "  weights_calc =[]\n",
        "  bias_calc = []\n",
        "  for index in range(model_length):\n",
        "    if index == 6:\n",
        "      weights_calc.append(model.layers[-1].get_weight()[0])\n",
        "      bias_calc.append(model.layers[-1].get_weight()[1]) \n",
        "    else:\n",
        "     #weights_calc.append(D_rank[index].np.dot(S_rank[index]).dot(V_rank[index]))\n",
        "      weights_calc.append(tf.matmul(tf.matmul(D_rank[index], S_rank[index]), V_rank[index]))\n",
        "      bias_calc.append(bias[index])\n",
        "  \n",
        "  model.set_weights(weights_calc)\n",
        "  acc = model.evaluate(X_test,y_test,verbose = 1)\n",
        "  accuracy.append(acc[1])\n",
        "\n",
        "    '''\n",
        "    \n",
        "\n",
        "\n"
      ],
      "metadata": {
        "colab": {
          "base_uri": "https://localhost:8080/",
          "height": 436
        },
        "id": "zf8XTsPBiSbZ",
        "outputId": "0da1d2e2-bc97-4884-87b3-aacae09ec6c6"
      },
      "execution_count": 41,
      "outputs": [
        {
          "output_type": "stream",
          "name": "stdout",
          "text": [
            "<class 'list'>\n",
            "<class 'list'>\n",
            "<class 'list'>\n",
            "<class 'list'>\n",
            "<class 'list'>\n"
          ]
        },
        {
          "output_type": "error",
          "ename": "TypeError",
          "evalue": "ignored",
          "traceback": [
            "\u001b[0;31m---------------------------------------------------------------------------\u001b[0m",
            "\u001b[0;31mTypeError\u001b[0m                                 Traceback (most recent call last)",
            "\u001b[0;32m<ipython-input-41-f3879765fd70>\u001b[0m in \u001b[0;36m<module>\u001b[0;34m\u001b[0m\n\u001b[1;32m      9\u001b[0m     \u001b[0mV_rank\u001b[0m \u001b[0;34m=\u001b[0m \u001b[0;34m[\u001b[0m\u001b[0mv_index\u001b[0m\u001b[0;34m.\u001b[0m\u001b[0mnumpy\u001b[0m\u001b[0;34m(\u001b[0m\u001b[0;34m)\u001b[0m\u001b[0;34m.\u001b[0m\u001b[0mT\u001b[0m \u001b[0;32mfor\u001b[0m \u001b[0mv_index\u001b[0m \u001b[0;32min\u001b[0m \u001b[0mV\u001b[0m\u001b[0;34m]\u001b[0m\u001b[0;34m\u001b[0m\u001b[0;34m\u001b[0m\u001b[0m\n\u001b[1;32m     10\u001b[0m   \u001b[0;32melse\u001b[0m\u001b[0;34m:\u001b[0m\u001b[0;34m\u001b[0m\u001b[0;34m\u001b[0m\u001b[0m\n\u001b[0;32m---> 11\u001b[0;31m     \u001b[0mS_rank\u001b[0m \u001b[0;34m=\u001b[0m \u001b[0;34m[\u001b[0m \u001b[0ms_index\u001b[0m\u001b[0;34m[\u001b[0m\u001b[0;34m:\u001b[0m\u001b[0mrank\u001b[0m\u001b[0;34m,\u001b[0m\u001b[0;34m:\u001b[0m\u001b[0mrank\u001b[0m\u001b[0;34m]\u001b[0m \u001b[0;32mfor\u001b[0m \u001b[0ms_index\u001b[0m \u001b[0;32min\u001b[0m \u001b[0mS\u001b[0m\u001b[0;34m]\u001b[0m\u001b[0;34m\u001b[0m\u001b[0;34m\u001b[0m\u001b[0m\n\u001b[0m\u001b[1;32m     12\u001b[0m     \u001b[0mD_rank\u001b[0m \u001b[0;34m=\u001b[0m \u001b[0;34m[\u001b[0m \u001b[0md_index\u001b[0m\u001b[0;34m[\u001b[0m\u001b[0;34m:\u001b[0m\u001b[0;34m,\u001b[0m\u001b[0;34m:\u001b[0m\u001b[0mrank\u001b[0m\u001b[0;34m]\u001b[0m \u001b[0;32mfor\u001b[0m \u001b[0md_index\u001b[0m \u001b[0;32min\u001b[0m \u001b[0mD\u001b[0m\u001b[0;34m]\u001b[0m\u001b[0;34m\u001b[0m\u001b[0;34m\u001b[0m\u001b[0m\n\u001b[1;32m     13\u001b[0m     \u001b[0mV_rank\u001b[0m \u001b[0;34m=\u001b[0m \u001b[0;34m[\u001b[0m\u001b[0mv_index\u001b[0m\u001b[0;34m[\u001b[0m\u001b[0;34m:\u001b[0m\u001b[0;34m,\u001b[0m\u001b[0;34m:\u001b[0m\u001b[0mrank\u001b[0m\u001b[0;34m]\u001b[0m\u001b[0;34m.\u001b[0m\u001b[0mnumpy\u001b[0m\u001b[0;34m(\u001b[0m\u001b[0;34m)\u001b[0m\u001b[0;34m.\u001b[0m\u001b[0mT\u001b[0m \u001b[0;32mfor\u001b[0m \u001b[0mv_index\u001b[0m \u001b[0;32min\u001b[0m \u001b[0mV\u001b[0m\u001b[0;34m]\u001b[0m\u001b[0;34m\u001b[0m\u001b[0;34m\u001b[0m\u001b[0m\n",
            "\u001b[0;32m<ipython-input-41-f3879765fd70>\u001b[0m in \u001b[0;36m<listcomp>\u001b[0;34m(.0)\u001b[0m\n\u001b[1;32m      9\u001b[0m     \u001b[0mV_rank\u001b[0m \u001b[0;34m=\u001b[0m \u001b[0;34m[\u001b[0m\u001b[0mv_index\u001b[0m\u001b[0;34m.\u001b[0m\u001b[0mnumpy\u001b[0m\u001b[0;34m(\u001b[0m\u001b[0;34m)\u001b[0m\u001b[0;34m.\u001b[0m\u001b[0mT\u001b[0m \u001b[0;32mfor\u001b[0m \u001b[0mv_index\u001b[0m \u001b[0;32min\u001b[0m \u001b[0mV\u001b[0m\u001b[0;34m]\u001b[0m\u001b[0;34m\u001b[0m\u001b[0;34m\u001b[0m\u001b[0m\n\u001b[1;32m     10\u001b[0m   \u001b[0;32melse\u001b[0m\u001b[0;34m:\u001b[0m\u001b[0;34m\u001b[0m\u001b[0;34m\u001b[0m\u001b[0m\n\u001b[0;32m---> 11\u001b[0;31m     \u001b[0mS_rank\u001b[0m \u001b[0;34m=\u001b[0m \u001b[0;34m[\u001b[0m \u001b[0ms_index\u001b[0m\u001b[0;34m[\u001b[0m\u001b[0;34m:\u001b[0m\u001b[0mrank\u001b[0m\u001b[0;34m,\u001b[0m\u001b[0;34m:\u001b[0m\u001b[0mrank\u001b[0m\u001b[0;34m]\u001b[0m \u001b[0;32mfor\u001b[0m \u001b[0ms_index\u001b[0m \u001b[0;32min\u001b[0m \u001b[0mS\u001b[0m\u001b[0;34m]\u001b[0m\u001b[0;34m\u001b[0m\u001b[0;34m\u001b[0m\u001b[0m\n\u001b[0m\u001b[1;32m     12\u001b[0m     \u001b[0mD_rank\u001b[0m \u001b[0;34m=\u001b[0m \u001b[0;34m[\u001b[0m \u001b[0md_index\u001b[0m\u001b[0;34m[\u001b[0m\u001b[0;34m:\u001b[0m\u001b[0;34m,\u001b[0m\u001b[0;34m:\u001b[0m\u001b[0mrank\u001b[0m\u001b[0;34m]\u001b[0m \u001b[0;32mfor\u001b[0m \u001b[0md_index\u001b[0m \u001b[0;32min\u001b[0m \u001b[0mD\u001b[0m\u001b[0;34m]\u001b[0m\u001b[0;34m\u001b[0m\u001b[0;34m\u001b[0m\u001b[0m\n\u001b[1;32m     13\u001b[0m     \u001b[0mV_rank\u001b[0m \u001b[0;34m=\u001b[0m \u001b[0;34m[\u001b[0m\u001b[0mv_index\u001b[0m\u001b[0;34m[\u001b[0m\u001b[0;34m:\u001b[0m\u001b[0;34m,\u001b[0m\u001b[0;34m:\u001b[0m\u001b[0mrank\u001b[0m\u001b[0;34m]\u001b[0m\u001b[0;34m.\u001b[0m\u001b[0mnumpy\u001b[0m\u001b[0;34m(\u001b[0m\u001b[0;34m)\u001b[0m\u001b[0;34m.\u001b[0m\u001b[0mT\u001b[0m \u001b[0;32mfor\u001b[0m \u001b[0mv_index\u001b[0m \u001b[0;32min\u001b[0m \u001b[0mV\u001b[0m\u001b[0;34m]\u001b[0m\u001b[0;34m\u001b[0m\u001b[0;34m\u001b[0m\u001b[0m\n",
            "\u001b[0;31mTypeError\u001b[0m: slice indices must be integers or None or have an __index__ method"
          ]
        }
      ]
    },
    {
      "cell_type": "code",
      "source": [
        "def svd_calc(D):\n",
        "  if rank == 'd_full':\n",
        "    s_rank = [s_index for s_index in S]\n",
        "    d_rank = [u_index for u_index in D]\n",
        "    v_rank = [v_index.numpy().T for v_index in V]\n",
        "  else:\n",
        "    s_rank = [np.diag(s_index[0:rank]) for s_index in S]\n",
        "    d_rank = [d_index[:,0:rank] for d_index in D]\n",
        "    v_rank = [v_index[:,0:rank].numpy().T for v_index in V]\n",
        "  print('Shapes for 1st layer:')\n",
        "  print('D: {}'.format(d_rank[0].shape))\n",
        "  print('S: {}'.format(s_rank[0].shape))\n",
        "  print('V: {}'.format(v_rank[0].shape))\n",
        "\n",
        "  print('Shapes for 2nd layer:')\n",
        "  print('D: {}'.format(d_rank[1].shape))\n",
        "  print('S: {}'.format(s_rank[1].shape))\n",
        "  print('V: {}'.format(v_rank[1].shape))\n",
        "  print(len(s_rank))\n",
        "'''\n",
        "  weight_calc = []\n",
        "  for i in range(1,6):\n",
        "    model.get_layer(index=i).set_weights()\n",
        "    model.get_layer(index=).set_weights([W2,bias2])\n",
        "    model.get_layer(index=3).set_weights([W3,bias3])\n",
        "    model.get_layer(index=4).set_weights([W4,bias4])\n",
        "    model.get_layer(index=5).set_weights([W5,bias5])\n",
        "\n",
        "\n",
        "\n",
        "  baseline_model.summary()\n",
        "\n",
        "  return baseline_model.evaluate(X_test,y_test,verbose=True)[1]'''"
      ],
      "metadata": {
        "colab": {
          "base_uri": "https://localhost:8080/",
          "height": 88
        },
        "id": "uzbs89texPUs",
        "outputId": "89c08b35-73ec-4d7c-e260-cbaab6aaf14a"
      },
      "execution_count": 43,
      "outputs": [
        {
          "output_type": "execute_result",
          "data": {
            "text/plain": [
              "'\\n  weight_calc = []\\n  for i in range(1,6):\\n    model.get_layer(index=i).set_weights()\\n    model.get_layer(index=).set_weights([W2,bias2])\\n    model.get_layer(index=3).set_weights([W3,bias3])\\n    model.get_layer(index=4).set_weights([W4,bias4])\\n    model.get_layer(index=5).set_weights([W5,bias5])\\n\\n\\n\\n  baseline_model.summary()\\n\\n  return baseline_model.evaluate(X_test,y_test,verbose=True)[1]'"
            ],
            "application/vnd.google.colaboratory.intrinsic+json": {
              "type": "string"
            }
          },
          "metadata": {},
          "execution_count": 43
        }
      ]
    },
    {
      "cell_type": "code",
      "source": [],
      "metadata": {
        "id": "gYHATkc4xUDH"
      },
      "execution_count": null,
      "outputs": []
    }
  ],
  "metadata": {
    "accelerator": "GPU",
    "colab": {
      "provenance": [],
      "collapsed_sections": [],
      "authorship_tag": "ABX9TyOTUEvJUcCnoCQ6i6usScuq",
      "include_colab_link": true
    },
    "gpuClass": "standard",
    "kernelspec": {
      "display_name": "Python 3",
      "name": "python3"
    },
    "language_info": {
      "name": "python"
    }
  },
  "nbformat": 4,
  "nbformat_minor": 0
}