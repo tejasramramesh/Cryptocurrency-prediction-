{
  "nbformat": 4,
  "nbformat_minor": 0,
  "metadata": {
    "colab": {
      "provenance": [],
      "collapsed_sections": [],
      "toc_visible": true,
      "machine_shape": "hm",
      "authorship_tag": "ABX9TyNJpC+PJCWohEgoO3kksQ9p",
      "include_colab_link": true
    },
    "kernelspec": {
      "name": "python3",
      "display_name": "Python 3"
    },
    "language_info": {
      "name": "python"
    },
    "accelerator": "GPU",
    "gpuClass": "premium"
  },
  "cells": [
    {
      "cell_type": "markdown",
      "metadata": {
        "id": "view-in-github",
        "colab_type": "text"
      },
      "source": [
        "<a href=\"https://colab.research.google.com/github/tejasramramesh/Cryptocurrency-prediction-/blob/main/TensorFlow/Tejas/Deep_Learning_HW4_Q4.ipynb\" target=\"_parent\"><img src=\"https://colab.research.google.com/assets/colab-badge.svg\" alt=\"Open In Colab\"/></a>"
      ]
    },
    {
      "cell_type": "markdown",
      "source": [
        "#Home Work 4 \n",
        "\n",
        "References:\n",
        "\n"
      ],
      "metadata": {
        "id": "Kngj1SATd-3I"
      }
    },
    {
      "cell_type": "markdown",
      "source": [
        "#GPU Check"
      ],
      "metadata": {
        "id": "cvh40HtweTg0"
      }
    },
    {
      "cell_type": "code",
      "execution_count": 97,
      "metadata": {
        "colab": {
          "base_uri": "https://localhost:8080/"
        },
        "id": "uldQLN8Bd6UA",
        "outputId": "d5db57d8-1272-4366-8909-b0d7d395e438"
      },
      "outputs": [
        {
          "output_type": "stream",
          "name": "stdout",
          "text": [
            "Found GPU at: /device:GPU:0\n"
          ]
        }
      ],
      "source": [
        "#Path: TensorFlow/Tejas/\n",
        "import tensorflow as tf\n",
        "device_name = tf.test.gpu_device_name()\n",
        "if device_name != '/device:GPU:0':\n",
        "  raise SystemError('GPU device not found')\n",
        "print('Found GPU at: {}'.format(device_name))"
      ]
    },
    {
      "cell_type": "code",
      "source": [
        "print(\"TensorFlow version:\", tf.__version__)"
      ],
      "metadata": {
        "colab": {
          "base_uri": "https://localhost:8080/"
        },
        "id": "guxcLlYpeV7v",
        "outputId": "78c6418e-8851-46df-91c9-fa967c14d683"
      },
      "execution_count": 98,
      "outputs": [
        {
          "output_type": "stream",
          "name": "stdout",
          "text": [
            "TensorFlow version: 2.9.2\n"
          ]
        }
      ]
    },
    {
      "cell_type": "code",
      "source": [
        "import tensorflow as tf\n",
        "import timeit\n",
        "\n",
        "device_name = tf.test.gpu_device_name()\n",
        "if device_name != '/device:GPU:0':\n",
        "  print(\n",
        "      '\\n\\nThis error most likely means that this notebook is not '\n",
        "      'configured to use a GPU.  Change this in Notebook Settings via the '\n",
        "      'command palette (cmd/ctrl-shift-P) or the Edit menu.\\n\\n')\n",
        "  raise SystemError('GPU device not found')\n",
        "\n",
        "def cpu():\n",
        "  with tf.device('/cpu:0'):\n",
        "    random_image_cpu = tf.random.normal((100, 100, 100, 3))\n",
        "    net_cpu = tf.keras.layers.Conv2D(32, 7)(random_image_cpu)\n",
        "    return tf.math.reduce_sum(net_cpu)\n",
        "\n",
        "def gpu():\n",
        "  with tf.device('/device:GPU:0'):\n",
        "    random_image_gpu = tf.random.normal((100, 100, 100, 3))\n",
        "    net_gpu = tf.keras.layers.Conv2D(32, 7)(random_image_gpu)\n",
        "    return tf.math.reduce_sum(net_gpu)\n",
        "  \n",
        "# We run each op once to warm up; see: https://stackoverflow.com/a/45067900\n",
        "cpu()\n",
        "gpu()\n",
        "\n",
        "# Run the op several times.\n",
        "print('Time (s) to convolve 32x7x7x3 filter over random 100x100x100x3 images '\n",
        "      '(batch x height x width x channel). Sum of ten runs.')\n",
        "print('CPU (s):')\n",
        "cpu_time = timeit.timeit('cpu()', number=10, setup=\"from __main__ import cpu\")\n",
        "print(cpu_time)\n",
        "print('GPU (s):')\n",
        "gpu_time = timeit.timeit('gpu()', number=10, setup=\"from __main__ import gpu\")\n",
        "print(gpu_time)\n",
        "print('GPU speedup over CPU: {}x'.format(int(cpu_time/gpu_time)))"
      ],
      "metadata": {
        "colab": {
          "base_uri": "https://localhost:8080/"
        },
        "id": "VeKf9tbAeXoB",
        "outputId": "90044ada-0809-4c88-c52b-a3a6c0c501e5"
      },
      "execution_count": 99,
      "outputs": [
        {
          "output_type": "stream",
          "name": "stdout",
          "text": [
            "Time (s) to convolve 32x7x7x3 filter over random 100x100x100x3 images (batch x height x width x channel). Sum of ten runs.\n",
            "CPU (s):\n",
            "0.4070130219997736\n",
            "GPU (s):\n",
            "0.03821819999984655\n",
            "GPU speedup over CPU: 10x\n"
          ]
        }
      ]
    },
    {
      "cell_type": "markdown",
      "source": [
        "#Dependencies"
      ],
      "metadata": {
        "id": "wj78xNaBeZ_5"
      }
    },
    {
      "cell_type": "code",
      "source": [
        "import numpy as np\n",
        "import random\n",
        "import pandas as pd\n",
        "import seaborn as sns\n",
        "import matplotlib.pyplot as plt\n",
        "from sklearn.decomposition import PCA\n",
        "from sklearn.manifold import TSNE\n",
        "from tensorflow import keras\n",
        "from tensorflow.keras import layers\n",
        "from keras.models import Model\n",
        "import keras.utils\n",
        "from keras import utils as np_utils\n",
        "from keras.models import Sequential\n",
        "from keras.layers import  Dense, Dropout, Activation, Flatten\n",
        "from librosa.core import stft,istft\n",
        "import soundfile as sf\n",
        "from sklearn.model_selection import train_test_split\n",
        "import tensorflow as tf\n",
        "import matplotlib.pyplot as plt\n",
        "import librosa\n",
        "%matplotlib inline"
      ],
      "metadata": {
        "id": "IzNqPUpCeb4s"
      },
      "execution_count": 100,
      "outputs": []
    },
    {
      "cell_type": "markdown",
      "source": [
        "##Load Data Set\n",
        "\n",
        "We load X_train and X_test from pkl files respectively.\n",
        "\n",
        "\n",
        "\n",
        "1.   But we have to make an empty array of (500,1) for y_train and (200,1) for y_test as they are labels of 1 and 0.\n",
        "2.   1 is label for positive batching (audio signal pairs are utterances of same speaker)\n",
        "\n",
        "1.   0 is for negative batching ( audio signal pairs of different speakers)\n",
        "\n",
        "\n",
        "\n",
        "\n",
        "\n"
      ],
      "metadata": {
        "id": "0uo4argxeef5"
      }
    },
    {
      "cell_type": "code",
      "source": [
        "#Dependencies for Loading data \n",
        "\n",
        "import gzip\n",
        "import pickle\n",
        "import random\n",
        "from itertools import combinations,product"
      ],
      "metadata": {
        "id": "szqpDKiktnwp"
      },
      "execution_count": 101,
      "outputs": []
    },
    {
      "cell_type": "code",
      "source": [
        "from google.colab import drive\n",
        "drive.mount('/content/drive')"
      ],
      "metadata": {
        "colab": {
          "base_uri": "https://localhost:8080/"
        },
        "id": "pLVHSzDWegmI",
        "outputId": "fcec6565-d6f0-48bc-920e-9d955017201a"
      },
      "execution_count": 102,
      "outputs": [
        {
          "output_type": "stream",
          "name": "stdout",
          "text": [
            "Drive already mounted at /content/drive; to attempt to forcibly remount, call drive.mount(\"/content/drive\", force_remount=True).\n"
          ]
        }
      ]
    },
    {
      "cell_type": "code",
      "source": [
        "with open('/content/drive/MyDrive/ENGR-E-533 /DATA/HW4/Q4 Speaker Recognition/hw4_trs.pkl', 'rb') as f:\n",
        "    X_train = pickle.load(f)"
      ],
      "metadata": {
        "id": "SiRjqrVieiRY"
      },
      "execution_count": 103,
      "outputs": []
    },
    {
      "cell_type": "code",
      "source": [
        "print(X_train.shape)"
      ],
      "metadata": {
        "colab": {
          "base_uri": "https://localhost:8080/"
        },
        "id": "zmAsq0l1evR2",
        "outputId": "7dfd4f88-2fe0-4cde-d9a7-461fe82ba84c"
      },
      "execution_count": 104,
      "outputs": [
        {
          "output_type": "stream",
          "name": "stdout",
          "text": [
            "(500, 16180)\n"
          ]
        }
      ]
    },
    {
      "cell_type": "code",
      "source": [
        "y_train = np.zeros((500,1))\n",
        "index=0\n",
        "for i in range(0,50):\n",
        "    for j in range(0,10):\n",
        "        y_train[index]=i\n",
        "        index+=1\n",
        "print(y_train.shape)"
      ],
      "metadata": {
        "colab": {
          "base_uri": "https://localhost:8080/"
        },
        "id": "c-UkN1L2fFNO",
        "outputId": "f72a1559-e6b9-4bab-c4eb-829afc6e8741"
      },
      "execution_count": 105,
      "outputs": [
        {
          "output_type": "stream",
          "name": "stdout",
          "text": [
            "(500, 1)\n"
          ]
        }
      ]
    },
    {
      "cell_type": "code",
      "source": [
        "with open('/content/drive/MyDrive/ENGR-E-533 /DATA/HW4/Q4 Speaker Recognition/hw4_tes.pkl', 'rb') as f:\n",
        "    X_test = pickle.load(f)"
      ],
      "metadata": {
        "id": "ogdSSdCAfJia"
      },
      "execution_count": 106,
      "outputs": []
    },
    {
      "cell_type": "code",
      "source": [
        "print(X_test.shape)"
      ],
      "metadata": {
        "colab": {
          "base_uri": "https://localhost:8080/"
        },
        "id": "Au-nPiMgfLu0",
        "outputId": "afb57167-64b9-4287-cea0-e3115f907c7b"
      },
      "execution_count": 107,
      "outputs": [
        {
          "output_type": "stream",
          "name": "stdout",
          "text": [
            "(200, 22631)\n"
          ]
        }
      ]
    },
    {
      "cell_type": "code",
      "source": [
        "y_test = np.zeros((200,1))\n",
        "idx=0\n",
        "for i in range(0,20):\n",
        "    for j in range(0,10):\n",
        "        y_test[idx]=i\n",
        "        idx+=1\n",
        "print(y_test.shape)"
      ],
      "metadata": {
        "colab": {
          "base_uri": "https://localhost:8080/"
        },
        "id": "JgY7kvSLfMeE",
        "outputId": "39f4011b-91cc-4cb2-836c-da31a7ea93d9"
      },
      "execution_count": 108,
      "outputs": [
        {
          "output_type": "stream",
          "name": "stdout",
          "text": [
            "(200, 1)\n"
          ]
        }
      ]
    },
    {
      "cell_type": "code",
      "source": [
        "X_train[:10]"
      ],
      "metadata": {
        "colab": {
          "base_uri": "https://localhost:8080/"
        },
        "id": "42u0Uzkow2Sw",
        "outputId": "a4e5e5a0-11d0-40f0-da93-c0fb3049499c"
      },
      "execution_count": 109,
      "outputs": [
        {
          "output_type": "execute_result",
          "data": {
            "text/plain": [
              "array([[ 4.12784029e-05,  2.06392011e-04,  0.00000000e+00, ...,\n",
              "        -9.50228795e-02, -8.75514895e-02, -7.98324272e-02],\n",
              "       [ 0.00000000e+00,  2.19764952e-05,  8.79059808e-05, ...,\n",
              "         1.13178967e-02,  1.05047654e-02,  1.43506527e-02],\n",
              "       [ 1.85077588e-04,  1.48062070e-04,  1.11046553e-04, ...,\n",
              "        -8.95775482e-03, -1.47321764e-02, -2.06546579e-02],\n",
              "       ...,\n",
              "       [ 1.53322384e-04,  1.53322384e-04,  1.53322384e-04, ...,\n",
              "         9.65930894e-03, -1.31857244e-03, -1.06099080e-02],\n",
              "       [ 1.14315364e-04, -1.14315364e-04,  7.62102427e-05, ...,\n",
              "        -1.21555338e-02, -4.95366578e-04,  8.57365225e-03],\n",
              "       [ 3.40873594e-05,  2.04524142e-04,  6.81747188e-05, ...,\n",
              "        -3.63371223e-02, -7.14471042e-02, -9.41492841e-02]], dtype=float32)"
            ]
          },
          "metadata": {},
          "execution_count": 109
        }
      ]
    },
    {
      "cell_type": "code",
      "source": [
        "X_test[:10]"
      ],
      "metadata": {
        "colab": {
          "base_uri": "https://localhost:8080/"
        },
        "id": "9oLeP4fExR6v",
        "outputId": "87391c70-5085-4b22-9d13-9076bb8d072a"
      },
      "execution_count": 110,
      "outputs": [
        {
          "output_type": "execute_result",
          "data": {
            "text/plain": [
              "array([[ 1.27267512e-03, -1.81810741e-04,  2.72716105e-04, ...,\n",
              "        -3.63621465e-03, -3.45440372e-03, -4.18164674e-03],\n",
              "       [-2.33645900e-04,  2.33645900e-04,  0.00000000e+00, ...,\n",
              "        -7.00937724e-03, -7.63243251e-03, -9.57948156e-03],\n",
              "       [ 1.45140267e-03, -1.93520362e-04,  2.90280528e-04, ...,\n",
              "        -2.32224423e-03, -2.99956556e-03, -2.61252490e-03],\n",
              "       ...,\n",
              "       [-1.09347195e-04, -1.09347195e-04,  0.00000000e+00, ...,\n",
              "         1.64020795e-03,  1.20281905e-03,  1.20281905e-03],\n",
              "       [ 8.59142674e-05,  0.00000000e+00,  8.59142674e-05, ...,\n",
              "        -1.71828535e-04,  1.11688545e-03,  8.59142689e-04],\n",
              "       [ 8.90608819e-04,  0.00000000e+00,  2.54459679e-04, ...,\n",
              "         1.20868338e-02, -1.41225122e-02,  1.90844748e-03]], dtype=float32)"
            ]
          },
          "metadata": {},
          "execution_count": 110
        }
      ]
    },
    {
      "cell_type": "markdown",
      "source": [
        "**Training Matrix :** (Row:Speaker Number,audio signal)\n",
        "Each speaker has 10 signals (Utterances)\n",
        "\n",
        "\n",
        "*   We have 50 speakers hence 500 rows  ( 50 unique speakers with 10 utterances each)\n",
        "*   Train Speakers have 16180 features per sample.\n",
        "\n",
        "\n",
        "**Test Matrix:** (Row:Speaker Number,audio signal)\n",
        "Each speaker has 10 signals(Utterances)\n",
        "\n",
        "\n",
        "*   We have 20 speakers hence 200 rows  ( 20 unique speakers with 10 utterances each)\n",
        "*   But Test Speakers have more features in the signal: 22631 ( More Rich in data )\n",
        "\n",
        "\n",
        "\n",
        "Resource for random sampling : https://pynative.com/python-random-sample/\n",
        "\n",
        "\n",
        "\n",
        "\n",
        "\n"
      ],
      "metadata": {
        "id": "wSC2uzNwuOUe"
      }
    },
    {
      "cell_type": "markdown",
      "source": [
        "#STFT of X_train and X_test"
      ],
      "metadata": {
        "id": "J1OxbtV43Iv6"
      }
    },
    {
      "cell_type": "code",
      "source": [
        "L_utterance = 45"
      ],
      "metadata": {
        "id": "kPIbXkws3nq-"
      },
      "execution_count": 111,
      "outputs": []
    },
    {
      "cell_type": "code",
      "source": [
        "X_train_stft = np.zeros(shape=(500,L_utterance,513))\n",
        "for i in range(X_train.shape[0]):\n",
        "    X_data = X_train[i,:]\n",
        "    X_complex = librosa.stft(X_data, n_fft=1024, hop_length=512)\n",
        "    X = np.abs(X_complex).T\n",
        "    X_train_stft[i,:,:] = np.pad(X,((0,13),(0,0)), 'constant') # pas top = 0 , bottom = 13, left = 0 and right = 0 \n",
        "    #pads only bottom of the array because 16810 / 513 = 32 and test data has 45\n",
        "print(X_train_stft.shape)"
      ],
      "metadata": {
        "colab": {
          "base_uri": "https://localhost:8080/"
        },
        "id": "Ig3GdWkX3LyZ",
        "outputId": "607c17d0-466c-491b-a2af-ba11a0312f2f"
      },
      "execution_count": 112,
      "outputs": [
        {
          "output_type": "stream",
          "name": "stdout",
          "text": [
            "(500, 45, 513)\n"
          ]
        }
      ]
    },
    {
      "cell_type": "code",
      "source": [
        "X_train_stft[1]"
      ],
      "metadata": {
        "colab": {
          "base_uri": "https://localhost:8080/"
        },
        "id": "NQ171N4657Xe",
        "outputId": "dc150d4b-0b22-4860-876d-9148c4a0801a"
      },
      "execution_count": 113,
      "outputs": [
        {
          "output_type": "execute_result",
          "data": {
            "text/plain": [
              "array([[0.02651631, 0.01149094, 0.00238631, ..., 0.00408146, 0.00277443,\n",
              "        0.00204568],\n",
              "       [0.03155294, 0.017131  , 0.00196619, ..., 0.00112135, 0.00039424,\n",
              "        0.00010901],\n",
              "       [0.02640126, 0.01126922, 0.00266385, ..., 0.00064208, 0.00035836,\n",
              "        0.0001147 ],\n",
              "       ...,\n",
              "       [0.        , 0.        , 0.        , ..., 0.        , 0.        ,\n",
              "        0.        ],\n",
              "       [0.        , 0.        , 0.        , ..., 0.        , 0.        ,\n",
              "        0.        ],\n",
              "       [0.        , 0.        , 0.        , ..., 0.        , 0.        ,\n",
              "        0.        ]])"
            ]
          },
          "metadata": {},
          "execution_count": 113
        }
      ]
    },
    {
      "cell_type": "code",
      "source": [
        "X_train_stft[1].shape"
      ],
      "metadata": {
        "colab": {
          "base_uri": "https://localhost:8080/"
        },
        "id": "CMe7mzc051CG",
        "outputId": "448a691d-84c1-48f1-f690-0d9a5e2903b7"
      },
      "execution_count": 114,
      "outputs": [
        {
          "output_type": "execute_result",
          "data": {
            "text/plain": [
              "(45, 513)"
            ]
          },
          "metadata": {},
          "execution_count": 114
        }
      ]
    },
    {
      "cell_type": "code",
      "source": [
        "X_test_stft = np.zeros(shape=(200,45,513))\n",
        "for i in range(X_test.shape[0]):\n",
        "    X_data = X_test[i,:]\n",
        "    X_complex = librosa.stft(X_data, n_fft=1024, hop_length=512)\n",
        "    X = np.abs(X_complex).T\n",
        "    X_test_stft[i,:,:] = X\n",
        "print(X_test_stft.shape)"
      ],
      "metadata": {
        "colab": {
          "base_uri": "https://localhost:8080/"
        },
        "id": "IX3zb-Vr7LpU",
        "outputId": "8fdb05b9-bc8b-4dc7-da03-e1cd54faa7cd"
      },
      "execution_count": 115,
      "outputs": [
        {
          "output_type": "stream",
          "name": "stdout",
          "text": [
            "(200, 45, 513)\n"
          ]
        }
      ]
    },
    {
      "cell_type": "code",
      "source": [],
      "metadata": {
        "id": "na1iIJd57gYq"
      },
      "execution_count": 115,
      "outputs": []
    },
    {
      "cell_type": "markdown",
      "source": [
        "#Pairing without indexing\n",
        "\n",
        "Encountering an issue with getting data of other speakers in pairs.\n",
        "\n",
        "Hence i follow keras documentation code and use indexing\n",
        "\n",
        "Error at line :   other_speaker_data =X_train[sample for sample in range(500) if sample not in speaker_data_index ]\n",
        "\n",
        "\n",
        "Maybe I can set X_train[:start] + X_train[end:]\n",
        "\n",
        "\n",
        "But after indexing code cause that is a sure shot solution"
      ],
      "metadata": {
        "id": "d5e3VrJE3MC0"
      }
    },
    {
      "cell_type": "code",
      "source": [
        "# unique_speaker = 50\n",
        "# speaker_index = 0\n",
        "# L_utterance = 45  \n",
        "# pair = []      \n",
        "# labels =[]\n",
        "# for speaker in range(unique_speaker): # used range so that max value of speaker_index will be 49\n",
        "#   speaker_data = X_train[speaker * 10 : (speaker+1) * 10 ]\n",
        "#   speaker_data_index = np.arange(speaker*10,(speaker+1) * 10,1)\n",
        "#   print(speaker_data_index)\n",
        "#   other_speaker_data =X_train[sample for sample in range(500) if sample not in speaker_data_index ]\n",
        "#   #print(len(speaker_data))\n",
        "#   #speaker_index = speaker_index + 1\n",
        "\n",
        "#   pos_pairs = random.sample(list(combinations(speaker_data,2)),L_utterance)\n",
        "#   #print(pos_pairs)\n",
        "#   for pairs in pos_pairs:\n",
        "#     x1 = pairs[0]\n",
        "#     x2 = pairs[1]\n",
        "#     pair += [[x1,x2]]\n",
        "#     labels += [1]\n",
        "    #print(pair[0][:])\n",
        "    #print(labels)\n",
        "\n",
        "  #neg_pairs = random.sample(list(combinations(other_speaker_data,speaker_data)))\n",
        "  #neg_pairs = random.sample(list(product(speaker_data,other_speaker_data)),L_utterance)\n",
        "\n",
        "    \n",
        "\n",
        "\n",
        "\n",
        "\n"
      ],
      "metadata": {
        "id": "MM-Wh4lKuEA1"
      },
      "execution_count": 116,
      "outputs": []
    },
    {
      "cell_type": "markdown",
      "source": [
        "##Pairing with indexing\n",
        "\n"
      ],
      "metadata": {
        "id": "n-gP219jBtff"
      }
    },
    {
      "cell_type": "code",
      "source": [
        "L_utterance = 45"
      ],
      "metadata": {
        "id": "qLLrksgPGsw6"
      },
      "execution_count": 117,
      "outputs": []
    },
    {
      "cell_type": "code",
      "source": [
        "#Code follows structure given in https://keras.io/examples/vision/siamese_contrastive/\n",
        "\n",
        "L_utterance = 45\n",
        "y_train = np.array(y_train)\n",
        "X_index = np.arange(0,len(y_train)).reshape(-1,1)\n",
        "unique_speaker = np.unique(y_train)\n",
        "pairs = []\n",
        "labels =[]\n",
        "\n",
        "for speaker in unique_speaker:\n",
        "  speaker_index = X_index[np.where(y_train==speaker)]\n",
        "  other_speaker_index = X_index[np.where(y_train!=speaker)]\n",
        "\n",
        "  L_pos_list = list(combinations(speaker_index,2))\n",
        "  L_pos_pairs = random.sample( L_pos_list,L_utterance)\n",
        "  for pair in L_pos_pairs:\n",
        "    sample1 = X_train_stft[pair[0],:,:]\n",
        "    sample2 = X_train_stft[pair[1],:,:]\n",
        "    pairs = pairs + [[sample1,sample2]]\n",
        "    labels = labels + [0]\n",
        "\n",
        "  L_neg_pairs = list(product(speaker_index,other_speaker_index))\n",
        "  L_neg_pairs = random.sample( L_neg_pairs,L_utterance)\n",
        "  for pair in L_neg_pairs:\n",
        "    neg_sample1 = X_train_stft[pair[0],:,:]\n",
        "    neg_sample2 = X_train_stft[pair[1],:,:]\n",
        "    pairs = pairs + [[neg_sample1,neg_sample2]]\n",
        "    labels = labels + [1]\n",
        "\n",
        "pair = np.asarray(pairs)\n",
        "label = np.asarray(labels).astype(\"float32\")"
      ],
      "metadata": {
        "id": "2rMGoCuaBskn"
      },
      "execution_count": 132,
      "outputs": []
    },
    {
      "cell_type": "code",
      "source": [
        "pair.shape"
      ],
      "metadata": {
        "colab": {
          "base_uri": "https://localhost:8080/"
        },
        "id": "b0zviyh9N2yD",
        "outputId": "8f8a21fa-ffd0-4fd7-ac1a-296b9e56b734"
      },
      "execution_count": 119,
      "outputs": [
        {
          "output_type": "execute_result",
          "data": {
            "text/plain": [
              "(4500, 2, 45, 513)"
            ]
          },
          "metadata": {},
          "execution_count": 119
        }
      ]
    },
    {
      "cell_type": "code",
      "source": [
        "pair"
      ],
      "metadata": {
        "colab": {
          "base_uri": "https://localhost:8080/"
        },
        "id": "5XK9DkK6n3Ne",
        "outputId": "b5aea488-d51f-40e0-d836-23c134b6bd4c"
      },
      "execution_count": 120,
      "outputs": [
        {
          "output_type": "execute_result",
          "data": {
            "text/plain": [
              "array([[[[2.72731502e-02, 1.32017657e-02, 1.63700338e-03, ...,\n",
              "          4.50400868e-04, 3.24209133e-04, 6.35247619e-04],\n",
              "         [2.64394600e-02, 1.06862374e-02, 5.14851045e-03, ...,\n",
              "          7.70059996e-04, 1.08805101e-03, 1.08713307e-03],\n",
              "         [4.64950614e-02, 2.51820087e-02, 4.07007663e-03, ...,\n",
              "          1.94051405e-04, 3.69657733e-04, 2.23720839e-04],\n",
              "         ...,\n",
              "         [0.00000000e+00, 0.00000000e+00, 0.00000000e+00, ...,\n",
              "          0.00000000e+00, 0.00000000e+00, 0.00000000e+00],\n",
              "         [0.00000000e+00, 0.00000000e+00, 0.00000000e+00, ...,\n",
              "          0.00000000e+00, 0.00000000e+00, 0.00000000e+00],\n",
              "         [0.00000000e+00, 0.00000000e+00, 0.00000000e+00, ...,\n",
              "          0.00000000e+00, 0.00000000e+00, 0.00000000e+00]],\n",
              "\n",
              "        [[4.00531106e-03, 7.33557390e-03, 1.29556819e-03, ...,\n",
              "          1.01687772e-04, 1.24751125e-03, 1.16328849e-03],\n",
              "         [5.43834046e-02, 3.73508334e-02, 7.40372762e-03, ...,\n",
              "          7.69626757e-04, 1.11309427e-03, 5.99727791e-04],\n",
              "         [5.42158671e-02, 3.35796848e-02, 3.50432028e-03, ...,\n",
              "          1.87113159e-03, 1.24673871e-03, 2.73990823e-04],\n",
              "         ...,\n",
              "         [0.00000000e+00, 0.00000000e+00, 0.00000000e+00, ...,\n",
              "          0.00000000e+00, 0.00000000e+00, 0.00000000e+00],\n",
              "         [0.00000000e+00, 0.00000000e+00, 0.00000000e+00, ...,\n",
              "          0.00000000e+00, 0.00000000e+00, 0.00000000e+00],\n",
              "         [0.00000000e+00, 0.00000000e+00, 0.00000000e+00, ...,\n",
              "          0.00000000e+00, 0.00000000e+00, 0.00000000e+00]]],\n",
              "\n",
              "\n",
              "       [[[6.74430653e-02, 3.33487168e-02, 1.59783312e-03, ...,\n",
              "          3.01047647e-03, 1.13610399e-03, 6.62373262e-04],\n",
              "         [6.33620992e-02, 3.42848115e-02, 4.19849437e-03, ...,\n",
              "          7.81512528e-04, 1.42180815e-03, 9.60406906e-04],\n",
              "         [5.59640788e-02, 2.69880239e-02, 1.22347963e-03, ...,\n",
              "          1.88707723e-03, 1.45135331e-03, 8.52009689e-04],\n",
              "         ...,\n",
              "         [0.00000000e+00, 0.00000000e+00, 0.00000000e+00, ...,\n",
              "          0.00000000e+00, 0.00000000e+00, 0.00000000e+00],\n",
              "         [0.00000000e+00, 0.00000000e+00, 0.00000000e+00, ...,\n",
              "          0.00000000e+00, 0.00000000e+00, 0.00000000e+00],\n",
              "         [0.00000000e+00, 0.00000000e+00, 0.00000000e+00, ...,\n",
              "          0.00000000e+00, 0.00000000e+00, 0.00000000e+00]],\n",
              "\n",
              "        [[2.72731502e-02, 1.32017657e-02, 1.63700338e-03, ...,\n",
              "          4.50400868e-04, 3.24209133e-04, 6.35247619e-04],\n",
              "         [2.64394600e-02, 1.06862374e-02, 5.14851045e-03, ...,\n",
              "          7.70059996e-04, 1.08805101e-03, 1.08713307e-03],\n",
              "         [4.64950614e-02, 2.51820087e-02, 4.07007663e-03, ...,\n",
              "          1.94051405e-04, 3.69657733e-04, 2.23720839e-04],\n",
              "         ...,\n",
              "         [0.00000000e+00, 0.00000000e+00, 0.00000000e+00, ...,\n",
              "          0.00000000e+00, 0.00000000e+00, 0.00000000e+00],\n",
              "         [0.00000000e+00, 0.00000000e+00, 0.00000000e+00, ...,\n",
              "          0.00000000e+00, 0.00000000e+00, 0.00000000e+00],\n",
              "         [0.00000000e+00, 0.00000000e+00, 0.00000000e+00, ...,\n",
              "          0.00000000e+00, 0.00000000e+00, 0.00000000e+00]]],\n",
              "\n",
              "\n",
              "       [[[5.94058596e-02, 2.96396464e-02, 9.91297886e-04, ...,\n",
              "          7.35940819e-04, 1.00724457e-03, 1.60795299e-03],\n",
              "         [6.43347278e-02, 3.00944336e-02, 5.25482884e-03, ...,\n",
              "          1.11726066e-03, 9.67570581e-04, 1.72371417e-03],\n",
              "         [6.88061640e-02, 3.71354744e-02, 4.78575565e-03, ...,\n",
              "          4.92811785e-04, 1.98531849e-03, 1.78958883e-03],\n",
              "         ...,\n",
              "         [0.00000000e+00, 0.00000000e+00, 0.00000000e+00, ...,\n",
              "          0.00000000e+00, 0.00000000e+00, 0.00000000e+00],\n",
              "         [0.00000000e+00, 0.00000000e+00, 0.00000000e+00, ...,\n",
              "          0.00000000e+00, 0.00000000e+00, 0.00000000e+00],\n",
              "         [0.00000000e+00, 0.00000000e+00, 0.00000000e+00, ...,\n",
              "          0.00000000e+00, 0.00000000e+00, 0.00000000e+00]],\n",
              "\n",
              "        [[5.30373938e-02, 2.36391965e-02, 4.47227713e-03, ...,\n",
              "          7.92317616e-04, 9.76171796e-05, 3.63112922e-04],\n",
              "         [5.45626804e-02, 2.72175558e-02, 4.26798547e-03, ...,\n",
              "          1.41772896e-03, 4.50502906e-04, 1.06660789e-03],\n",
              "         [5.83021902e-02, 3.13168280e-02, 6.61093788e-03, ...,\n",
              "          1.38753222e-03, 1.29500439e-03, 7.60408002e-04],\n",
              "         ...,\n",
              "         [0.00000000e+00, 0.00000000e+00, 0.00000000e+00, ...,\n",
              "          0.00000000e+00, 0.00000000e+00, 0.00000000e+00],\n",
              "         [0.00000000e+00, 0.00000000e+00, 0.00000000e+00, ...,\n",
              "          0.00000000e+00, 0.00000000e+00, 0.00000000e+00],\n",
              "         [0.00000000e+00, 0.00000000e+00, 0.00000000e+00, ...,\n",
              "          0.00000000e+00, 0.00000000e+00, 0.00000000e+00]]],\n",
              "\n",
              "\n",
              "       ...,\n",
              "\n",
              "\n",
              "       [[[4.81361821e-02, 2.92552486e-02, 3.31149157e-03, ...,\n",
              "          2.82403664e-04, 1.86020322e-03, 1.39054435e-03],\n",
              "         [1.85955204e-02, 2.12630676e-03, 1.23434057e-02, ...,\n",
              "          1.07639004e-03, 1.78200111e-03, 2.23938585e-03],\n",
              "         [4.91717719e-02, 4.59799282e-02, 2.00799257e-02, ...,\n",
              "          1.58008467e-03, 9.53690789e-04, 6.73223753e-04],\n",
              "         ...,\n",
              "         [0.00000000e+00, 0.00000000e+00, 0.00000000e+00, ...,\n",
              "          0.00000000e+00, 0.00000000e+00, 0.00000000e+00],\n",
              "         [0.00000000e+00, 0.00000000e+00, 0.00000000e+00, ...,\n",
              "          0.00000000e+00, 0.00000000e+00, 0.00000000e+00],\n",
              "         [0.00000000e+00, 0.00000000e+00, 0.00000000e+00, ...,\n",
              "          0.00000000e+00, 0.00000000e+00, 0.00000000e+00]],\n",
              "\n",
              "        [[6.66738674e-02, 3.22402716e-02, 2.63682008e-02, ...,\n",
              "          2.02089618e-03, 4.72188136e-03, 4.06328635e-03],\n",
              "         [1.08837344e-01, 9.16175544e-02, 4.29806858e-02, ...,\n",
              "          9.92351794e-04, 1.84526073e-03, 1.21649040e-03],\n",
              "         [5.65577149e-02, 6.48390651e-02, 1.02675863e-01, ...,\n",
              "          5.89925039e-04, 1.26863783e-03, 2.69972859e-03],\n",
              "         ...,\n",
              "         [0.00000000e+00, 0.00000000e+00, 0.00000000e+00, ...,\n",
              "          0.00000000e+00, 0.00000000e+00, 0.00000000e+00],\n",
              "         [0.00000000e+00, 0.00000000e+00, 0.00000000e+00, ...,\n",
              "          0.00000000e+00, 0.00000000e+00, 0.00000000e+00],\n",
              "         [0.00000000e+00, 0.00000000e+00, 0.00000000e+00, ...,\n",
              "          0.00000000e+00, 0.00000000e+00, 0.00000000e+00]]],\n",
              "\n",
              "\n",
              "       [[[3.88289616e-02, 9.46170837e-03, 3.67877595e-02, ...,\n",
              "          5.12439711e-03, 1.50392554e-03, 1.82800216e-03],\n",
              "         [3.25557552e-02, 1.37604568e-02, 4.15407494e-03, ...,\n",
              "          1.95672200e-03, 1.61638192e-03, 9.44072439e-04],\n",
              "         [3.12855169e-02, 1.18756592e-02, 1.50895147e-02, ...,\n",
              "          1.78392918e-03, 7.97427900e-04, 1.47732976e-03],\n",
              "         ...,\n",
              "         [0.00000000e+00, 0.00000000e+00, 0.00000000e+00, ...,\n",
              "          0.00000000e+00, 0.00000000e+00, 0.00000000e+00],\n",
              "         [0.00000000e+00, 0.00000000e+00, 0.00000000e+00, ...,\n",
              "          0.00000000e+00, 0.00000000e+00, 0.00000000e+00],\n",
              "         [0.00000000e+00, 0.00000000e+00, 0.00000000e+00, ...,\n",
              "          0.00000000e+00, 0.00000000e+00, 0.00000000e+00]],\n",
              "\n",
              "        [[7.61124268e-02, 2.80917007e-02, 1.58224571e-02, ...,\n",
              "          2.53464491e-03, 8.60366318e-03, 1.08768409e-02],\n",
              "         [8.85487348e-02, 4.85281423e-02, 5.54708391e-03, ...,\n",
              "          5.19433804e-03, 8.30726232e-04, 9.34971322e-04],\n",
              "         [5.32427765e-02, 2.01567430e-02, 1.06442384e-02, ...,\n",
              "          2.35131942e-03, 2.29281839e-03, 9.36695142e-04],\n",
              "         ...,\n",
              "         [0.00000000e+00, 0.00000000e+00, 0.00000000e+00, ...,\n",
              "          0.00000000e+00, 0.00000000e+00, 0.00000000e+00],\n",
              "         [0.00000000e+00, 0.00000000e+00, 0.00000000e+00, ...,\n",
              "          0.00000000e+00, 0.00000000e+00, 0.00000000e+00],\n",
              "         [0.00000000e+00, 0.00000000e+00, 0.00000000e+00, ...,\n",
              "          0.00000000e+00, 0.00000000e+00, 0.00000000e+00]]],\n",
              "\n",
              "\n",
              "       [[[4.24896404e-02, 2.32628100e-02, 6.87671360e-04, ...,\n",
              "          4.37122362e-04, 9.76602198e-04, 1.09199737e-03],\n",
              "         [3.40845808e-02, 1.49623165e-02, 1.16582797e-03, ...,\n",
              "          2.28013936e-03, 9.83953709e-04, 3.77278484e-04],\n",
              "         [5.05584925e-02, 2.96587888e-02, 4.95259836e-03, ...,\n",
              "          1.49262638e-03, 1.45277369e-03, 1.37065118e-03],\n",
              "         ...,\n",
              "         [0.00000000e+00, 0.00000000e+00, 0.00000000e+00, ...,\n",
              "          0.00000000e+00, 0.00000000e+00, 0.00000000e+00],\n",
              "         [0.00000000e+00, 0.00000000e+00, 0.00000000e+00, ...,\n",
              "          0.00000000e+00, 0.00000000e+00, 0.00000000e+00],\n",
              "         [0.00000000e+00, 0.00000000e+00, 0.00000000e+00, ...,\n",
              "          0.00000000e+00, 0.00000000e+00, 0.00000000e+00]],\n",
              "\n",
              "        [[5.83046190e-02, 3.16677280e-02, 6.24387246e-03, ...,\n",
              "          3.13328183e-03, 3.50113679e-03, 1.58122624e-03],\n",
              "         [6.30186945e-02, 3.42561677e-02, 4.11172770e-03, ...,\n",
              "          2.29379837e-03, 1.22263352e-03, 2.76143476e-03],\n",
              "         [7.04383850e-02, 3.46644744e-02, 9.42212355e-04, ...,\n",
              "          1.53256743e-03, 1.31020392e-03, 1.08838244e-03],\n",
              "         ...,\n",
              "         [0.00000000e+00, 0.00000000e+00, 0.00000000e+00, ...,\n",
              "          0.00000000e+00, 0.00000000e+00, 0.00000000e+00],\n",
              "         [0.00000000e+00, 0.00000000e+00, 0.00000000e+00, ...,\n",
              "          0.00000000e+00, 0.00000000e+00, 0.00000000e+00],\n",
              "         [0.00000000e+00, 0.00000000e+00, 0.00000000e+00, ...,\n",
              "          0.00000000e+00, 0.00000000e+00, 0.00000000e+00]]]])"
            ]
          },
          "metadata": {},
          "execution_count": 120
        }
      ]
    },
    {
      "cell_type": "code",
      "source": [
        "label.shape"
      ],
      "metadata": {
        "colab": {
          "base_uri": "https://localhost:8080/"
        },
        "id": "60N_3JQiSxcf",
        "outputId": "432f2a45-b150-47da-d6aa-75dea2704f10"
      },
      "execution_count": 121,
      "outputs": [
        {
          "output_type": "execute_result",
          "data": {
            "text/plain": [
              "(4500,)"
            ]
          },
          "metadata": {},
          "execution_count": 121
        }
      ]
    },
    {
      "cell_type": "markdown",
      "source": [
        "pair.shape = (4500, 2, 45, 513)\n",
        "\n",
        "We have 4500 pairs\n",
        "Each pair contains 2 samples\n",
        "each sample shape is (45,513)\n",
        "\n",
        "L_utterance is 45 hence we have a 2L batch of 90 size\n",
        "\n",
        "\n",
        "50 of such speakers hence we have 90*50 = 4500 pairs"
      ],
      "metadata": {
        "id": "cAMnnEO9Tup8"
      }
    },
    {
      "cell_type": "code",
      "source": [
        "#Code follows structure given in https://keras.io/examples/vision/siamese_contrastive/\n",
        "\n",
        "L_utterance = 45\n",
        "y_train = np.array(y_test)\n",
        "X_index = np.arange(0,len(y_test)).reshape(-1,1)\n",
        "unique_speaker = np.unique(y_test)\n",
        "testpairs = []\n",
        "testlabels =[]\n",
        "\n",
        "for speaker in unique_speaker:\n",
        "  speaker_index = X_index[np.where(y_train==speaker)]\n",
        "  other_speaker_index = X_index[np.where(y_train!=speaker)]\n",
        "\n",
        "  L_pos_list = list(combinations(speaker_index,2))\n",
        "  L_pos_pairs = random.sample( L_pos_list,L_utterance)\n",
        "  for pair in L_pos_pairs:\n",
        "    sample1 = X_test_stft[pair[0],:,:]\n",
        "    sample2 = X_test_stft[pair[1],:,:]\n",
        "    testpairs = testpairs + [[sample1,sample2]]\n",
        "    testlabels = testlabels + [0]\n",
        "\n",
        "  L_neg_pairs = list(product(speaker_index,other_speaker_index))\n",
        "  L_neg_pairs = random.sample( L_neg_pairs,L_utterance)\n",
        "  for pair in L_neg_pairs:\n",
        "    neg_sample1 = X_test_stft[pair[0],:,:]\n",
        "    neg_sample2 = X_test_stft[pair[1],:,:]\n",
        "    testpairs = testpairs + [[neg_sample1,neg_sample2]]\n",
        "    testlabels = testlabels + [1]\n",
        "\n",
        "testpair = np.asarray(testpairs)\n",
        "testlabel = np.asarray(testlabels).astype(\"float32\")"
      ],
      "metadata": {
        "id": "0TfvPVNWTCz7"
      },
      "execution_count": 122,
      "outputs": []
    },
    {
      "cell_type": "code",
      "source": [
        "testpair.shape"
      ],
      "metadata": {
        "colab": {
          "base_uri": "https://localhost:8080/"
        },
        "id": "a19IO1zQWXN1",
        "outputId": "dc3ed6ec-a8cd-4812-f8aa-da7833f224f7"
      },
      "execution_count": 123,
      "outputs": [
        {
          "output_type": "execute_result",
          "data": {
            "text/plain": [
              "(1800, 2, 45, 513)"
            ]
          },
          "metadata": {},
          "execution_count": 123
        }
      ]
    },
    {
      "cell_type": "code",
      "source": [
        "testpair[:,1]"
      ],
      "metadata": {
        "colab": {
          "base_uri": "https://localhost:8080/"
        },
        "id": "hzp1JWbrn0Em",
        "outputId": "3b063301-336f-4cea-c3da-6732437251a0"
      },
      "execution_count": 124,
      "outputs": [
        {
          "output_type": "execute_result",
          "data": {
            "text/plain": [
              "array([[[1.07173719e-01, 6.33505881e-02, 9.04773362e-03, ...,\n",
              "         2.68495409e-03, 5.53215214e-04, 2.78911041e-03],\n",
              "        [4.25813235e-02, 1.61579978e-02, 9.68609191e-03, ...,\n",
              "         5.70541015e-03, 5.15174866e-03, 3.58864060e-03],\n",
              "        [3.36469673e-02, 1.67639926e-02, 4.80965991e-03, ...,\n",
              "         2.98305531e-03, 4.10038140e-03, 3.82755068e-03],\n",
              "        ...,\n",
              "        [6.32405980e-03, 1.57089196e-02, 2.91497037e-02, ...,\n",
              "         1.69631429e-02, 1.76991969e-02, 1.55852716e-02],\n",
              "        [2.21883804e-02, 1.27629526e-02, 1.88634545e-02, ...,\n",
              "         6.26697298e-03, 5.77514293e-03, 4.50461404e-03],\n",
              "        [1.83873829e-02, 2.11114455e-02, 2.52998974e-02, ...,\n",
              "         4.32973215e-03, 6.50515733e-03, 7.85188284e-03]],\n",
              "\n",
              "       [[3.00593022e-02, 1.74165703e-02, 4.55747591e-03, ...,\n",
              "         2.99935183e-03, 5.07844263e-04, 2.58241897e-03],\n",
              "        [3.81037756e-03, 7.66390562e-03, 1.18152509e-02, ...,\n",
              "         1.90717995e-03, 8.72110249e-04, 1.18182325e-04],\n",
              "        [4.22144122e-02, 5.67161106e-02, 7.91241676e-02, ...,\n",
              "         4.48962208e-03, 3.25564737e-03, 9.96140996e-04],\n",
              "        ...,\n",
              "        [2.76220031e-03, 1.24806307e-01, 1.79390222e-01, ...,\n",
              "         1.48849105e-02, 1.41328797e-02, 1.33702680e-02],\n",
              "        [4.30657566e-02, 5.38206995e-02, 5.50428079e-03, ...,\n",
              "         2.42994539e-03, 1.03816595e-02, 1.11070042e-02],\n",
              "        [7.08699301e-02, 8.47987458e-02, 7.79410675e-02, ...,\n",
              "         2.14487333e-02, 5.80591559e-02, 7.21252635e-02]],\n",
              "\n",
              "       [[3.39240581e-02, 1.04116648e-02, 1.09543456e-02, ...,\n",
              "         1.08090614e-03, 2.14622356e-03, 2.84923194e-03],\n",
              "        [5.79334013e-02, 3.47902477e-02, 6.44128677e-03, ...,\n",
              "         9.18373466e-04, 1.14384887e-03, 1.65766710e-03],\n",
              "        [1.19191213e-02, 1.39608756e-02, 1.22970983e-03, ...,\n",
              "         2.78080930e-03, 1.49014953e-03, 1.14037294e-03],\n",
              "        ...,\n",
              "        [4.28558737e-02, 1.51878661e-02, 1.30889881e-02, ...,\n",
              "         3.08056660e-02, 4.82011810e-02, 6.19290620e-02],\n",
              "        [1.28584923e-02, 3.73518728e-02, 5.72787002e-02, ...,\n",
              "         6.18479331e-04, 4.65927599e-03, 2.34901672e-03],\n",
              "        [3.28483689e-03, 3.23138665e-03, 2.37839599e-03, ...,\n",
              "         1.56670269e-02, 1.02482736e-02, 2.24727741e-03]],\n",
              "\n",
              "       ...,\n",
              "\n",
              "       [[2.89685037e-02, 1.13947792e-02, 2.87073129e-03, ...,\n",
              "         2.30934843e-03, 3.89076566e-04, 2.27777241e-03],\n",
              "        [4.35301289e-02, 3.78418230e-02, 2.50018444e-02, ...,\n",
              "         2.49322783e-03, 2.93353433e-03, 3.49653699e-03],\n",
              "        [4.89388891e-02, 4.01289463e-02, 1.41887572e-02, ...,\n",
              "         4.73939255e-03, 6.63983403e-03, 6.39081420e-03],\n",
              "        ...,\n",
              "        [1.76640898e-02, 1.19032666e-01, 7.59884939e-02, ...,\n",
              "         1.96654294e-02, 5.54596260e-03, 1.25496797e-02],\n",
              "        [8.61203820e-02, 5.18048704e-02, 1.15894685e-02, ...,\n",
              "         1.77792590e-02, 9.76619869e-03, 1.94638429e-04],\n",
              "        [2.22207144e-01, 2.35595435e-01, 2.48484015e-01, ...,\n",
              "         1.08869830e-02, 1.29140997e-02, 7.70806847e-03]],\n",
              "\n",
              "       [[3.86499539e-02, 2.40933150e-02, 1.92545075e-03, ...,\n",
              "         7.08216859e-04, 1.15794456e-03, 6.54688920e-05],\n",
              "        [3.54368389e-02, 2.11013108e-02, 1.62297245e-02, ...,\n",
              "         1.81011099e-03, 1.16178568e-03, 2.76516803e-04],\n",
              "        [4.15901616e-02, 2.22868659e-02, 5.58653148e-03, ...,\n",
              "         1.17805647e-03, 1.21635373e-03, 3.65518004e-04],\n",
              "        ...,\n",
              "        [2.23095175e-02, 1.64688136e-02, 3.11520230e-03, ...,\n",
              "         7.71805923e-03, 5.27522713e-03, 5.09723695e-03],\n",
              "        [1.55318165e-02, 1.11677004e-02, 1.93402003e-02, ...,\n",
              "         6.07954944e-03, 7.63609912e-03, 3.25179030e-03],\n",
              "        [3.29311639e-02, 1.78527310e-02, 3.47530330e-03, ...,\n",
              "         1.12931281e-02, 3.14722513e-03, 4.10812395e-03]],\n",
              "\n",
              "       [[4.99694198e-02, 2.61315648e-02, 6.24017697e-03, ...,\n",
              "         8.90992756e-04, 5.03598247e-03, 8.12417921e-03],\n",
              "        [5.39999120e-02, 2.64077913e-02, 9.75205470e-03, ...,\n",
              "         3.19023407e-03, 3.12342984e-03, 5.82231488e-03],\n",
              "        [6.16712123e-02, 2.68389862e-02, 1.21228304e-02, ...,\n",
              "         5.90471318e-03, 3.44503229e-03, 9.72185051e-04],\n",
              "        ...,\n",
              "        [1.96228083e-02, 3.98276933e-02, 2.88246386e-02, ...,\n",
              "         1.44117981e-01, 5.54815054e-01, 5.59076548e-01],\n",
              "        [1.12546487e-02, 1.82945542e-02, 4.43358570e-02, ...,\n",
              "         2.50372112e-01, 1.25148177e-01, 3.92393768e-02],\n",
              "        [6.42561972e-01, 5.88310838e-01, 5.39808154e-01, ...,\n",
              "         8.26505721e-02, 6.95259273e-02, 5.37024215e-02]]])"
            ]
          },
          "metadata": {},
          "execution_count": 124
        }
      ]
    },
    {
      "cell_type": "code",
      "source": [
        "testlabel.shape"
      ],
      "metadata": {
        "colab": {
          "base_uri": "https://localhost:8080/"
        },
        "id": "lreEnMndWZDB",
        "outputId": "a97e8b13-97c2-4a91-e747-219dcb1c4b47"
      },
      "execution_count": 125,
      "outputs": [
        {
          "output_type": "execute_result",
          "data": {
            "text/plain": [
              "(1800,)"
            ]
          },
          "metadata": {},
          "execution_count": 125
        }
      ]
    },
    {
      "cell_type": "code",
      "source": [],
      "metadata": {
        "id": "_xRaUTcEx5Hx"
      },
      "execution_count": 125,
      "outputs": []
    },
    {
      "cell_type": "code",
      "source": [
        "type(testpair)"
      ],
      "metadata": {
        "colab": {
          "base_uri": "https://localhost:8080/"
        },
        "id": "znKiV7GDlpRk",
        "outputId": "457fd1de-1f2e-4c43-9b16-fa592ed44750"
      },
      "execution_count": 126,
      "outputs": [
        {
          "output_type": "execute_result",
          "data": {
            "text/plain": [
              "numpy.ndarray"
            ]
          },
          "metadata": {},
          "execution_count": 126
        }
      ]
    },
    {
      "cell_type": "markdown",
      "source": [
        "pair.shape = (4500, 2, 45, 513)\n",
        "\n",
        "We have 4500 pairs\n",
        "Each pair contains 2 samples\n",
        "each sample shape is (45,513)\n",
        "\n",
        "L_utterance is 45 hence we have a 2L batch of 90 size\n",
        "\n",
        "\n",
        "50 of such speakers hence we have 90*50 = 4500 pairs"
      ],
      "metadata": {
        "id": "xxRNRur5Xk2U"
      }
    },
    {
      "cell_type": "code",
      "source": [
        "#Reference : https://keras.io/examples/vision/siamese_contrastive/\n",
        "def euclidean_distance(vects):\n",
        "    \"\"\"Find the Euclidean distance between two vectors.\n",
        "\n",
        "    Arguments:\n",
        "        vects: List containing two tensors of same length.\n",
        "\n",
        "    Returns:\n",
        "        Tensor containing euclidean distance\n",
        "        (as floating point value) between vectors.\n",
        "    \"\"\"\n",
        "\n",
        "    x, y = vects\n",
        "    sum_square = tf.math.reduce_sum(tf.math.square(x - y), axis=1, keepdims=True)\n",
        "    return tf.math.sqrt(tf.math.maximum(sum_square, tf.keras.backend.epsilon()))\n"
      ],
      "metadata": {
        "id": "XJFhfQKbWeVr"
      },
      "execution_count": 192,
      "outputs": []
    },
    {
      "cell_type": "code",
      "source": [
        "#Ref: #Reference : https://keras.io/examples/vision/siamese_contrastive/ \n",
        "#and https://towardsdatascience.com/siamese-networks-introduction-and-implementation-2140e3443dee\n",
        "\n",
        "\n",
        "input = layers.Input(shape=(45,513))\n",
        "x = tf.keras.layers.GRU(513, return_sequences=True,dropout=0.3 ,name = \"layer1\")(input),\n",
        "# x = tf.keras.layers.GRU(513, return_sequences=True,dropout=0.3, name = \"layer2\")(x[0]),\n",
        "x = tf.keras.layers.GRU(513, return_sequences=False,dropout=0.3 , name = \"layer3\")(x[0]),\n",
        "x = tf.keras.layers.Dense(128,activation = 'relu' , name = \"Denselayer2\")(x[0]),\n",
        "x = tf.keras.layers.Dense(32,activation = 'relu', name = \"Denselayer3\")(x[0])\n",
        "# x = tf.keras.layers.Dense(16,activation = 'relu' , name = \"Denselayer4\")(x[0])\n",
        "\n",
        "embedding_network = tf.keras.Model(input, x)\n",
        "\n",
        "ip1 = layers.Input((45,513))\n",
        "ip2 = layers.Input((45,513))\n",
        "\n",
        "left_model = embedding_network(ip1)\n",
        "right_model = embedding_network(ip2)\n",
        "\n",
        "x2 = tf.keras.layers.Lambda(euclidean_distance)([left_model, right_model])\n",
        "output = tf.keras.layers.Dense(1, activation=\"sigmoid\")(x2)\n",
        "siamesemodel = tf.keras.Model(inputs=[ip1, ip2], outputs=output)"
      ],
      "metadata": {
        "id": "TvxmyY8SeOE4"
      },
      "execution_count": 215,
      "outputs": []
    },
    {
      "cell_type": "code",
      "source": [
        "def loss(margin=1):\n",
        "    \"\"\"Provides 'constrastive_loss' an enclosing scope with variable 'margin'.\n",
        "    Returns:\n",
        "        'constrastive_loss' function with data ('margin') attached.\n",
        "    \"\"\"\n",
        "\n",
        "    # Contrastive loss = mean( (1-true_value) * square(prediction) +\n",
        "    #                         true_value * square( max(margin-prediction, 0) ))\n",
        "    def contrastive_loss(y_true, y_pred):\n",
        "        \"\"\"Calculates the constrastive loss.\n",
        "\n",
        "        Arguments:\n",
        "            y_true: List of labels, each label is of type float32.\n",
        "            y_pred: List of predictions of same length as of y_true,\n",
        "                    each label is of type float32.\n",
        "\n",
        "        Returns:\n",
        "            A tensor containing constrastive loss as floating point value.\n",
        "        \"\"\"\n",
        "\n",
        "        square_pred = tf.math.square(y_pred)\n",
        "        margin_square = tf.math.square(tf.math.maximum(margin - (y_pred), 0))\n",
        "        return tf.math.reduce_mean(\n",
        "            (1 - y_true) * square_pred + (y_true) * margin_square\n",
        "        )\n",
        "\n",
        "    return contrastive_loss"
      ],
      "metadata": {
        "id": "ucthtRqEh_OU"
      },
      "execution_count": 216,
      "outputs": []
    },
    {
      "cell_type": "code",
      "source": [
        "siamesemodel.compile(loss=loss(margin=1), optimizer=\"adam\", metrics=[\"accuracy\"])\n",
        "siamesemodel.summary()"
      ],
      "metadata": {
        "colab": {
          "base_uri": "https://localhost:8080/"
        },
        "id": "qXLJlsw6jquz",
        "outputId": "9bf52ce1-db5b-4299-bc39-37ecebb45729"
      },
      "execution_count": 217,
      "outputs": [
        {
          "output_type": "stream",
          "name": "stdout",
          "text": [
            "Model: \"model_60\"\n",
            "__________________________________________________________________________________________________\n",
            " Layer (type)                   Output Shape         Param #     Connected to                     \n",
            "==================================================================================================\n",
            " input_97 (InputLayer)          [(None, 45, 513)]    0           []                               \n",
            "                                                                                                  \n",
            " input_98 (InputLayer)          [(None, 45, 513)]    0           []                               \n",
            "                                                                                                  \n",
            " model_59 (Functional)          (None, 32)           3234104     ['input_97[0][0]',               \n",
            "                                                                  'input_98[0][0]']               \n",
            "                                                                                                  \n",
            " lambda_31 (Lambda)             (None, 1)            0           ['model_59[0][0]',               \n",
            "                                                                  'model_59[1][0]']               \n",
            "                                                                                                  \n",
            " dense_27 (Dense)               (None, 1)            2           ['lambda_31[0][0]']              \n",
            "                                                                                                  \n",
            "==================================================================================================\n",
            "Total params: 3,234,106\n",
            "Trainable params: 3,234,106\n",
            "Non-trainable params: 0\n",
            "__________________________________________________________________________________________________\n"
          ]
        }
      ]
    },
    {
      "cell_type": "code",
      "source": [
        "history = siamesemodel.fit(\n",
        "    [pair[:,0], pair[:,1]],\n",
        "    label,\n",
        "    validation_data=([testpair[:,0],testpair[:,1]],testlabel),\n",
        "    batch_size=60,\n",
        "    epochs=40\n",
        ")"
      ],
      "metadata": {
        "colab": {
          "base_uri": "https://localhost:8080/"
        },
        "id": "nTNgLrCxkQD6",
        "outputId": "1d300fab-4d5c-4e10-a987-aba2621e30f6"
      },
      "execution_count": 218,
      "outputs": [
        {
          "output_type": "stream",
          "name": "stdout",
          "text": [
            "Epoch 1/40\n",
            "30/30 [==============================] - 7s 88ms/step - loss: 0.2504 - accuracy: 0.5000 - val_loss: 0.2688 - val_accuracy: 0.5000\n",
            "Epoch 2/40\n",
            "30/30 [==============================] - 1s 35ms/step - loss: 0.2476 - accuracy: 0.5006 - val_loss: 0.2997 - val_accuracy: 0.5000\n",
            "Epoch 3/40\n",
            "30/30 [==============================] - 1s 35ms/step - loss: 0.2243 - accuracy: 0.5294 - val_loss: 0.2662 - val_accuracy: 0.5000\n",
            "Epoch 4/40\n",
            "30/30 [==============================] - 1s 35ms/step - loss: 0.2109 - accuracy: 0.5778 - val_loss: 0.2198 - val_accuracy: 0.5289\n",
            "Epoch 5/40\n",
            "30/30 [==============================] - 1s 35ms/step - loss: 0.2068 - accuracy: 0.6522 - val_loss: 0.2629 - val_accuracy: 0.5172\n",
            "Epoch 6/40\n",
            "30/30 [==============================] - 1s 35ms/step - loss: 0.2233 - accuracy: 0.6539 - val_loss: 0.2342 - val_accuracy: 0.5528\n",
            "Epoch 7/40\n",
            "30/30 [==============================] - 1s 35ms/step - loss: 0.2363 - accuracy: 0.5933 - val_loss: 0.2496 - val_accuracy: 0.5072\n",
            "Epoch 8/40\n",
            "30/30 [==============================] - 1s 35ms/step - loss: 0.2351 - accuracy: 0.5761 - val_loss: 0.2249 - val_accuracy: 0.5639\n",
            "Epoch 9/40\n",
            "30/30 [==============================] - 1s 35ms/step - loss: 0.2040 - accuracy: 0.6417 - val_loss: 0.2010 - val_accuracy: 0.6456\n",
            "Epoch 10/40\n",
            "30/30 [==============================] - 1s 35ms/step - loss: 0.1934 - accuracy: 0.6733 - val_loss: 0.2139 - val_accuracy: 0.6444\n",
            "Epoch 11/40\n",
            "30/30 [==============================] - 1s 35ms/step - loss: 0.1839 - accuracy: 0.7439 - val_loss: 0.1902 - val_accuracy: 0.7039\n",
            "Epoch 12/40\n",
            "30/30 [==============================] - 1s 35ms/step - loss: 0.1736 - accuracy: 0.7667 - val_loss: 0.1910 - val_accuracy: 0.6878\n",
            "Epoch 13/40\n",
            "30/30 [==============================] - 1s 35ms/step - loss: 0.1712 - accuracy: 0.7817 - val_loss: 0.1875 - val_accuracy: 0.7050\n",
            "Epoch 14/40\n",
            "30/30 [==============================] - 1s 35ms/step - loss: 0.1618 - accuracy: 0.8022 - val_loss: 0.1923 - val_accuracy: 0.6833\n",
            "Epoch 15/40\n",
            "30/30 [==============================] - 1s 35ms/step - loss: 0.1562 - accuracy: 0.8228 - val_loss: 0.1857 - val_accuracy: 0.7056\n",
            "Epoch 16/40\n",
            "30/30 [==============================] - 1s 35ms/step - loss: 0.1460 - accuracy: 0.8506 - val_loss: 0.1899 - val_accuracy: 0.7022\n",
            "Epoch 17/40\n",
            "30/30 [==============================] - 1s 35ms/step - loss: 0.1428 - accuracy: 0.8494 - val_loss: 0.1787 - val_accuracy: 0.7267\n",
            "Epoch 18/40\n",
            "30/30 [==============================] - 1s 35ms/step - loss: 0.1377 - accuracy: 0.8689 - val_loss: 0.1851 - val_accuracy: 0.7100\n",
            "Epoch 19/40\n",
            "30/30 [==============================] - 1s 35ms/step - loss: 0.1333 - accuracy: 0.8844 - val_loss: 0.1951 - val_accuracy: 0.6756\n",
            "Epoch 20/40\n",
            "30/30 [==============================] - 1s 35ms/step - loss: 0.1294 - accuracy: 0.8878 - val_loss: 0.1983 - val_accuracy: 0.6728\n",
            "Epoch 21/40\n",
            "30/30 [==============================] - 1s 35ms/step - loss: 0.1273 - accuracy: 0.8856 - val_loss: 0.2123 - val_accuracy: 0.6728\n",
            "Epoch 22/40\n",
            "30/30 [==============================] - 1s 35ms/step - loss: 0.1227 - accuracy: 0.9028 - val_loss: 0.2012 - val_accuracy: 0.6911\n",
            "Epoch 23/40\n",
            "30/30 [==============================] - 1s 35ms/step - loss: 0.1171 - accuracy: 0.9156 - val_loss: 0.1979 - val_accuracy: 0.7044\n",
            "Epoch 24/40\n",
            "30/30 [==============================] - 1s 35ms/step - loss: 0.1175 - accuracy: 0.9122 - val_loss: 0.2158 - val_accuracy: 0.6561\n",
            "Epoch 25/40\n",
            "30/30 [==============================] - 1s 35ms/step - loss: 0.1130 - accuracy: 0.9178 - val_loss: 0.1942 - val_accuracy: 0.6856\n",
            "Epoch 26/40\n",
            "30/30 [==============================] - 1s 36ms/step - loss: 0.1114 - accuracy: 0.9139 - val_loss: 0.1976 - val_accuracy: 0.6911\n",
            "Epoch 27/40\n",
            "30/30 [==============================] - 1s 35ms/step - loss: 0.1048 - accuracy: 0.9317 - val_loss: 0.1957 - val_accuracy: 0.6994\n",
            "Epoch 28/40\n",
            "30/30 [==============================] - 1s 36ms/step - loss: 0.1017 - accuracy: 0.9339 - val_loss: 0.1941 - val_accuracy: 0.7044\n",
            "Epoch 29/40\n",
            "30/30 [==============================] - 1s 35ms/step - loss: 0.0982 - accuracy: 0.9389 - val_loss: 0.2048 - val_accuracy: 0.6744\n",
            "Epoch 30/40\n",
            "30/30 [==============================] - 1s 35ms/step - loss: 0.0958 - accuracy: 0.9472 - val_loss: 0.2007 - val_accuracy: 0.6789\n",
            "Epoch 31/40\n",
            "30/30 [==============================] - 1s 35ms/step - loss: 0.0944 - accuracy: 0.9422 - val_loss: 0.1807 - val_accuracy: 0.7361\n",
            "Epoch 32/40\n",
            "30/30 [==============================] - 1s 34ms/step - loss: 0.0909 - accuracy: 0.9489 - val_loss: 0.2024 - val_accuracy: 0.6917\n",
            "Epoch 33/40\n",
            "30/30 [==============================] - 1s 35ms/step - loss: 0.0875 - accuracy: 0.9489 - val_loss: 0.2009 - val_accuracy: 0.6939\n",
            "Epoch 34/40\n",
            "30/30 [==============================] - 1s 35ms/step - loss: 0.0851 - accuracy: 0.9528 - val_loss: 0.2143 - val_accuracy: 0.6711\n",
            "Epoch 35/40\n",
            "30/30 [==============================] - 1s 35ms/step - loss: 0.0826 - accuracy: 0.9600 - val_loss: 0.2074 - val_accuracy: 0.6822\n",
            "Epoch 36/40\n",
            "30/30 [==============================] - 1s 35ms/step - loss: 0.0805 - accuracy: 0.9567 - val_loss: 0.2077 - val_accuracy: 0.6800\n",
            "Epoch 37/40\n",
            "30/30 [==============================] - 1s 35ms/step - loss: 0.0768 - accuracy: 0.9583 - val_loss: 0.2044 - val_accuracy: 0.6844\n",
            "Epoch 38/40\n",
            "30/30 [==============================] - 1s 35ms/step - loss: 0.0742 - accuracy: 0.9589 - val_loss: 0.2052 - val_accuracy: 0.6811\n",
            "Epoch 39/40\n",
            "30/30 [==============================] - 1s 35ms/step - loss: 0.0729 - accuracy: 0.9617 - val_loss: 0.2095 - val_accuracy: 0.7117\n",
            "Epoch 40/40\n",
            "30/30 [==============================] - 1s 35ms/step - loss: 0.0750 - accuracy: 0.9533 - val_loss: 0.1942 - val_accuracy: 0.7028\n"
          ]
        }
      ]
    },
    {
      "cell_type": "code",
      "source": [
        "history1 = siamesemodel.evaluate([testpair[:,0],testpair[:,1]],testlabel)"
      ],
      "metadata": {
        "colab": {
          "base_uri": "https://localhost:8080/"
        },
        "id": "MkEmZyoiuxLz",
        "outputId": "d9509a2e-bd0d-494b-cca9-9bd934739fcc"
      },
      "execution_count": 219,
      "outputs": [
        {
          "output_type": "stream",
          "name": "stdout",
          "text": [
            "57/57 [==============================] - 2s 11ms/step - loss: 0.1942 - accuracy: 0.7028\n"
          ]
        }
      ]
    },
    {
      "cell_type": "code",
      "source": [
        "plt.plot(history.history[\"accuracy\"],color='orange')\n",
        "plt.plot(history.history[\"val_accuracy\"],color='red')\n",
        "plt.legend([\"Train Accuracy\", \"Test Accuracy\"], loc=\"upper left\")\n",
        "plt.title(\"Train vs Test Accuracy\")\n",
        "plt.ylabel(\"Siamese Model Accuracy\")\n",
        "plt.xlabel(\"Number of Epochs\")\n",
        "plt.show()"
      ],
      "metadata": {
        "colab": {
          "base_uri": "https://localhost:8080/",
          "height": 295
        },
        "id": "1-w-We_o4c0U",
        "outputId": "d12e6f05-5804-4e40-daee-e9de90e35d92"
      },
      "execution_count": 223,
      "outputs": [
        {
          "output_type": "display_data",
          "data": {
            "text/plain": [
              "<Figure size 432x288 with 1 Axes>"
            ],
            "image/png": "[encoded data removed]"
          },
          "metadata": {
            "needs_background": "light"
          }
        }
      ]
    }
  ]
}