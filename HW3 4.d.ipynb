{
 "cells": [
  {
   "cell_type": "code",
   "execution_count": 25,
   "metadata": {},
   "outputs": [
    {
     "name": "stdout",
     "output_type": "stream",
     "text": [
      "Enter number of Nodes: 6\n",
      "enter the entires in a single line: \n",
      "0 0.25 0 0 0 0.5 0.5 0 0 0 0 0 0 0.25 0 0 0.5 0.5 0 0.25 1 0 0 0 0.5 0 0 0.5 0 0 0 0.25 0 0.5 0.5 0\n",
      "[[0.   0.25 0.   0.   0.   0.5 ]\n",
      " [0.5  0.   0.   0.   0.   0.  ]\n",
      " [0.   0.25 0.   0.   0.5  0.5 ]\n",
      " [0.   0.25 1.   0.   0.   0.  ]\n",
      " [0.5  0.   0.   0.5  0.   0.  ]\n",
      " [0.   0.25 0.   0.5  0.5  0.  ]]\n"
     ]
    }
   ],
   "source": [
    "import numpy as np\n",
    "N = int(input(\"Enter number of Nodes: \"))\n",
    "print(\"enter the entires in a single line: \")\n",
    "inputs = list(map(float,input().split()))\n",
    "M=np.array(inputs).reshape(N,N)\n",
    "print(M)"
   ]
  },
  {
   "cell_type": "code",
   "execution_count": 26,
   "metadata": {},
   "outputs": [],
   "source": [
    "def l1(x):\n",
    "    return np.sum(np.abs(x))\n",
    "def power_iteration(M,N,interations, eps=1e-9):\n",
    "    r = np.ones(N)/N\n",
    "    for _ in range(interations):\n",
    "        r_last = r\n",
    "        r = np.dot(M, r_last)\n",
    "        if  l1(r-r_last) < eps:\n",
    "            return r\n",
    "    return r"
   ]
  },
  {
   "cell_type": "code",
   "execution_count": 27,
   "metadata": {},
   "outputs": [
    {
     "name": "stdout",
     "output_type": "stream",
     "text": [
      "Enter Number of iterations: 100\n",
      "[0.12182741 0.06091371 0.20812183 0.22335025 0.17258883 0.21319797]\n"
     ]
    }
   ],
   "source": [
    "interations=int(input(\"Enter Number of iterations: \"))\n",
    "r=power_iteration(M,N,interations)\n",
    "print(r)"
   ]
  }
 ],
 "metadata": {
  "kernelspec": {
   "display_name": "Python 3",
   "language": "python",
   "name": "python3"
  }
 },
 "nbformat": 4,
 "nbformat_minor": 4
}
