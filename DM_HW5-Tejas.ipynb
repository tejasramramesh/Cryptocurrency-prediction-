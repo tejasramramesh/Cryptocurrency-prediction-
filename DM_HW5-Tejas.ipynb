{
 "cells": [
  {
   "cell_type": "code",
   "execution_count": 120,
   "metadata": {},
   "outputs": [],
   "source": [
    "import pandas as pd\n",
    "import numpy as np\n",
    "from sklearn import preprocessing\n",
    "from sklearn.model_selection import train_test_split\n",
    "from sklearn import linear_model\n",
    "import random"
   ]
  },
  {
   "cell_type": "code",
   "execution_count": 121,
   "metadata": {},
   "outputs": [],
   "source": [
    "collect_1 = pd.read_csv('auto-mpg.csv')"
   ]
  },
  {
   "cell_type": "code",
   "execution_count": 122,
   "metadata": {},
   "outputs": [
    {
     "data": {
      "text/plain": [
       "mpg             float64\n",
       "cylinders         int64\n",
       "displacement    float64\n",
       "horsepower       object\n",
       "weight            int64\n",
       "acceleration    float64\n",
       "model year        int64\n",
       "origin            int64\n",
       "car name         object\n",
       "dtype: object"
      ]
     },
     "execution_count": 122,
     "metadata": {},
     "output_type": "execute_result"
    }
   ],
   "source": [
    "collect_1.dtypes"
   ]
  },
  {
   "cell_type": "code",
   "execution_count": 123,
   "metadata": {},
   "outputs": [
    {
     "data": {
      "text/plain": [
       "mpg             0\n",
       "cylinders       0\n",
       "displacement    0\n",
       "horsepower      0\n",
       "weight          0\n",
       "acceleration    0\n",
       "model year      0\n",
       "origin          0\n",
       "car name        0\n",
       "dtype: int64"
      ]
     },
     "execution_count": 123,
     "metadata": {},
     "output_type": "execute_result"
    }
   ],
   "source": [
    "collect_1.isnull().sum() # We get all null values number and get to see all columns at the same time"
   ]
  },
  {
   "cell_type": "code",
   "execution_count": 124,
   "metadata": {},
   "outputs": [
    {
     "data": {
      "text/html": [
       "<div>\n",
       "<style scoped>\n",
       "    .dataframe tbody tr th:only-of-type {\n",
       "        vertical-align: middle;\n",
       "    }\n",
       "\n",
       "    .dataframe tbody tr th {\n",
       "        vertical-align: top;\n",
       "    }\n",
       "\n",
       "    .dataframe thead th {\n",
       "        text-align: right;\n",
       "    }\n",
       "</style>\n",
       "<table border=\"1\" class=\"dataframe\">\n",
       "  <thead>\n",
       "    <tr style=\"text-align: right;\">\n",
       "      <th></th>\n",
       "      <th>mpg</th>\n",
       "      <th>cylinders</th>\n",
       "      <th>displacement</th>\n",
       "      <th>horsepower</th>\n",
       "      <th>weight</th>\n",
       "      <th>acceleration</th>\n",
       "      <th>model year</th>\n",
       "      <th>origin</th>\n",
       "      <th>car name</th>\n",
       "    </tr>\n",
       "  </thead>\n",
       "  <tbody>\n",
       "    <tr>\n",
       "      <td>32</td>\n",
       "      <td>25.0</td>\n",
       "      <td>4</td>\n",
       "      <td>98.0</td>\n",
       "      <td>0.0</td>\n",
       "      <td>2046</td>\n",
       "      <td>19.0</td>\n",
       "      <td>71</td>\n",
       "      <td>1</td>\n",
       "      <td>ford pinto</td>\n",
       "    </tr>\n",
       "    <tr>\n",
       "      <td>126</td>\n",
       "      <td>21.0</td>\n",
       "      <td>6</td>\n",
       "      <td>200.0</td>\n",
       "      <td>0.0</td>\n",
       "      <td>2875</td>\n",
       "      <td>17.0</td>\n",
       "      <td>74</td>\n",
       "      <td>1</td>\n",
       "      <td>ford maverick</td>\n",
       "    </tr>\n",
       "    <tr>\n",
       "      <td>330</td>\n",
       "      <td>40.9</td>\n",
       "      <td>4</td>\n",
       "      <td>85.0</td>\n",
       "      <td>0.0</td>\n",
       "      <td>1835</td>\n",
       "      <td>17.3</td>\n",
       "      <td>80</td>\n",
       "      <td>2</td>\n",
       "      <td>renault lecar deluxe</td>\n",
       "    </tr>\n",
       "    <tr>\n",
       "      <td>336</td>\n",
       "      <td>23.6</td>\n",
       "      <td>4</td>\n",
       "      <td>140.0</td>\n",
       "      <td>0.0</td>\n",
       "      <td>2905</td>\n",
       "      <td>14.3</td>\n",
       "      <td>80</td>\n",
       "      <td>1</td>\n",
       "      <td>ford mustang cobra</td>\n",
       "    </tr>\n",
       "    <tr>\n",
       "      <td>354</td>\n",
       "      <td>34.5</td>\n",
       "      <td>4</td>\n",
       "      <td>100.0</td>\n",
       "      <td>0.0</td>\n",
       "      <td>2320</td>\n",
       "      <td>15.8</td>\n",
       "      <td>81</td>\n",
       "      <td>2</td>\n",
       "      <td>renault 18i</td>\n",
       "    </tr>\n",
       "    <tr>\n",
       "      <td>374</td>\n",
       "      <td>23.0</td>\n",
       "      <td>4</td>\n",
       "      <td>151.0</td>\n",
       "      <td>0.0</td>\n",
       "      <td>3035</td>\n",
       "      <td>20.5</td>\n",
       "      <td>82</td>\n",
       "      <td>1</td>\n",
       "      <td>amc concord dl</td>\n",
       "    </tr>\n",
       "  </tbody>\n",
       "</table>\n",
       "</div>"
      ],
      "text/plain": [
       "      mpg  cylinders  displacement  horsepower  weight  acceleration  \\\n",
       "32   25.0          4          98.0         0.0    2046          19.0   \n",
       "126  21.0          6         200.0         0.0    2875          17.0   \n",
       "330  40.9          4          85.0         0.0    1835          17.3   \n",
       "336  23.6          4         140.0         0.0    2905          14.3   \n",
       "354  34.5          4         100.0         0.0    2320          15.8   \n",
       "374  23.0          4         151.0         0.0    3035          20.5   \n",
       "\n",
       "     model year  origin              car name  \n",
       "32           71       1            ford pinto  \n",
       "126          74       1         ford maverick  \n",
       "330          80       2  renault lecar deluxe  \n",
       "336          80       1    ford mustang cobra  \n",
       "354          81       2           renault 18i  \n",
       "374          82       1        amc concord dl  "
      ]
     },
     "execution_count": 124,
     "metadata": {},
     "output_type": "execute_result"
    }
   ],
   "source": [
    "collect_1 = collect_1.replace('?', 0)\n",
    "collect_1['horsepower'] = collect_1['horsepower'].astype(float, errors = 'raise')\n",
    "collect_1.loc[collect_1['horsepower']==0]\n",
    "\n",
    "# Done to change horsepower dtype to string"
   ]
  },
  {
   "cell_type": "code",
   "execution_count": 125,
   "metadata": {},
   "outputs": [],
   "source": [
    "# L2 norm used here\n",
    "\n",
    "dfa = collect_1.drop('car name',axis=1)\n",
    "x=dfa.drop('mpg',axis=1) # Independent variable\n",
    "y= dfa['mpg'] # Dependent variable\n",
    "X_train,X_test,y_train,y_test = train_test_split(x,y,test_size=0.333)\n",
    "\n",
    "# In this step we split the dataset into X train, Xtest, Y train , Y test. \n",
    "#This will help us partition data for training and testing purposes. In ration 2/3 for training and 1/3 for testing"
   ]
  },
  {
   "cell_type": "code",
   "execution_count": 126,
   "metadata": {},
   "outputs": [
    {
     "data": {
      "text/html": [
       "<div>\n",
       "<style scoped>\n",
       "    .dataframe tbody tr th:only-of-type {\n",
       "        vertical-align: middle;\n",
       "    }\n",
       "\n",
       "    .dataframe tbody tr th {\n",
       "        vertical-align: top;\n",
       "    }\n",
       "\n",
       "    .dataframe thead th {\n",
       "        text-align: right;\n",
       "    }\n",
       "</style>\n",
       "<table border=\"1\" class=\"dataframe\">\n",
       "  <thead>\n",
       "    <tr style=\"text-align: right;\">\n",
       "      <th></th>\n",
       "      <th>cylinders</th>\n",
       "      <th>displacement</th>\n",
       "      <th>horsepower</th>\n",
       "      <th>weight</th>\n",
       "      <th>acceleration</th>\n",
       "      <th>model year</th>\n",
       "      <th>origin</th>\n",
       "    </tr>\n",
       "  </thead>\n",
       "  <tbody>\n",
       "    <tr>\n",
       "      <td>114</td>\n",
       "      <td>4</td>\n",
       "      <td>98.0</td>\n",
       "      <td>90.0</td>\n",
       "      <td>2265</td>\n",
       "      <td>15.5</td>\n",
       "      <td>73</td>\n",
       "      <td>2</td>\n",
       "    </tr>\n",
       "    <tr>\n",
       "      <td>141</td>\n",
       "      <td>4</td>\n",
       "      <td>98.0</td>\n",
       "      <td>83.0</td>\n",
       "      <td>2219</td>\n",
       "      <td>16.5</td>\n",
       "      <td>74</td>\n",
       "      <td>2</td>\n",
       "    </tr>\n",
       "    <tr>\n",
       "      <td>209</td>\n",
       "      <td>4</td>\n",
       "      <td>120.0</td>\n",
       "      <td>88.0</td>\n",
       "      <td>3270</td>\n",
       "      <td>21.9</td>\n",
       "      <td>76</td>\n",
       "      <td>2</td>\n",
       "    </tr>\n",
       "    <tr>\n",
       "      <td>324</td>\n",
       "      <td>4</td>\n",
       "      <td>85.0</td>\n",
       "      <td>65.0</td>\n",
       "      <td>2110</td>\n",
       "      <td>19.2</td>\n",
       "      <td>80</td>\n",
       "      <td>3</td>\n",
       "    </tr>\n",
       "    <tr>\n",
       "      <td>334</td>\n",
       "      <td>3</td>\n",
       "      <td>70.0</td>\n",
       "      <td>100.0</td>\n",
       "      <td>2420</td>\n",
       "      <td>12.5</td>\n",
       "      <td>80</td>\n",
       "      <td>3</td>\n",
       "    </tr>\n",
       "    <tr>\n",
       "      <td>...</td>\n",
       "      <td>...</td>\n",
       "      <td>...</td>\n",
       "      <td>...</td>\n",
       "      <td>...</td>\n",
       "      <td>...</td>\n",
       "      <td>...</td>\n",
       "      <td>...</td>\n",
       "    </tr>\n",
       "    <tr>\n",
       "      <td>319</td>\n",
       "      <td>4</td>\n",
       "      <td>120.0</td>\n",
       "      <td>75.0</td>\n",
       "      <td>2542</td>\n",
       "      <td>17.5</td>\n",
       "      <td>80</td>\n",
       "      <td>3</td>\n",
       "    </tr>\n",
       "    <tr>\n",
       "      <td>243</td>\n",
       "      <td>3</td>\n",
       "      <td>80.0</td>\n",
       "      <td>110.0</td>\n",
       "      <td>2720</td>\n",
       "      <td>13.5</td>\n",
       "      <td>77</td>\n",
       "      <td>3</td>\n",
       "    </tr>\n",
       "    <tr>\n",
       "      <td>54</td>\n",
       "      <td>4</td>\n",
       "      <td>72.0</td>\n",
       "      <td>69.0</td>\n",
       "      <td>1613</td>\n",
       "      <td>18.0</td>\n",
       "      <td>71</td>\n",
       "      <td>3</td>\n",
       "    </tr>\n",
       "    <tr>\n",
       "      <td>363</td>\n",
       "      <td>6</td>\n",
       "      <td>231.0</td>\n",
       "      <td>110.0</td>\n",
       "      <td>3415</td>\n",
       "      <td>15.8</td>\n",
       "      <td>81</td>\n",
       "      <td>1</td>\n",
       "    </tr>\n",
       "    <tr>\n",
       "      <td>50</td>\n",
       "      <td>4</td>\n",
       "      <td>116.0</td>\n",
       "      <td>90.0</td>\n",
       "      <td>2123</td>\n",
       "      <td>14.0</td>\n",
       "      <td>71</td>\n",
       "      <td>2</td>\n",
       "    </tr>\n",
       "  </tbody>\n",
       "</table>\n",
       "<p>265 rows × 7 columns</p>\n",
       "</div>"
      ],
      "text/plain": [
       "     cylinders  displacement  horsepower  weight  acceleration  model year  \\\n",
       "114          4          98.0        90.0    2265          15.5          73   \n",
       "141          4          98.0        83.0    2219          16.5          74   \n",
       "209          4         120.0        88.0    3270          21.9          76   \n",
       "324          4          85.0        65.0    2110          19.2          80   \n",
       "334          3          70.0       100.0    2420          12.5          80   \n",
       "..         ...           ...         ...     ...           ...         ...   \n",
       "319          4         120.0        75.0    2542          17.5          80   \n",
       "243          3          80.0       110.0    2720          13.5          77   \n",
       "54           4          72.0        69.0    1613          18.0          71   \n",
       "363          6         231.0       110.0    3415          15.8          81   \n",
       "50           4         116.0        90.0    2123          14.0          71   \n",
       "\n",
       "     origin  \n",
       "114       2  \n",
       "141       2  \n",
       "209       2  \n",
       "324       3  \n",
       "334       3  \n",
       "..      ...  \n",
       "319       3  \n",
       "243       3  \n",
       "54        3  \n",
       "363       1  \n",
       "50        2  \n",
       "\n",
       "[265 rows x 7 columns]"
      ]
     },
     "execution_count": 126,
     "metadata": {},
     "output_type": "execute_result"
    }
   ],
   "source": [
    "X_train"
   ]
  },
  {
   "cell_type": "code",
   "execution_count": 127,
   "metadata": {},
   "outputs": [
    {
     "data": {
      "text/plain": [
       "LinearRegression(copy_X=True, fit_intercept=True, n_jobs=None, normalize=False)"
      ]
     },
     "execution_count": 127,
     "metadata": {},
     "output_type": "execute_result"
    }
   ],
   "source": [
    "from sklearn.preprocessing import Normalizer     # Inbuilt\n",
    "nm = Normalizer(norm = 'l2')\n",
    "X_train = nm.fit_transform(X_train)\n",
    "X_test = nm.transform(X_test)\n",
    "\n",
    "reg1 = linear_model.LinearRegression()\n",
    "reg1.fit(X_train,y_train)"
   ]
  },
  {
   "cell_type": "code",
   "execution_count": 128,
   "metadata": {},
   "outputs": [
    {
     "data": {
      "text/plain": [
       "0.8106892652374971"
      ]
     },
     "execution_count": 128,
     "metadata": {},
     "output_type": "execute_result"
    }
   ],
   "source": [
    "reg1.score(X_train,y_train)"
   ]
  },
  {
   "cell_type": "code",
   "execution_count": 129,
   "metadata": {},
   "outputs": [
    {
     "data": {
      "text/html": [
       "<div>\n",
       "<style scoped>\n",
       "    .dataframe tbody tr th:only-of-type {\n",
       "        vertical-align: middle;\n",
       "    }\n",
       "\n",
       "    .dataframe tbody tr th {\n",
       "        vertical-align: top;\n",
       "    }\n",
       "\n",
       "    .dataframe thead th {\n",
       "        text-align: right;\n",
       "    }\n",
       "</style>\n",
       "<table border=\"1\" class=\"dataframe\">\n",
       "  <thead>\n",
       "    <tr style=\"text-align: right;\">\n",
       "      <th></th>\n",
       "      <th>cylinders</th>\n",
       "      <th>displacement</th>\n",
       "      <th>horsepower</th>\n",
       "      <th>weight</th>\n",
       "      <th>acceleration</th>\n",
       "      <th>model year</th>\n",
       "      <th>origin</th>\n",
       "    </tr>\n",
       "  </thead>\n",
       "  <tbody>\n",
       "    <tr>\n",
       "      <td>0</td>\n",
       "      <td>-2463.243733</td>\n",
       "      <td>34.63221</td>\n",
       "      <td>-121.107388</td>\n",
       "      <td>103.756931</td>\n",
       "      <td>23.256692</td>\n",
       "      <td>897.716582</td>\n",
       "      <td>684.560212</td>\n",
       "    </tr>\n",
       "  </tbody>\n",
       "</table>\n",
       "</div>"
      ],
      "text/plain": [
       "     cylinders  displacement  horsepower      weight  acceleration  \\\n",
       "0 -2463.243733      34.63221 -121.107388  103.756931     23.256692   \n",
       "\n",
       "   model year      origin  \n",
       "0  897.716582  684.560212  "
      ]
     },
     "execution_count": 129,
     "metadata": {},
     "output_type": "execute_result"
    }
   ],
   "source": [
    "\n",
    "dfb = pd.DataFrame(reg1.coef_).T\n",
    "dfb = dfb.rename(columns={0: \"cylinders\", 1: \"displacement\",2:\"horsepower\",3:\"weight\",4:\"acceleration\",5:\"model year\",6:\"origin\"})\n",
    "dfb # to casually check result of perations\n"
   ]
  },
  {
   "cell_type": "code",
   "execution_count": 130,
   "metadata": {},
   "outputs": [
    {
     "data": {
      "text/plain": [
       "array([-2463.24373271,    34.63221008,  -121.10738755,   103.75693147,\n",
       "          23.25669247,   897.71658161,   684.56021162])"
      ]
     },
     "execution_count": 130,
     "metadata": {},
     "output_type": "execute_result"
    }
   ],
   "source": [
    "coeff1 = reg1.coef_\n",
    "coeff1"
   ]
  },
  {
   "cell_type": "code",
   "execution_count": 131,
   "metadata": {},
   "outputs": [
    {
     "name": "stdout",
     "output_type": "stream",
     "text": [
      "Mean Squared Error :  11.147965363734231\n"
     ]
    }
   ],
   "source": [
    "from sklearn.metrics import mean_squared_error\n",
    "y_pred_test = reg1.predict(X_test)\n",
    "MeanSqError = mean_squared_error(y_test,y_pred_test) # Evaluating the RMSE values for the test Predictions\n",
    "print('Mean Squared Error : ',MeanSquaredError)"
   ]
  },
  {
   "cell_type": "code",
   "execution_count": 132,
   "metadata": {},
   "outputs": [
    {
     "data": {
      "text/plain": [
       "0.001"
      ]
     },
     "execution_count": 132,
     "metadata": {},
     "output_type": "execute_result"
    }
   ],
   "source": [
    "np.random.seed(42)\n",
    "linregCV = linear_model.RidgeCV(alphas=[0.001,0.01,0.01,10.0,100.0,1000.0,1000.0,1000.0],cv=5)\n",
    "linregCV.fit(X_train,y_train)\n",
    "linregCV.alpha_"
   ]
  },
  {
   "cell_type": "code",
   "execution_count": 133,
   "metadata": {},
   "outputs": [
    {
     "data": {
      "text/plain": [
       "0.8100414202727876"
      ]
     },
     "execution_count": 133,
     "metadata": {},
     "output_type": "execute_result"
    }
   ],
   "source": [
    "\n",
    "linridgeCV = linear_model.Ridge(alpha=0.01,normalize=True)\n",
    "linridgeCV.fit(X_train,y_train)\n",
    "linridgeCV.score(X_train,y_train)"
   ]
  },
  {
   "cell_type": "code",
   "execution_count": 134,
   "metadata": {},
   "outputs": [
    {
     "data": {
      "text/plain": [
       "array([-1862.05870361,    -2.78485176,  -121.26904217,  -192.53626176,\n",
       "         155.07161376,   815.58110412,   723.30396269])"
      ]
     },
     "execution_count": 134,
     "metadata": {},
     "output_type": "execute_result"
    }
   ],
   "source": [
    "coeff2 = linridgeCV.coef_\n",
    "coeff2"
   ]
  },
  {
   "cell_type": "code",
   "execution_count": 135,
   "metadata": {},
   "outputs": [
    {
     "data": {
      "text/plain": [
       "array([18.82089475, 22.20142451, 32.93433985, 29.12992204, 34.40439588,\n",
       "       16.15686523, 35.98570326, 24.6702725 , 13.05066821, 28.27914723,\n",
       "       17.69527381, 14.3653996 , 19.06268785, 29.77670724, 21.55701675,\n",
       "       21.20108778, 26.68353037, 19.53842324, 14.85249273, 18.96391254,\n",
       "       13.30009791, 32.37638235, 26.10020453, 20.17293198, 12.9026615 ,\n",
       "       25.68679137, 12.87679285, 22.91169824, 20.75546507, 33.11613554,\n",
       "       25.09313258, 22.71353991, 36.22569511, 26.30480056, 27.25699015,\n",
       "       14.65323276, 34.2190685 , 21.03763447, 12.97466391, 31.00770584,\n",
       "       27.87744128, 34.60909857, 24.61774644, 28.62980162, 20.40806859,\n",
       "       21.68366457, 14.46112081, 26.6164932 , 25.52804388, 16.70094299,\n",
       "       35.55451661, 20.5130999 , 31.8536226 , 25.43043032, 15.77139429,\n",
       "       33.66915676, 20.36376985, 15.1305317 , 30.61352133, 33.6969068 ,\n",
       "       23.49827639, 14.26827474, 36.37211475, 16.97022666, 20.09284987,\n",
       "       27.92379774, 11.56753636, 22.75384736, 39.29044505, 22.77231677,\n",
       "       12.13499068, 18.49387136, 35.21185391, 23.62652728, 34.1774882 ,\n",
       "       14.59192115, 25.62018657, 24.9363117 , 26.00934943, 12.17015936,\n",
       "       35.6276298 , 12.15009186, 14.95751601, 26.64127025, 13.72828508,\n",
       "       21.69794357, 22.34852071, 15.12149455, 15.82788143, 29.72718369,\n",
       "       26.62172169, 28.76264226, 32.91914692, 25.50804076, 12.06586386,\n",
       "       18.98985721, 33.37058142, 19.99687327, 31.54169836, 24.38350852,\n",
       "       25.48352886, 12.43446771, 19.708025  , 28.26014989, 16.12542537,\n",
       "       35.62819476, 20.17006565, 20.73600666, 19.76856376, 34.18021998,\n",
       "       25.89770793, 15.3012844 , 27.53332277, 24.94111891, 25.52104823,\n",
       "       24.74357526, 30.21335818, 13.30410736, 26.2322031 , 18.91942104,\n",
       "       27.81109364, 27.91793933, 14.42363599, 17.59737897, 14.39051371,\n",
       "       12.14968458, 12.02573463, 20.47229663, 26.63786421, 27.54586735,\n",
       "       26.09670944, 24.56849746, 28.87659916])"
      ]
     },
     "execution_count": 135,
     "metadata": {},
     "output_type": "execute_result"
    }
   ],
   "source": [
    "y_predCV = linridgeCV.predict(X_test) \n",
    "y_predCV"
   ]
  },
  {
   "cell_type": "code",
   "execution_count": 136,
   "metadata": {},
   "outputs": [
    {
     "data": {
      "text/plain": [
       "10.078905193059327"
      ]
     },
     "execution_count": 136,
     "metadata": {},
     "output_type": "execute_result"
    }
   ],
   "source": [
    "MeanSqError = np.square(np.subtract(y_test,y_predCV)).mean() \n",
    "MeanSqError"
   ]
  },
  {
   "cell_type": "code",
   "execution_count": 137,
   "metadata": {},
   "outputs": [],
   "source": [
    "np.random.seed(42)\n",
    "lassoCV=linear_model.LassoCV(alphas=[0.0001,0.001,0.01,0.1,1],max_iter=10000,cv=10)\n",
    "lassoCV.fit(X_train,y_train)\n",
    "y_predlasso=lassoCV.predict(X_test)"
   ]
  },
  {
   "cell_type": "code",
   "execution_count": 138,
   "metadata": {},
   "outputs": [
    {
     "data": {
      "text/plain": [
       "0.0001"
      ]
     },
     "execution_count": 138,
     "metadata": {},
     "output_type": "execute_result"
    }
   ],
   "source": [
    "lassoCV.alpha_"
   ]
  },
  {
   "cell_type": "code",
   "execution_count": 139,
   "metadata": {},
   "outputs": [
    {
     "data": {
      "text/plain": [
       "0.8104857786484225"
      ]
     },
     "execution_count": 139,
     "metadata": {},
     "output_type": "execute_result"
    }
   ],
   "source": [
    "LCV = linear_model.Lasso(alpha=0.001,normalize=True)\n",
    "LCV.fit(X_train,y_train)\n",
    "LCV.score(X_train,y_train)"
   ]
  },
  {
   "cell_type": "code",
   "execution_count": 140,
   "metadata": {},
   "outputs": [
    {
     "data": {
      "text/plain": [
       "array([-1868.66908674,     5.90717546,  -122.53958782,   -65.47712536,\n",
       "           0.        ,   871.95693234,   496.50973391])"
      ]
     },
     "execution_count": 140,
     "metadata": {},
     "output_type": "execute_result"
    }
   ],
   "source": [
    "coeff3 = LCV.coef_\n",
    "coeff3"
   ]
  },
  {
   "cell_type": "code",
   "execution_count": 141,
   "metadata": {},
   "outputs": [],
   "source": [
    "y_predlasso=lassoCV.predict(X_test)"
   ]
  },
  {
   "cell_type": "code",
   "execution_count": 142,
   "metadata": {},
   "outputs": [],
   "source": [
    "MeanSqError=np.square(np.subtract(y_test,y_predlasso)).mean()"
   ]
  },
  {
   "cell_type": "code",
   "execution_count": 143,
   "metadata": {},
   "outputs": [
    {
     "data": {
      "text/plain": [
       "array([-2463.24373271,    34.63221008,  -121.10738755,   103.75693147,\n",
       "          23.25669247,   897.71658161,   684.56021162])"
      ]
     },
     "execution_count": 143,
     "metadata": {},
     "output_type": "execute_result"
    }
   ],
   "source": [
    "coeff1"
   ]
  },
  {
   "cell_type": "code",
   "execution_count": 144,
   "metadata": {},
   "outputs": [
    {
     "data": {
      "text/plain": [
       "array([-1862.05870361,    -2.78485176,  -121.26904217,  -192.53626176,\n",
       "         155.07161376,   815.58110412,   723.30396269])"
      ]
     },
     "execution_count": 144,
     "metadata": {},
     "output_type": "execute_result"
    }
   ],
   "source": [
    "coeff2"
   ]
  },
  {
   "cell_type": "code",
   "execution_count": 145,
   "metadata": {},
   "outputs": [
    {
     "data": {
      "text/plain": [
       "array([-1868.66908674,     5.90717546,  -122.53958782,   -65.47712536,\n",
       "           0.        ,   871.95693234,   496.50973391])"
      ]
     },
     "execution_count": 145,
     "metadata": {},
     "output_type": "execute_result"
    }
   ],
   "source": [
    "coeff3"
   ]
  },
  {
   "cell_type": "markdown",
   "metadata": {},
   "source": [
    "Q 2\n",
    "\n",
    "(e)\t\n",
    "\n",
    "Coefficients value is reduced by Regularization therefore it directly effects the importance of an attribute.  Linear Regression and Ridge reduce value of coefficient that are not important, but LassoCV converts coefficients that are not valueable to 0.\n",
    "\n",
    "Since Cross Validaton reduces the Mean Square Error [MSE] , therefore MSE is a guide which indicates best result. Hence LassoCV gives the best result going by MSE followed by RidgeCV and Linear Regression"
   ]
  }
 ],
 "metadata": {
  "kernelspec": {
   "display_name": "Python 3",
   "language": "python",
   "name": "python3"
  },
  "language_info": {
   "codemirror_mode": {
    "name": "ipython",
    "version": 3
   },
   "file_extension": ".py",
   "mimetype": "text/x-python",
   "name": "python",
   "nbconvert_exporter": "python",
   "pygments_lexer": "ipython3",
   "version": "3.7.4"
  }
 },
 "nbformat": 4,
 "nbformat_minor": 2
}
