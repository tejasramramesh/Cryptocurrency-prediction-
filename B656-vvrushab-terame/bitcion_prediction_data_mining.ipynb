{
  "nbformat": 4,
  "nbformat_minor": 0,
  "metadata": {
    "kernelspec": {
      "display_name": "Python 3",
      "language": "python",
      "name": "python3"
    },
    "language_info": {
      "codemirror_mode": {
        "name": "ipython",
        "version": 3
      },
      "file_extension": ".py",
      "mimetype": "text/x-python",
      "name": "python",
      "nbconvert_exporter": "python",
      "pygments_lexer": "ipython3",
      "version": "3.7.4"
    },
    "colab": {
      "name": "Bitcoin Price Prediction Using RNN - LSTM.ipynb",
      "provenance": [],
      "collapsed_sections": []
    }
  },
  "cells": [
    {
      "cell_type": "markdown",
      "source": [
        "# Bitcoin prediction using RNN and LSTM"
      ],
      "metadata": {
        "id": "k2YUazACRiHx"
      }
    },
    {
      "cell_type": "markdown",
      "source": [
        "## Importing the necessary libraries"
      ],
      "metadata": {
        "id": "JpPPY-HZRtQL"
      }
    },
    {
      "cell_type": "code",
      "metadata": {
        "id": "UTLddt1rkUVU"
      },
      "source": [
        "import numpy as np\n",
        "import matplotlib.pyplot as plt\n",
        "import pandas as pd\n",
        "from sklearn.preprocessing import MinMaxScaler"
      ],
      "execution_count": 1,
      "outputs": []
    },
    {
      "cell_type": "markdown",
      "source": [
        "## Importing the dataset"
      ],
      "metadata": {
        "id": "mBdqPAL0Rzwg"
      }
    },
    {
      "cell_type": "code",
      "metadata": {
        "colab": {
          "base_uri": "https://localhost:8080/",
          "height": 206
        },
        "id": "PytmBz5BkUVW",
        "outputId": "233d557b-0c6e-493e-c417-fd0c114fc028"
      },
      "source": [
        "dataset = pd.read_csv('BTC-USD.csv', date_parser = True)\n",
        "dataset.tail()"
      ],
      "execution_count": 2,
      "outputs": [
        {
          "output_type": "execute_result",
          "data": {
            "text/html": [
              "<div>\n",
              "<style scoped>\n",
              "    .dataframe tbody tr th:only-of-type {\n",
              "        vertical-align: middle;\n",
              "    }\n",
              "\n",
              "    .dataframe tbody tr th {\n",
              "        vertical-align: top;\n",
              "    }\n",
              "\n",
              "    .dataframe thead th {\n",
              "        text-align: right;\n",
              "    }\n",
              "</style>\n",
              "<table border=\"1\" class=\"dataframe\">\n",
              "  <thead>\n",
              "    <tr style=\"text-align: right;\">\n",
              "      <th></th>\n",
              "      <th>Date</th>\n",
              "      <th>Open</th>\n",
              "      <th>High</th>\n",
              "      <th>Low</th>\n",
              "      <th>Close</th>\n",
              "      <th>Adj Close</th>\n",
              "      <th>Volume</th>\n",
              "    </tr>\n",
              "  </thead>\n",
              "  <tbody>\n",
              "    <tr>\n",
              "      <th>2075</th>\n",
              "      <td>2020-05-23</td>\n",
              "      <td>9185.062500</td>\n",
              "      <td>9302.501953</td>\n",
              "      <td>9118.108398</td>\n",
              "      <td>9209.287109</td>\n",
              "      <td>9209.287109</td>\n",
              "      <td>2.772787e+10</td>\n",
              "    </tr>\n",
              "    <tr>\n",
              "      <th>2076</th>\n",
              "      <td>2020-05-24</td>\n",
              "      <td>9212.283203</td>\n",
              "      <td>9288.404297</td>\n",
              "      <td>8787.250977</td>\n",
              "      <td>8790.368164</td>\n",
              "      <td>8790.368164</td>\n",
              "      <td>3.251880e+10</td>\n",
              "    </tr>\n",
              "    <tr>\n",
              "      <th>2077</th>\n",
              "      <td>2020-05-25</td>\n",
              "      <td>8786.107422</td>\n",
              "      <td>8951.005859</td>\n",
              "      <td>8719.667969</td>\n",
              "      <td>8906.934570</td>\n",
              "      <td>8906.934570</td>\n",
              "      <td>3.128816e+10</td>\n",
              "    </tr>\n",
              "    <tr>\n",
              "      <th>2078</th>\n",
              "      <td>2020-05-26</td>\n",
              "      <td>NaN</td>\n",
              "      <td>NaN</td>\n",
              "      <td>NaN</td>\n",
              "      <td>NaN</td>\n",
              "      <td>NaN</td>\n",
              "      <td>NaN</td>\n",
              "    </tr>\n",
              "    <tr>\n",
              "      <th>2079</th>\n",
              "      <td>2020-05-27</td>\n",
              "      <td>8834.157227</td>\n",
              "      <td>8859.578125</td>\n",
              "      <td>8834.157227</td>\n",
              "      <td>8856.885742</td>\n",
              "      <td>8856.885742</td>\n",
              "      <td>2.914432e+10</td>\n",
              "    </tr>\n",
              "  </tbody>\n",
              "</table>\n",
              "</div>"
            ],
            "text/plain": [
              "            Date         Open  ...    Adj Close        Volume\n",
              "2075  2020-05-23  9185.062500  ...  9209.287109  2.772787e+10\n",
              "2076  2020-05-24  9212.283203  ...  8790.368164  3.251880e+10\n",
              "2077  2020-05-25  8786.107422  ...  8906.934570  3.128816e+10\n",
              "2078  2020-05-26          NaN  ...          NaN           NaN\n",
              "2079  2020-05-27  8834.157227  ...  8856.885742  2.914432e+10\n",
              "\n",
              "[5 rows x 7 columns]"
            ]
          },
          "metadata": {},
          "execution_count": 2
        }
      ]
    },
    {
      "cell_type": "markdown",
      "source": [
        "## Splitting the dataset into testing and training data"
      ],
      "metadata": {
        "id": "V-1SmWVGR3en"
      }
    },
    {
      "cell_type": "code",
      "metadata": {
        "colab": {
          "base_uri": "https://localhost:8080/",
          "height": 424
        },
        "id": "_MK0ZzwckUVX",
        "outputId": "ffe5e6d9-2c04-42ce-b4c7-012728962a59"
      },
      "source": [
        "dataset_training = dataset[dataset['Date']< '2020-01-10'].copy()\n",
        "dataset_training"
      ],
      "execution_count": 3,
      "outputs": [
        {
          "output_type": "execute_result",
          "data": {
            "text/html": [
              "<div>\n",
              "<style scoped>\n",
              "    .dataframe tbody tr th:only-of-type {\n",
              "        vertical-align: middle;\n",
              "    }\n",
              "\n",
              "    .dataframe tbody tr th {\n",
              "        vertical-align: top;\n",
              "    }\n",
              "\n",
              "    .dataframe thead th {\n",
              "        text-align: right;\n",
              "    }\n",
              "</style>\n",
              "<table border=\"1\" class=\"dataframe\">\n",
              "  <thead>\n",
              "    <tr style=\"text-align: right;\">\n",
              "      <th></th>\n",
              "      <th>Date</th>\n",
              "      <th>Open</th>\n",
              "      <th>High</th>\n",
              "      <th>Low</th>\n",
              "      <th>Close</th>\n",
              "      <th>Adj Close</th>\n",
              "      <th>Volume</th>\n",
              "    </tr>\n",
              "  </thead>\n",
              "  <tbody>\n",
              "    <tr>\n",
              "      <th>0</th>\n",
              "      <td>2014-09-17</td>\n",
              "      <td>465.864014</td>\n",
              "      <td>468.174011</td>\n",
              "      <td>452.421997</td>\n",
              "      <td>457.334015</td>\n",
              "      <td>457.334015</td>\n",
              "      <td>2.105680e+07</td>\n",
              "    </tr>\n",
              "    <tr>\n",
              "      <th>1</th>\n",
              "      <td>2014-09-18</td>\n",
              "      <td>456.859985</td>\n",
              "      <td>456.859985</td>\n",
              "      <td>413.104004</td>\n",
              "      <td>424.440002</td>\n",
              "      <td>424.440002</td>\n",
              "      <td>3.448320e+07</td>\n",
              "    </tr>\n",
              "    <tr>\n",
              "      <th>2</th>\n",
              "      <td>2014-09-19</td>\n",
              "      <td>424.102997</td>\n",
              "      <td>427.834991</td>\n",
              "      <td>384.532013</td>\n",
              "      <td>394.795990</td>\n",
              "      <td>394.795990</td>\n",
              "      <td>3.791970e+07</td>\n",
              "    </tr>\n",
              "    <tr>\n",
              "      <th>3</th>\n",
              "      <td>2014-09-20</td>\n",
              "      <td>394.673004</td>\n",
              "      <td>423.295990</td>\n",
              "      <td>389.882996</td>\n",
              "      <td>408.903992</td>\n",
              "      <td>408.903992</td>\n",
              "      <td>3.686360e+07</td>\n",
              "    </tr>\n",
              "    <tr>\n",
              "      <th>4</th>\n",
              "      <td>2014-09-21</td>\n",
              "      <td>408.084991</td>\n",
              "      <td>412.425995</td>\n",
              "      <td>393.181000</td>\n",
              "      <td>398.821014</td>\n",
              "      <td>398.821014</td>\n",
              "      <td>2.658010e+07</td>\n",
              "    </tr>\n",
              "    <tr>\n",
              "      <th>...</th>\n",
              "      <td>...</td>\n",
              "      <td>...</td>\n",
              "      <td>...</td>\n",
              "      <td>...</td>\n",
              "      <td>...</td>\n",
              "      <td>...</td>\n",
              "      <td>...</td>\n",
              "    </tr>\n",
              "    <tr>\n",
              "      <th>1936</th>\n",
              "      <td>2020-01-05</td>\n",
              "      <td>7410.451660</td>\n",
              "      <td>7544.497070</td>\n",
              "      <td>7400.535645</td>\n",
              "      <td>7411.317383</td>\n",
              "      <td>7411.317383</td>\n",
              "      <td>1.972507e+10</td>\n",
              "    </tr>\n",
              "    <tr>\n",
              "      <th>1937</th>\n",
              "      <td>2020-01-06</td>\n",
              "      <td>7410.452148</td>\n",
              "      <td>7781.867188</td>\n",
              "      <td>7409.292969</td>\n",
              "      <td>7769.219238</td>\n",
              "      <td>7769.219238</td>\n",
              "      <td>2.327626e+10</td>\n",
              "    </tr>\n",
              "    <tr>\n",
              "      <th>1938</th>\n",
              "      <td>2020-01-07</td>\n",
              "      <td>7768.682129</td>\n",
              "      <td>8178.215820</td>\n",
              "      <td>7768.227539</td>\n",
              "      <td>8163.692383</td>\n",
              "      <td>8163.692383</td>\n",
              "      <td>2.876729e+10</td>\n",
              "    </tr>\n",
              "    <tr>\n",
              "      <th>1939</th>\n",
              "      <td>2020-01-08</td>\n",
              "      <td>8161.935547</td>\n",
              "      <td>8396.738281</td>\n",
              "      <td>7956.774414</td>\n",
              "      <td>8079.862793</td>\n",
              "      <td>8079.862793</td>\n",
              "      <td>3.167256e+10</td>\n",
              "    </tr>\n",
              "    <tr>\n",
              "      <th>1940</th>\n",
              "      <td>2020-01-09</td>\n",
              "      <td>8082.295898</td>\n",
              "      <td>8082.295898</td>\n",
              "      <td>7842.403809</td>\n",
              "      <td>7879.071289</td>\n",
              "      <td>7879.071289</td>\n",
              "      <td>2.404599e+10</td>\n",
              "    </tr>\n",
              "  </tbody>\n",
              "</table>\n",
              "<p>1941 rows × 7 columns</p>\n",
              "</div>"
            ],
            "text/plain": [
              "            Date         Open  ...    Adj Close        Volume\n",
              "0     2014-09-17   465.864014  ...   457.334015  2.105680e+07\n",
              "1     2014-09-18   456.859985  ...   424.440002  3.448320e+07\n",
              "2     2014-09-19   424.102997  ...   394.795990  3.791970e+07\n",
              "3     2014-09-20   394.673004  ...   408.903992  3.686360e+07\n",
              "4     2014-09-21   408.084991  ...   398.821014  2.658010e+07\n",
              "...          ...          ...  ...          ...           ...\n",
              "1936  2020-01-05  7410.451660  ...  7411.317383  1.972507e+10\n",
              "1937  2020-01-06  7410.452148  ...  7769.219238  2.327626e+10\n",
              "1938  2020-01-07  7768.682129  ...  8163.692383  2.876729e+10\n",
              "1939  2020-01-08  8161.935547  ...  8079.862793  3.167256e+10\n",
              "1940  2020-01-09  8082.295898  ...  7879.071289  2.404599e+10\n",
              "\n",
              "[1941 rows x 7 columns]"
            ]
          },
          "metadata": {},
          "execution_count": 3
        }
      ]
    },
    {
      "cell_type": "code",
      "metadata": {
        "colab": {
          "base_uri": "https://localhost:8080/",
          "height": 424
        },
        "id": "fkR5UvJlkUVX",
        "outputId": "a2a0a927-cc37-41e3-c46a-c7e09475d694"
      },
      "source": [
        "dataset_test = dataset[dataset['Date']> '2020-01-10'].copy()\n",
        "dataset_test"
      ],
      "execution_count": 4,
      "outputs": [
        {
          "output_type": "execute_result",
          "data": {
            "text/html": [
              "<div>\n",
              "<style scoped>\n",
              "    .dataframe tbody tr th:only-of-type {\n",
              "        vertical-align: middle;\n",
              "    }\n",
              "\n",
              "    .dataframe tbody tr th {\n",
              "        vertical-align: top;\n",
              "    }\n",
              "\n",
              "    .dataframe thead th {\n",
              "        text-align: right;\n",
              "    }\n",
              "</style>\n",
              "<table border=\"1\" class=\"dataframe\">\n",
              "  <thead>\n",
              "    <tr style=\"text-align: right;\">\n",
              "      <th></th>\n",
              "      <th>Date</th>\n",
              "      <th>Open</th>\n",
              "      <th>High</th>\n",
              "      <th>Low</th>\n",
              "      <th>Close</th>\n",
              "      <th>Adj Close</th>\n",
              "      <th>Volume</th>\n",
              "    </tr>\n",
              "  </thead>\n",
              "  <tbody>\n",
              "    <tr>\n",
              "      <th>1942</th>\n",
              "      <td>2020-01-11</td>\n",
              "      <td>8162.190918</td>\n",
              "      <td>8218.359375</td>\n",
              "      <td>8029.642090</td>\n",
              "      <td>8037.537598</td>\n",
              "      <td>8037.537598</td>\n",
              "      <td>2.552117e+10</td>\n",
              "    </tr>\n",
              "    <tr>\n",
              "      <th>1943</th>\n",
              "      <td>2020-01-12</td>\n",
              "      <td>8033.261719</td>\n",
              "      <td>8200.063477</td>\n",
              "      <td>8009.059082</td>\n",
              "      <td>8192.494141</td>\n",
              "      <td>8192.494141</td>\n",
              "      <td>2.290344e+10</td>\n",
              "    </tr>\n",
              "    <tr>\n",
              "      <th>1944</th>\n",
              "      <td>2020-01-13</td>\n",
              "      <td>8189.771973</td>\n",
              "      <td>8197.788086</td>\n",
              "      <td>8079.700684</td>\n",
              "      <td>8144.194336</td>\n",
              "      <td>8144.194336</td>\n",
              "      <td>2.248291e+10</td>\n",
              "    </tr>\n",
              "    <tr>\n",
              "      <th>1945</th>\n",
              "      <td>2020-01-14</td>\n",
              "      <td>8140.933105</td>\n",
              "      <td>8879.511719</td>\n",
              "      <td>8140.933105</td>\n",
              "      <td>8827.764648</td>\n",
              "      <td>8827.764648</td>\n",
              "      <td>4.484178e+10</td>\n",
              "    </tr>\n",
              "    <tr>\n",
              "      <th>1946</th>\n",
              "      <td>2020-01-15</td>\n",
              "      <td>8825.343750</td>\n",
              "      <td>8890.117188</td>\n",
              "      <td>8657.187500</td>\n",
              "      <td>8807.010742</td>\n",
              "      <td>8807.010742</td>\n",
              "      <td>4.010283e+10</td>\n",
              "    </tr>\n",
              "    <tr>\n",
              "      <th>...</th>\n",
              "      <td>...</td>\n",
              "      <td>...</td>\n",
              "      <td>...</td>\n",
              "      <td>...</td>\n",
              "      <td>...</td>\n",
              "      <td>...</td>\n",
              "      <td>...</td>\n",
              "    </tr>\n",
              "    <tr>\n",
              "      <th>2075</th>\n",
              "      <td>2020-05-23</td>\n",
              "      <td>9185.062500</td>\n",
              "      <td>9302.501953</td>\n",
              "      <td>9118.108398</td>\n",
              "      <td>9209.287109</td>\n",
              "      <td>9209.287109</td>\n",
              "      <td>2.772787e+10</td>\n",
              "    </tr>\n",
              "    <tr>\n",
              "      <th>2076</th>\n",
              "      <td>2020-05-24</td>\n",
              "      <td>9212.283203</td>\n",
              "      <td>9288.404297</td>\n",
              "      <td>8787.250977</td>\n",
              "      <td>8790.368164</td>\n",
              "      <td>8790.368164</td>\n",
              "      <td>3.251880e+10</td>\n",
              "    </tr>\n",
              "    <tr>\n",
              "      <th>2077</th>\n",
              "      <td>2020-05-25</td>\n",
              "      <td>8786.107422</td>\n",
              "      <td>8951.005859</td>\n",
              "      <td>8719.667969</td>\n",
              "      <td>8906.934570</td>\n",
              "      <td>8906.934570</td>\n",
              "      <td>3.128816e+10</td>\n",
              "    </tr>\n",
              "    <tr>\n",
              "      <th>2078</th>\n",
              "      <td>2020-05-26</td>\n",
              "      <td>NaN</td>\n",
              "      <td>NaN</td>\n",
              "      <td>NaN</td>\n",
              "      <td>NaN</td>\n",
              "      <td>NaN</td>\n",
              "      <td>NaN</td>\n",
              "    </tr>\n",
              "    <tr>\n",
              "      <th>2079</th>\n",
              "      <td>2020-05-27</td>\n",
              "      <td>8834.157227</td>\n",
              "      <td>8859.578125</td>\n",
              "      <td>8834.157227</td>\n",
              "      <td>8856.885742</td>\n",
              "      <td>8856.885742</td>\n",
              "      <td>2.914432e+10</td>\n",
              "    </tr>\n",
              "  </tbody>\n",
              "</table>\n",
              "<p>138 rows × 7 columns</p>\n",
              "</div>"
            ],
            "text/plain": [
              "            Date         Open  ...    Adj Close        Volume\n",
              "1942  2020-01-11  8162.190918  ...  8037.537598  2.552117e+10\n",
              "1943  2020-01-12  8033.261719  ...  8192.494141  2.290344e+10\n",
              "1944  2020-01-13  8189.771973  ...  8144.194336  2.248291e+10\n",
              "1945  2020-01-14  8140.933105  ...  8827.764648  4.484178e+10\n",
              "1946  2020-01-15  8825.343750  ...  8807.010742  4.010283e+10\n",
              "...          ...          ...  ...          ...           ...\n",
              "2075  2020-05-23  9185.062500  ...  9209.287109  2.772787e+10\n",
              "2076  2020-05-24  9212.283203  ...  8790.368164  3.251880e+10\n",
              "2077  2020-05-25  8786.107422  ...  8906.934570  3.128816e+10\n",
              "2078  2020-05-26          NaN  ...          NaN           NaN\n",
              "2079  2020-05-27  8834.157227  ...  8856.885742  2.914432e+10\n",
              "\n",
              "[138 rows x 7 columns]"
            ]
          },
          "metadata": {},
          "execution_count": 4
        }
      ]
    },
    {
      "cell_type": "markdown",
      "source": [
        "## Dropping the unnecessary columns"
      ],
      "metadata": {
        "id": "hTR5h2UqR-pf"
      }
    },
    {
      "cell_type": "code",
      "metadata": {
        "colab": {
          "base_uri": "https://localhost:8080/",
          "height": 206
        },
        "id": "RpMN5dWUkUVY",
        "outputId": "2a344cbc-13d5-4a47-b456-16da5ccf0c9d"
      },
      "source": [
        "training_dataset = dataset_training.drop(['Date', 'Adj Close'], axis = 1)\n",
        "training_dataset.head()"
      ],
      "execution_count": 5,
      "outputs": [
        {
          "output_type": "execute_result",
          "data": {
            "text/html": [
              "<div>\n",
              "<style scoped>\n",
              "    .dataframe tbody tr th:only-of-type {\n",
              "        vertical-align: middle;\n",
              "    }\n",
              "\n",
              "    .dataframe tbody tr th {\n",
              "        vertical-align: top;\n",
              "    }\n",
              "\n",
              "    .dataframe thead th {\n",
              "        text-align: right;\n",
              "    }\n",
              "</style>\n",
              "<table border=\"1\" class=\"dataframe\">\n",
              "  <thead>\n",
              "    <tr style=\"text-align: right;\">\n",
              "      <th></th>\n",
              "      <th>Open</th>\n",
              "      <th>High</th>\n",
              "      <th>Low</th>\n",
              "      <th>Close</th>\n",
              "      <th>Volume</th>\n",
              "    </tr>\n",
              "  </thead>\n",
              "  <tbody>\n",
              "    <tr>\n",
              "      <th>0</th>\n",
              "      <td>465.864014</td>\n",
              "      <td>468.174011</td>\n",
              "      <td>452.421997</td>\n",
              "      <td>457.334015</td>\n",
              "      <td>21056800.0</td>\n",
              "    </tr>\n",
              "    <tr>\n",
              "      <th>1</th>\n",
              "      <td>456.859985</td>\n",
              "      <td>456.859985</td>\n",
              "      <td>413.104004</td>\n",
              "      <td>424.440002</td>\n",
              "      <td>34483200.0</td>\n",
              "    </tr>\n",
              "    <tr>\n",
              "      <th>2</th>\n",
              "      <td>424.102997</td>\n",
              "      <td>427.834991</td>\n",
              "      <td>384.532013</td>\n",
              "      <td>394.795990</td>\n",
              "      <td>37919700.0</td>\n",
              "    </tr>\n",
              "    <tr>\n",
              "      <th>3</th>\n",
              "      <td>394.673004</td>\n",
              "      <td>423.295990</td>\n",
              "      <td>389.882996</td>\n",
              "      <td>408.903992</td>\n",
              "      <td>36863600.0</td>\n",
              "    </tr>\n",
              "    <tr>\n",
              "      <th>4</th>\n",
              "      <td>408.084991</td>\n",
              "      <td>412.425995</td>\n",
              "      <td>393.181000</td>\n",
              "      <td>398.821014</td>\n",
              "      <td>26580100.0</td>\n",
              "    </tr>\n",
              "  </tbody>\n",
              "</table>\n",
              "</div>"
            ],
            "text/plain": [
              "         Open        High         Low       Close      Volume\n",
              "0  465.864014  468.174011  452.421997  457.334015  21056800.0\n",
              "1  456.859985  456.859985  413.104004  424.440002  34483200.0\n",
              "2  424.102997  427.834991  384.532013  394.795990  37919700.0\n",
              "3  394.673004  423.295990  389.882996  408.903992  36863600.0\n",
              "4  408.084991  412.425995  393.181000  398.821014  26580100.0"
            ]
          },
          "metadata": {},
          "execution_count": 5
        }
      ]
    },
    {
      "cell_type": "markdown",
      "source": [
        "## Preprocessing and fitting the training data"
      ],
      "metadata": {
        "id": "2xNeqEb6SDV6"
      }
    },
    {
      "cell_type": "code",
      "metadata": {
        "colab": {
          "base_uri": "https://localhost:8080/"
        },
        "id": "ZIY3Ye5JkUVY",
        "outputId": "4064d5a3-e791-4a73-ff8e-1fbb2bcabeaf"
      },
      "source": [
        "scaler = MinMaxScaler()\n",
        "training_dataset = scaler.fit_transform(training_dataset)\n",
        "training_dataset"
      ],
      "execution_count": 6,
      "outputs": [
        {
          "output_type": "execute_result",
          "data": {
            "text/plain": [
              "array([[1.49732345e-02, 1.29013200e-02, 1.49400698e-02, 1.44534769e-02,\n",
              "        3.35749244e-04],\n",
              "       [1.45066780e-02, 1.23321258e-02, 1.28489753e-02, 1.27508263e-02,\n",
              "        6.33453324e-04],\n",
              "       [1.28093283e-02, 1.08719155e-02, 1.13293978e-02, 1.12164013e-02,\n",
              "        7.09650970e-04],\n",
              "       ...,\n",
              "       [3.93379086e-01, 4.00783670e-01, 4.04025068e-01, 4.13347816e-01,\n",
              "        6.37727105e-01],\n",
              "       [4.13756068e-01, 4.11777256e-01, 4.14052776e-01, 4.09008653e-01,\n",
              "        7.02145722e-01],\n",
              "       [4.09629427e-01, 3.95958061e-01, 4.07970071e-01, 3.98615340e-01,\n",
              "        5.33041521e-01]])"
            ]
          },
          "metadata": {},
          "execution_count": 6
        }
      ]
    },
    {
      "cell_type": "code",
      "metadata": {
        "id": "rT4bcUsPkUVY",
        "colab": {
          "base_uri": "https://localhost:8080/"
        },
        "outputId": "644546b8-7adb-4162-973e-eda7b732cb0d"
      },
      "source": [
        "X_train = []\n",
        "Y_train = []\n",
        "training_dataset.shape[0]"
      ],
      "execution_count": 7,
      "outputs": [
        {
          "output_type": "execute_result",
          "data": {
            "text/plain": [
              "1941"
            ]
          },
          "metadata": {},
          "execution_count": 7
        }
      ]
    },
    {
      "cell_type": "code",
      "metadata": {
        "id": "QGO2ix32kUVZ"
      },
      "source": [
        "for i in range(60, training_dataset.shape[0]):\n",
        "    X_train.append(training_dataset[i-60:i])\n",
        "    Y_train.append(training_dataset[i,0])"
      ],
      "execution_count": 8,
      "outputs": []
    },
    {
      "cell_type": "code",
      "metadata": {
        "id": "B8_cXXsPkUVa"
      },
      "source": [
        "X_train, Y_train = np.array(X_train), np.array(Y_train)"
      ],
      "execution_count": 9,
      "outputs": []
    },
    {
      "cell_type": "code",
      "metadata": {
        "colab": {
          "base_uri": "https://localhost:8080/"
        },
        "id": "HxfixpD8kUVa",
        "outputId": "1dd99f62-1219-4e9b-ef16-545bc31e0854"
      },
      "source": [
        "X_train.shape"
      ],
      "execution_count": 10,
      "outputs": [
        {
          "output_type": "execute_result",
          "data": {
            "text/plain": [
              "(1881, 60, 5)"
            ]
          },
          "metadata": {},
          "execution_count": 10
        }
      ]
    },
    {
      "cell_type": "markdown",
      "metadata": {
        "id": "2ydSPohGkUVa"
      },
      "source": [
        "# Building LSTM model"
      ]
    },
    {
      "cell_type": "code",
      "metadata": {
        "id": "i_0S2v3pkUVb"
      },
      "source": [
        "from tensorflow.keras import Sequential\n",
        "from tensorflow.keras.layers import Dense, LSTM, Dropout"
      ],
      "execution_count": 11,
      "outputs": []
    },
    {
      "cell_type": "markdown",
      "source": [
        "## Applying LSRM"
      ],
      "metadata": {
        "id": "-tTS3SG-SOXS"
      }
    },
    {
      "cell_type": "code",
      "metadata": {
        "id": "A_jzyUOkkUVb"
      },
      "source": [
        "reg = Sequential()\n",
        "reg.add(LSTM(units = 60, activation = 'tanh', return_sequences = True, input_shape = (X_train.shape[1], 5)))\n",
        "reg.add(Dropout(0.2))"
      ],
      "execution_count": 12,
      "outputs": []
    },
    {
      "cell_type": "code",
      "metadata": {
        "id": "4GQCwDLukUVb"
      },
      "source": [
        "reg.add(LSTM(units = 70, activation = 'sigmoid', return_sequences = True))\n",
        "reg.add(Dropout(0.4))\n",
        "\n",
        "reg.add(LSTM(units = 90, activation = 'sigmoid', return_sequences = True))\n",
        "reg.add(Dropout(0.5))\n",
        "\n",
        "reg.add(LSTM(units = 120, activation = 'sigmoid'))\n",
        "reg.add(Dropout(0.6))\n",
        "\n",
        "reg.add(Dense(units =1))"
      ],
      "execution_count": 13,
      "outputs": []
    },
    {
      "cell_type": "code",
      "metadata": {
        "colab": {
          "base_uri": "https://localhost:8080/"
        },
        "id": "3zwwrBfDkUVc",
        "outputId": "5e1d4258-0ffd-4823-eb6f-5690c48dfb50"
      },
      "source": [
        "reg.summary()"
      ],
      "execution_count": 14,
      "outputs": [
        {
          "output_type": "stream",
          "name": "stdout",
          "text": [
            "Model: \"sequential\"\n",
            "_________________________________________________________________\n",
            " Layer (type)                Output Shape              Param #   \n",
            "=================================================================\n",
            " lstm (LSTM)                 (None, 60, 60)            15840     \n",
            "                                                                 \n",
            " dropout (Dropout)           (None, 60, 60)            0         \n",
            "                                                                 \n",
            " lstm_1 (LSTM)               (None, 60, 70)            36680     \n",
            "                                                                 \n",
            " dropout_1 (Dropout)         (None, 60, 70)            0         \n",
            "                                                                 \n",
            " lstm_2 (LSTM)               (None, 60, 90)            57960     \n",
            "                                                                 \n",
            " dropout_2 (Dropout)         (None, 60, 90)            0         \n",
            "                                                                 \n",
            " lstm_3 (LSTM)               (None, 120)               101280    \n",
            "                                                                 \n",
            " dropout_3 (Dropout)         (None, 120)               0         \n",
            "                                                                 \n",
            " dense (Dense)               (None, 1)                 121       \n",
            "                                                                 \n",
            "=================================================================\n",
            "Total params: 211,881\n",
            "Trainable params: 211,881\n",
            "Non-trainable params: 0\n",
            "_________________________________________________________________\n"
          ]
        }
      ]
    },
    {
      "cell_type": "code",
      "metadata": {
        "id": "94yN2NMUkUVc"
      },
      "source": [
        "reg.compile(optimizer = 'adam', loss = 'mean_squared_error')"
      ],
      "execution_count": 15,
      "outputs": []
    },
    {
      "cell_type": "markdown",
      "source": [
        "## Fitting the data"
      ],
      "metadata": {
        "id": "C8iMAXaySRaO"
      }
    },
    {
      "cell_type": "code",
      "metadata": {
        "colab": {
          "base_uri": "https://localhost:8080/"
        },
        "id": "MUKcq1S4kUVc",
        "outputId": "c919bfde-1de1-4727-b3f4-e2cd92ad944f"
      },
      "source": [
        "reg.fit(X_train, Y_train, epochs = 100, batch_size =50)"
      ],
      "execution_count": 16,
      "outputs": [
        {
          "output_type": "stream",
          "name": "stdout",
          "text": [
            "Epoch 1/100\n",
            "38/38 [==============================] - 11s 156ms/step - loss: 0.2256\n",
            "Epoch 2/100\n",
            "38/38 [==============================] - 6s 155ms/step - loss: 0.0912\n",
            "Epoch 3/100\n",
            "38/38 [==============================] - 6s 154ms/step - loss: 0.0607\n",
            "Epoch 4/100\n",
            "38/38 [==============================] - 6s 154ms/step - loss: 0.0361\n",
            "Epoch 5/100\n",
            "38/38 [==============================] - 6s 157ms/step - loss: 0.0285\n",
            "Epoch 6/100\n",
            "38/38 [==============================] - 6s 156ms/step - loss: 0.0244\n",
            "Epoch 7/100\n",
            "38/38 [==============================] - 6s 154ms/step - loss: 0.0215\n",
            "Epoch 8/100\n",
            "38/38 [==============================] - 6s 155ms/step - loss: 0.0194\n",
            "Epoch 9/100\n",
            "38/38 [==============================] - 6s 154ms/step - loss: 0.0184\n",
            "Epoch 10/100\n",
            "38/38 [==============================] - 6s 155ms/step - loss: 0.0195\n",
            "Epoch 11/100\n",
            "38/38 [==============================] - 6s 156ms/step - loss: 0.0317\n",
            "Epoch 12/100\n",
            "38/38 [==============================] - 6s 155ms/step - loss: 0.0393\n",
            "Epoch 13/100\n",
            "38/38 [==============================] - 6s 155ms/step - loss: 0.0422\n",
            "Epoch 14/100\n",
            "38/38 [==============================] - 6s 154ms/step - loss: 0.0423\n",
            "Epoch 15/100\n",
            "38/38 [==============================] - 6s 155ms/step - loss: 0.0317\n",
            "Epoch 16/100\n",
            "38/38 [==============================] - 6s 154ms/step - loss: 0.0174\n",
            "Epoch 17/100\n",
            "38/38 [==============================] - 6s 154ms/step - loss: 0.0115\n",
            "Epoch 18/100\n",
            "38/38 [==============================] - 6s 155ms/step - loss: 0.0104\n",
            "Epoch 19/100\n",
            "38/38 [==============================] - 6s 155ms/step - loss: 0.0104\n",
            "Epoch 20/100\n",
            "38/38 [==============================] - 6s 154ms/step - loss: 0.0075\n",
            "Epoch 21/100\n",
            "38/38 [==============================] - 6s 154ms/step - loss: 0.0077\n",
            "Epoch 22/100\n",
            "38/38 [==============================] - 6s 154ms/step - loss: 0.0079\n",
            "Epoch 23/100\n",
            "38/38 [==============================] - 6s 154ms/step - loss: 0.0073\n",
            "Epoch 24/100\n",
            "38/38 [==============================] - 6s 156ms/step - loss: 0.0070\n",
            "Epoch 25/100\n",
            "38/38 [==============================] - 6s 154ms/step - loss: 0.0068\n",
            "Epoch 26/100\n",
            "38/38 [==============================] - 6s 155ms/step - loss: 0.0071\n",
            "Epoch 27/100\n",
            "38/38 [==============================] - 6s 154ms/step - loss: 0.0070\n",
            "Epoch 28/100\n",
            "38/38 [==============================] - 6s 155ms/step - loss: 0.0066\n",
            "Epoch 29/100\n",
            "38/38 [==============================] - 6s 154ms/step - loss: 0.0061\n",
            "Epoch 30/100\n",
            "38/38 [==============================] - 6s 155ms/step - loss: 0.0063\n",
            "Epoch 31/100\n",
            "38/38 [==============================] - 6s 156ms/step - loss: 0.0061\n",
            "Epoch 32/100\n",
            "38/38 [==============================] - 6s 155ms/step - loss: 0.0057\n",
            "Epoch 33/100\n",
            "38/38 [==============================] - 6s 156ms/step - loss: 0.0056\n",
            "Epoch 34/100\n",
            "38/38 [==============================] - 6s 155ms/step - loss: 0.0054\n",
            "Epoch 35/100\n",
            "38/38 [==============================] - 6s 155ms/step - loss: 0.0059\n",
            "Epoch 36/100\n",
            "38/38 [==============================] - 6s 156ms/step - loss: 0.0057\n",
            "Epoch 37/100\n",
            "38/38 [==============================] - 6s 156ms/step - loss: 0.0053\n",
            "Epoch 38/100\n",
            "38/38 [==============================] - 6s 154ms/step - loss: 0.0053\n",
            "Epoch 39/100\n",
            "38/38 [==============================] - 6s 155ms/step - loss: 0.0053\n",
            "Epoch 40/100\n",
            "38/38 [==============================] - 6s 155ms/step - loss: 0.0046\n",
            "Epoch 41/100\n",
            "38/38 [==============================] - 6s 158ms/step - loss: 0.0048\n",
            "Epoch 42/100\n",
            "38/38 [==============================] - 6s 156ms/step - loss: 0.0052\n",
            "Epoch 43/100\n",
            "38/38 [==============================] - 6s 155ms/step - loss: 0.0048\n",
            "Epoch 44/100\n",
            "38/38 [==============================] - 6s 156ms/step - loss: 0.0051\n",
            "Epoch 45/100\n",
            "38/38 [==============================] - 6s 155ms/step - loss: 0.0049\n",
            "Epoch 46/100\n",
            "38/38 [==============================] - 6s 155ms/step - loss: 0.0047\n",
            "Epoch 47/100\n",
            "38/38 [==============================] - 6s 154ms/step - loss: 0.0050\n",
            "Epoch 48/100\n",
            "38/38 [==============================] - 6s 155ms/step - loss: 0.0053\n",
            "Epoch 49/100\n",
            "38/38 [==============================] - 6s 155ms/step - loss: 0.0052\n",
            "Epoch 50/100\n",
            "38/38 [==============================] - 6s 154ms/step - loss: 0.0051\n",
            "Epoch 51/100\n",
            "38/38 [==============================] - 6s 155ms/step - loss: 0.0046\n",
            "Epoch 52/100\n",
            "38/38 [==============================] - 6s 156ms/step - loss: 0.0041\n",
            "Epoch 53/100\n",
            "38/38 [==============================] - 6s 156ms/step - loss: 0.0035\n",
            "Epoch 54/100\n",
            "38/38 [==============================] - 6s 154ms/step - loss: 0.0037\n",
            "Epoch 55/100\n",
            "38/38 [==============================] - 6s 156ms/step - loss: 0.0035\n",
            "Epoch 56/100\n",
            "38/38 [==============================] - 6s 154ms/step - loss: 0.0036\n",
            "Epoch 57/100\n",
            "38/38 [==============================] - 6s 154ms/step - loss: 0.0036\n",
            "Epoch 58/100\n",
            "38/38 [==============================] - 6s 155ms/step - loss: 0.0036\n",
            "Epoch 59/100\n",
            "38/38 [==============================] - 6s 154ms/step - loss: 0.0032\n",
            "Epoch 60/100\n",
            "38/38 [==============================] - 6s 156ms/step - loss: 0.0036\n",
            "Epoch 61/100\n",
            "38/38 [==============================] - 6s 155ms/step - loss: 0.0033\n",
            "Epoch 62/100\n",
            "38/38 [==============================] - 6s 156ms/step - loss: 0.0031\n",
            "Epoch 63/100\n",
            "38/38 [==============================] - 6s 155ms/step - loss: 0.0033\n",
            "Epoch 64/100\n",
            "38/38 [==============================] - 6s 154ms/step - loss: 0.0029\n",
            "Epoch 65/100\n",
            "38/38 [==============================] - 6s 154ms/step - loss: 0.0034\n",
            "Epoch 66/100\n",
            "38/38 [==============================] - 6s 154ms/step - loss: 0.0031\n",
            "Epoch 67/100\n",
            "38/38 [==============================] - 6s 156ms/step - loss: 0.0029\n",
            "Epoch 68/100\n",
            "38/38 [==============================] - 6s 155ms/step - loss: 0.0029\n",
            "Epoch 69/100\n",
            "38/38 [==============================] - 6s 154ms/step - loss: 0.0030\n",
            "Epoch 70/100\n",
            "38/38 [==============================] - 6s 154ms/step - loss: 0.0030\n",
            "Epoch 71/100\n",
            "38/38 [==============================] - 6s 154ms/step - loss: 0.0032\n",
            "Epoch 72/100\n",
            "38/38 [==============================] - 6s 154ms/step - loss: 0.0031\n",
            "Epoch 73/100\n",
            "38/38 [==============================] - 6s 155ms/step - loss: 0.0031\n",
            "Epoch 74/100\n",
            "38/38 [==============================] - 6s 154ms/step - loss: 0.0029\n",
            "Epoch 75/100\n",
            "38/38 [==============================] - 6s 156ms/step - loss: 0.0029\n",
            "Epoch 76/100\n",
            "38/38 [==============================] - 6s 155ms/step - loss: 0.0028\n",
            "Epoch 77/100\n",
            "38/38 [==============================] - 6s 155ms/step - loss: 0.0028\n",
            "Epoch 78/100\n",
            "38/38 [==============================] - 6s 155ms/step - loss: 0.0031\n",
            "Epoch 79/100\n",
            "38/38 [==============================] - 6s 155ms/step - loss: 0.0027\n",
            "Epoch 80/100\n",
            "38/38 [==============================] - 6s 156ms/step - loss: 0.0026\n",
            "Epoch 81/100\n",
            "38/38 [==============================] - 6s 155ms/step - loss: 0.0033\n",
            "Epoch 82/100\n",
            "38/38 [==============================] - 6s 155ms/step - loss: 0.0030\n",
            "Epoch 83/100\n",
            "38/38 [==============================] - 6s 156ms/step - loss: 0.0028\n",
            "Epoch 84/100\n",
            "38/38 [==============================] - 6s 155ms/step - loss: 0.0025\n",
            "Epoch 85/100\n",
            "38/38 [==============================] - 6s 156ms/step - loss: 0.0026\n",
            "Epoch 86/100\n",
            "38/38 [==============================] - 6s 156ms/step - loss: 0.0027\n",
            "Epoch 87/100\n",
            "38/38 [==============================] - 6s 154ms/step - loss: 0.0026\n",
            "Epoch 88/100\n",
            "38/38 [==============================] - 6s 155ms/step - loss: 0.0025\n",
            "Epoch 89/100\n",
            "38/38 [==============================] - 6s 156ms/step - loss: 0.0029\n",
            "Epoch 90/100\n",
            "38/38 [==============================] - 6s 157ms/step - loss: 0.0025\n",
            "Epoch 91/100\n",
            "38/38 [==============================] - 6s 158ms/step - loss: 0.0027\n",
            "Epoch 92/100\n",
            "38/38 [==============================] - 6s 156ms/step - loss: 0.0023\n",
            "Epoch 93/100\n",
            "38/38 [==============================] - 6s 155ms/step - loss: 0.0026\n",
            "Epoch 94/100\n",
            "38/38 [==============================] - 6s 156ms/step - loss: 0.0024\n",
            "Epoch 95/100\n",
            "38/38 [==============================] - 6s 155ms/step - loss: 0.0027\n",
            "Epoch 96/100\n",
            "38/38 [==============================] - 6s 156ms/step - loss: 0.0023\n",
            "Epoch 97/100\n",
            "38/38 [==============================] - 6s 155ms/step - loss: 0.0022\n",
            "Epoch 98/100\n",
            "38/38 [==============================] - 6s 156ms/step - loss: 0.0023\n",
            "Epoch 99/100\n",
            "38/38 [==============================] - 6s 155ms/step - loss: 0.0023\n",
            "Epoch 100/100\n",
            "38/38 [==============================] - 6s 156ms/step - loss: 0.0023\n"
          ]
        },
        {
          "output_type": "execute_result",
          "data": {
            "text/plain": [
              "<keras.callbacks.History at 0x7fee88f345d0>"
            ]
          },
          "metadata": {},
          "execution_count": 16
        }
      ]
    },
    {
      "cell_type": "markdown",
      "metadata": {
        "id": "2DbIYaP9kUVc"
      },
      "source": [
        " # Test Dataset"
      ]
    },
    {
      "cell_type": "code",
      "metadata": {
        "colab": {
          "base_uri": "https://localhost:8080/",
          "height": 206
        },
        "id": "C8rotennkUVc",
        "outputId": "d8a95f7c-5600-462c-bad9-96a93fc7579b"
      },
      "source": [
        "last_60_days = dataset_training.tail(60)\n",
        "dataframe= last_60_days.append(dataset_test, ignore_index = True)\n",
        "dataframe = dataframe.drop(['Date', 'Adj Close'], axis = 1)\n",
        "dataframe.head()"
      ],
      "execution_count": 17,
      "outputs": [
        {
          "output_type": "execute_result",
          "data": {
            "text/html": [
              "<div>\n",
              "<style scoped>\n",
              "    .dataframe tbody tr th:only-of-type {\n",
              "        vertical-align: middle;\n",
              "    }\n",
              "\n",
              "    .dataframe tbody tr th {\n",
              "        vertical-align: top;\n",
              "    }\n",
              "\n",
              "    .dataframe thead th {\n",
              "        text-align: right;\n",
              "    }\n",
              "</style>\n",
              "<table border=\"1\" class=\"dataframe\">\n",
              "  <thead>\n",
              "    <tr style=\"text-align: right;\">\n",
              "      <th></th>\n",
              "      <th>Open</th>\n",
              "      <th>High</th>\n",
              "      <th>Low</th>\n",
              "      <th>Close</th>\n",
              "      <th>Volume</th>\n",
              "    </tr>\n",
              "  </thead>\n",
              "  <tbody>\n",
              "    <tr>\n",
              "      <th>0</th>\n",
              "      <td>9056.917969</td>\n",
              "      <td>9081.279297</td>\n",
              "      <td>8700.608398</td>\n",
              "      <td>8757.788086</td>\n",
              "      <td>2.026551e+10</td>\n",
              "    </tr>\n",
              "    <tr>\n",
              "      <th>1</th>\n",
              "      <td>8759.751953</td>\n",
              "      <td>8853.768555</td>\n",
              "      <td>8685.427734</td>\n",
              "      <td>8815.662109</td>\n",
              "      <td>2.030977e+10</td>\n",
              "    </tr>\n",
              "    <tr>\n",
              "      <th>2</th>\n",
              "      <td>8812.033203</td>\n",
              "      <td>8836.841797</td>\n",
              "      <td>8761.651367</td>\n",
              "      <td>8808.262695</td>\n",
              "      <td>1.754576e+10</td>\n",
              "    </tr>\n",
              "    <tr>\n",
              "      <th>3</th>\n",
              "      <td>8811.936523</td>\n",
              "      <td>8826.943359</td>\n",
              "      <td>8692.551758</td>\n",
              "      <td>8708.094727</td>\n",
              "      <td>1.908474e+10</td>\n",
              "    </tr>\n",
              "    <tr>\n",
              "      <th>4</th>\n",
              "      <td>8705.708008</td>\n",
              "      <td>8730.873047</td>\n",
              "      <td>8484.843750</td>\n",
              "      <td>8491.992188</td>\n",
              "      <td>2.179686e+10</td>\n",
              "    </tr>\n",
              "  </tbody>\n",
              "</table>\n",
              "</div>"
            ],
            "text/plain": [
              "          Open         High          Low        Close        Volume\n",
              "0  9056.917969  9081.279297  8700.608398  8757.788086  2.026551e+10\n",
              "1  8759.751953  8853.768555  8685.427734  8815.662109  2.030977e+10\n",
              "2  8812.033203  8836.841797  8761.651367  8808.262695  1.754576e+10\n",
              "3  8811.936523  8826.943359  8692.551758  8708.094727  1.908474e+10\n",
              "4  8705.708008  8730.873047  8484.843750  8491.992188  2.179686e+10"
            ]
          },
          "metadata": {},
          "execution_count": 17
        }
      ]
    },
    {
      "cell_type": "code",
      "metadata": {
        "colab": {
          "base_uri": "https://localhost:8080/"
        },
        "id": "P1XbOaJbkUVd",
        "outputId": "cd62642b-e1e7-4e2c-be06-15f9ba6cf2e8"
      },
      "source": [
        "inputs = scaler.transform(dataframe)\n",
        "inputs"
      ],
      "execution_count": 18,
      "outputs": [
        {
          "output_type": "execute_result",
          "data": {
            "text/plain": [
              "array([[0.46013085, 0.44621564, 0.45361296, 0.44409923, 0.4492168 ],\n",
              "       [0.44473277, 0.43476986, 0.45280559, 0.44709489, 0.45019814],\n",
              "       [0.4474418 , 0.4339183 , 0.45685948, 0.44671188, 0.38891156],\n",
              "       [0.44743679, 0.43342032, 0.45318448, 0.44152702, 0.42303552],\n",
              "       [0.44193241, 0.42858715, 0.4421377 , 0.43034118, 0.48317139],\n",
              "       [0.43081561, 0.42160048, 0.44155958, 0.43338314, 0.36562176],\n",
              "       [0.43383675, 0.428432  , 0.44299524, 0.43479183, 0.4138093 ],\n",
              "       [0.43510676, 0.42468356, 0.43090146, 0.420884  , 0.47835128],\n",
              "       [0.42117614, 0.41236981, 0.42166816, 0.41554526, 0.46735663],\n",
              "       [0.41591566, 0.40375311, 0.41691075, 0.40628626, 0.46027648],\n",
              "       [0.40659032, 0.39735676, 0.39493878, 0.38638294, 0.49907803],\n",
              "       [0.38689619, 0.37659358, 0.35980132, 0.36846447, 0.75912503],\n",
              "       [0.36889492, 0.36375861, 0.37122057, 0.37370375, 0.46570054],\n",
              "       [0.37420451, 0.36206413, 0.36472524, 0.35559337, 0.6746724 ],\n",
              "       [0.3556202 , 0.35760073, 0.34280688, 0.36067724, 0.94633012],\n",
              "       [0.36107036, 0.35761952, 0.36841001, 0.36441636, 0.46837419],\n",
              "       [0.36499399, 0.37268512, 0.36179401, 0.38063292, 0.53183137],\n",
              "       [0.38136484, 0.37823817, 0.38731961, 0.37708426, 0.42226782],\n",
              "       [0.37773286, 0.38080929, 0.38767247, 0.39251638, 0.43689269],\n",
              "       [0.39313943, 0.38357236, 0.39060256, 0.38259812, 0.38031816],\n",
              "       [0.38316784, 0.37026642, 0.3786623 , 0.37507521, 0.41496384],\n",
              "       [0.37552077, 0.36539667, 0.37558068, 0.36977977, 0.3786296 ],\n",
              "       [0.37033599, 0.36258139, 0.37536569, 0.36968438, 0.32797407],\n",
              "       [0.37013646, 0.36866501, 0.37225792, 0.36615885, 0.4802309 ],\n",
              "       [0.36667081, 0.37891023, 0.37554225, 0.37631827, 0.41707863],\n",
              "       [0.37689522, 0.36902784, 0.38402504, 0.38142658, 0.40129988],\n",
              "       [0.38190608, 0.37118885, 0.39112705, 0.38190492, 0.34252036],\n",
              "       [0.38211714, 0.37343538, 0.38848805, 0.38232458, 0.34155334],\n",
              "       [0.38265896, 0.37260455, 0.38263215, 0.37386434, 0.39614587],\n",
              "       [0.37412681, 0.36284119, 0.37625317, 0.36750905, 0.40450532],\n",
              "       [0.36791213, 0.35781702, 0.37356649, 0.36436751, 0.36240891],\n",
              "       [0.36477936, 0.35492344, 0.37192915, 0.36569815, 0.41953973],\n",
              "       [0.36622625, 0.35627779, 0.37524685, 0.36707244, 0.37959848],\n",
              "       [0.36748231, 0.3570463 , 0.36833751, 0.35956643, 0.37984887],\n",
              "       [0.35998639, 0.35061882, 0.35914553, 0.3609965 , 0.37417479],\n",
              "       [0.361511  , 0.35012043, 0.35804497, 0.34961817, 0.44805837],\n",
              "       [0.34998975, 0.33970181, 0.34125428, 0.33450555, 0.49574234],\n",
              "       [0.33529372, 0.35785871, 0.33870544, 0.36744089, 0.70578129],\n",
              "       [0.36793249, 0.35894627, 0.36536839, 0.36361267, 0.57425264],\n",
              "       [0.36435954, 0.35448486, 0.36774796, 0.36443941, 0.5017293 ],\n",
              "       [0.36497911, 0.35273936, 0.36916329, 0.3630078 , 0.42808681],\n",
              "       [0.36345544, 0.36757073, 0.37205881, 0.37959382, 0.51283185],\n",
              "       [0.37991823, 0.37452053, 0.3805158 , 0.37152104, 0.61698415],\n",
              "       [0.37191211, 0.36846037, 0.37750219, 0.36980792, 0.50966297],\n",
              "       [0.37042823, 0.35947036, 0.37492076, 0.36735564, 0.47790859],\n",
              "       [0.36778785, 0.36104415, 0.37382493, 0.36548243, 0.5051261 ],\n",
              "       [0.36588835, 0.35979783, 0.37326901, 0.36812857, 0.50491215],\n",
              "       [0.3685253 , 0.36158438, 0.37842635, 0.36957282, 0.47361074],\n",
              "       [0.37000809, 0.36736522, 0.37805193, 0.37499034, 0.49754841],\n",
              "       [0.37532577, 0.36439076, 0.37786274, 0.36827903, 0.50705785],\n",
              "       [0.36880551, 0.35837715, 0.37219702, 0.36313412, 0.46922653],\n",
              "       [0.36364734, 0.35430418, 0.3724718 , 0.36347447, 0.41152605],\n",
              "       [0.36404421, 0.3521824 , 0.35972492, 0.35236101, 0.46111425],\n",
              "       [0.35274189, 0.36232263, 0.35864667, 0.3709649 , 0.6231858 ],\n",
              "       [0.37144485, 0.36301037, 0.37962878, 0.3743694 , 0.40883439],\n",
              "       [0.37481687, 0.36890209, 0.38446968, 0.37440359, 0.43723368],\n",
              "       [0.37481689, 0.38084388, 0.38493543, 0.39292921, 0.51597429],\n",
              "       [0.39337909, 0.40078367, 0.40402507, 0.41334782, 0.63772711],\n",
              "       [0.41375607, 0.41177726, 0.41405278, 0.40900865, 0.70214572],\n",
              "       [0.40962943, 0.39595806, 0.40797007, 0.39861534, 0.53304152],\n",
              "       [0.4137693 , 0.40280324, 0.41792818, 0.40681783, 0.56575062],\n",
              "       [0.40708865, 0.4018828 , 0.41683349, 0.41483864, 0.50770767],\n",
              "       [0.41519845, 0.40176833, 0.42059051, 0.41233856, 0.49838329],\n",
              "       [0.4126678 , 0.43606497, 0.4238471 , 0.44772134, 0.99414745],\n",
              "       [0.4481315 , 0.43659852, 0.45130366, 0.44664708, 0.88907054],\n",
              "       [0.44746502, 0.43440223, 0.44890549, 0.44233923, 0.69419497],\n",
              "       [0.44294293, 0.44001976, 0.4523742 , 0.45296342, 0.80634969],\n",
              "       [0.45340995, 0.44274026, 0.46035265, 0.45367621, 0.71689552],\n",
              "       [0.45414747, 0.45039544, 0.44933013, 0.44143128, 0.75857081],\n",
              "       [0.44187664, 0.42932758, 0.44616001, 0.43891553, 0.5857332 ],\n",
              "       [0.43951171, 0.42983647, 0.44531156, 0.4434836 , 0.53418184],\n",
              "       [0.44392749, 0.43171238, 0.45021655, 0.44011813, 0.50098404],\n",
              "       [0.44063401, 0.42641754, 0.43409593, 0.42591676, 0.57128314],\n",
              "       [0.4263802 , 0.4177101 , 0.4305434 , 0.42793128, 0.54084471],\n",
              "       [0.42817054, 0.41488205, 0.43210584, 0.42391524, 0.43550989],\n",
              "       [0.42424758, 0.4221239 , 0.43366303, 0.43576777, 0.49161537],\n",
              "       [0.43631554, 0.44100603, 0.44811905, 0.45196863, 0.63506738],\n",
              "       [0.45264889, 0.46016678, 0.4646667 , 0.47519776, 0.76259353],\n",
              "       [0.47570441, 0.46257364, 0.48386727, 0.47302584, 0.68019528],\n",
              "       [0.47355641, 0.46995364, 0.48181594, 0.48298289, 0.71780507],\n",
              "       [0.48352055, 0.46837295, 0.4818095 , 0.47478053, 0.65247657],\n",
              "       [0.47512856, 0.46422837, 0.48619522, 0.47697242, 0.57465291],\n",
              "       [0.47738065, 0.4657112 , 0.48112065, 0.47446147, 0.68359083],\n",
              "       [0.47504183, 0.46931201, 0.48275924, 0.47182971, 0.68577176],\n",
              "       [0.47235558, 0.45879213, 0.47553564, 0.46600348, 0.66269156],\n",
              "       [0.46668552, 0.47740808, 0.47824232, 0.4883884 , 0.78084896],\n",
              "       [0.48919485, 0.48361212, 0.49824564, 0.49441233, 0.8342142 ],\n",
              "       [0.49480043, 0.48412012, 0.50814771, 0.49783593, 0.7653424 ],\n",
              "       [0.49827562, 0.4862347 , 0.50564312, 0.50141659, 0.77973993],\n",
              "       [0.50194548, 0.49894704, 0.51476327, 0.51443749, 0.79383845],\n",
              "       [0.51498586, 0.50077476, 0.51126221, 0.50097621, 0.87318829],\n",
              "       [0.5015308 , 0.50300279, 0.50832493, 0.51917692, 0.83464071],\n",
              "       [0.51948498, 0.51223739, 0.53348384, 0.5252754 , 0.96316106],\n",
              "       [0.52578447, 0.51545793, 0.52889795, 0.51949492, 1.09424291],\n",
              "       [0.51995978, 0.50863452, 0.52939645, 0.52455392, 0.96080984],\n",
              "       [0.52526089, 0.50961853, 0.51604156, 0.50267469, 0.97249039],\n",
              "       [0.50325567, 0.4951504 , 0.50795539, 0.50500442, 0.96161952],\n",
              "       [0.50571077, 0.48935719, 0.49653414, 0.4923595 , 1.01979088],\n",
              "       [0.49299865, 0.50058207, 0.50316861, 0.51574821, 1.04801108],\n",
              "       [0.51644912, 0.50207827, 0.50204327, 0.48942172, 1.0418247 ],\n",
              "       [0.48979094, 0.474486  , 0.49654811, 0.48813228, 0.99599837],\n",
              "       [0.48888192, 0.47850052, 0.50090085, 0.49216792, 0.90742345],\n",
              "       [0.49281608, 0.47725371, 0.5014851 , 0.49096395, 0.79450676],\n",
              "       [0.49155234, 0.48928619, 0.50451992, 0.50449105, 0.91306955],\n",
              "       [0.50493469, 0.49000771, 0.49809804, 0.4902907 , 0.99944043],\n",
              "       [0.49093024, 0.47496496, 0.48575817, 0.47432378, 0.94256132],\n",
              "       [0.47471054, 0.45997503, 0.45381604, 0.44734647, 1.11783457],\n",
              "       [0.44811855, 0.43875049, 0.44704955, 0.44548158, 1.00808124],\n",
              "       [0.44623423, 0.43661557, 0.4425679 , 0.43968225, 0.98890721],\n",
              "       [0.44014499, 0.43083891, 0.44823607, 0.43590642, 0.79349494],\n",
              "       [0.4364425 , 0.42838208, 0.44141276, 0.43398841, 0.78366723],\n",
              "       [0.4345515 , 0.43816772, 0.44467922, 0.44989043, 0.95015371],\n",
              "       [0.45020644, 0.43717613, 0.45384601, 0.44565198, 0.93971112],\n",
              "       [0.44622457, 0.43424654, 0.45424177, 0.44396765, 0.7703089 ],\n",
              "       [0.4447604 , 0.44927317, 0.45662561, 0.46071343, 0.88009534],\n",
              "       [0.46123923, 0.45056312, 0.47124196, 0.46297972, 0.90512495],\n",
              "       [0.46348247, 0.45033801, 0.46372517, 0.4519756 , 0.80290824],\n",
              "       [0.45242513, 0.43781733, 0.42194948, 0.4104711 , 0.88619398],\n",
              "       [0.41112436, 0.40076242, 0.39986982, 0.40092253, 1.04060466],\n",
              "       [0.40133108, 0.3987074 , 0.40650003, 0.40020226, 0.93588018],\n",
              "       [0.40070633, 0.3893434 , 0.39735497, 0.40029029, 0.85758323],\n",
              "       [0.40088905, 0.38825179, 0.24937225, 0.24807761, 1.19677738],\n",
              "       [0.25083985, 0.28305618, 0.20930473, 0.27876811, 1.64414979],\n",
              "       [0.27961073, 0.27234604, 0.26345091, 0.25996097, 0.8015241 ],\n",
              "       [0.26033447, 0.28298224, 0.26580239, 0.26989656, 0.75370536],\n",
              "       [0.26987712, 0.2602721 , 0.23421497, 0.25033918, 1.00581584],\n",
              "       [0.25004949, 0.25957377, 0.25583706, 0.26126863, 0.85625019],\n",
              "       [0.26168413, 0.25758584, 0.26048678, 0.26193165, 0.83975696],\n",
              "       [0.26263251, 0.307789  , 0.26940219, 0.31124786, 1.13071003],\n",
              "       [0.31166313, 0.33367414, 0.30284508, 0.31164049, 1.20703504],\n",
              "       [0.31243352, 0.31022392, 0.30641063, 0.31093074, 0.94209861],\n",
              "       [0.31134728, 0.30929633, 0.30060773, 0.29256509, 0.88900025],\n",
              "       [0.29299475, 0.3135342 , 0.298549  , 0.32290056, 1.03073588],\n",
              "       [0.32435757, 0.33089515, 0.33184559, 0.33938609, 1.06909512],\n",
              "       [0.34000998, 0.33610152, 0.33853934, 0.33660437, 0.98856702],\n",
              "       [0.33671725, 0.32820066, 0.34141323, 0.33843557, 0.78301608],\n",
              "       [0.33900849, 0.33113731, 0.3348045 , 0.32566895, 0.76673665],\n",
              "       [0.32594374, 0.31471979, 0.31625047, 0.31388775, 0.7733803 ],\n",
              "       [0.3144597 , 0.3038011 , 0.3057332 , 0.29731619, 0.62899979],\n",
              "       [0.297874  , 0.31721988, 0.30483697, 0.32360073, 0.82252519],\n",
              "       [0.3240448 , 0.31658193, 0.32988286, 0.32405638, 0.72684448],\n",
              "       [0.32439264, 0.32201822, 0.32074643, 0.33275917, 0.89447171],\n",
              "       [0.3331733 , 0.34594876, 0.34167679, 0.34243075, 1.05665018],\n",
              "       [0.34305055, 0.34167117, 0.34579417, 0.33931276, 0.86409639],\n",
              "       [0.33999267, 0.33541945, 0.34702533, 0.34625609, 0.73570305],\n",
              "       [0.34642593, 0.33564385, 0.34805946, 0.3423016 , 0.6542043 ],\n",
              "       [0.34256623, 0.35518211, 0.3516207 , 0.36718096, 1.03971571],\n",
              "       [0.36772799, 0.36303822, 0.37043857, 0.36224462, 0.98088129],\n",
              "       [0.36283855, 0.35943029, 0.37132096, 0.37040662, 0.83276022],\n",
              "       [0.37106094, 0.35868696, 0.37269251, 0.36874976, 0.77182627],\n",
              "       [0.36929136, 0.3567937 , 0.35266233, 0.3461508 , 0.96711978],\n",
              "       [0.34667997, 0.33778981, 0.35199465, 0.345819  , 0.69215736],\n",
              "       [0.34619432, 0.34754353, 0.35311988, 0.35161676, 0.79276711],\n",
              "       [0.35176711, 0.33977936, 0.3455242 , 0.34509198, 0.85617626],\n",
              "       [0.34542816, 0.3394242 , 0.35220209, 0.34495689, 0.75620081],\n",
              "       [0.34554629, 0.33792034, 0.34367037, 0.33458809, 0.71579881],\n",
              "       [0.33491835, 0.34827318, 0.3395274 , 0.35915909, 1.03719548],\n",
              "       [0.35958808, 0.34991991, 0.3658444 , 0.35809178, 0.72079024],\n",
              "       [0.35833095, 0.35509031, 0.36791406, 0.36645029, 0.7193216 ],\n",
              "       [0.3670688 , 0.35562184, 0.37205219, 0.36291805, 0.69413352],\n",
              "       [0.36323185, 0.35359785, 0.35441889, 0.34700307, 0.83683705],\n",
              "       [0.34731958, 0.33821652, 0.35436249, 0.34691843, 0.72248244],\n",
              "       [0.34730177, 0.34884746, 0.35613561, 0.35917996, 0.73710361],\n",
              "       [0.35983438, 0.36625022, 0.36750708, 0.37535638, 0.96441336],\n",
              "       [0.37604647, 0.37039619, 0.38625912, 0.38162868, 0.76786588],\n",
              "       [0.38207278, 0.37377533, 0.39091224, 0.38261397, 0.73028291],\n",
              "       [0.3830913 , 0.37675514, 0.39302553, 0.38830419, 0.73313465],\n",
              "       [0.38875379, 0.38153481, 0.39930186, 0.39429478, 0.80169347],\n",
              "       [0.39484487, 0.38248697, 0.40203487, 0.39488784, 0.73574676],\n",
              "       [0.39534968, 0.43567468, 0.4049729 , 0.44633792, 1.33470909],\n",
              "       [0.44669754, 0.46429514, 0.44471246, 0.43896269, 1.48467814],\n",
              "       [0.44022631, 0.44454258, 0.45186614, 0.44963662, 0.97699895],\n",
              "       [0.4503966 , 0.44248818, 0.45950353, 0.45604628, 0.88977019],\n",
              "       [0.45633251, 0.45056744, 0.46054623, 0.45132934, 1.04425854],\n",
              "       [0.45177945, 0.43995859, 0.45065678, 0.45211537, 1.01359347],\n",
              "       [0.45266483, 0.4452666 , 0.46192133, 0.45679546, 0.95660137],\n",
              "       [0.45756715, 0.462827  , 0.46776515, 0.4705481 , 1.09459359],\n",
              "       [0.47075205, 0.49206624, 0.47689241, 0.50588877, 1.3549231 ],\n",
              "       [0.50569013, 0.49227146, 0.5103373 , 0.50025437, 1.14800536],\n",
              "       [0.50075431, 0.48810188, 0.50041695, 0.48737764, 1.03238125],\n",
              "       [0.48781382, 0.4720895 , 0.43736515, 0.44402897, 1.40398269],\n",
              "       [0.44451427, 0.44381045, 0.43625976, 0.43602481, 1.26638967],\n",
              "       [0.43699315, 0.43960604, 0.44664771, 0.44651596, 0.93430094],\n",
              "       [0.44709745, 0.45811866, 0.45918556, 0.47061154, 1.01003132],\n",
              "       [0.47124086, 0.48203491, 0.48309969, 0.49461523, 1.25102483],\n",
              "       [0.49522989, 0.48015133, 0.48343811, 0.47362459, 1.06769582],\n",
              "       [0.47444888, 0.47051102, 0.48340067, 0.47615141, 0.8017516 ],\n",
              "       [0.47660908, 0.48353076, 0.48812616, 0.49135515, 0.88865848],\n",
              "       [0.49219367, 0.48770781, 0.49986994, 0.49424531, 0.92730363],\n",
              "       [0.49485539, 0.48418708, 0.49823531, 0.4943728 , 0.8702557 ],\n",
              "       [0.49476552, 0.48261474, 0.49331988, 0.48370695, 0.81021002],\n",
              "       [0.48426809, 0.47006011, 0.46261823, 0.46086866, 0.87184932],\n",
              "       [0.46134423, 0.45384532, 0.4699953 , 0.46608704, 0.66086428],\n",
              "       [0.46677084, 0.45734507, 0.47581735, 0.46746959, 0.61467991],\n",
              "       [0.46818132, 0.45663583, 0.45822098, 0.44578563, 0.72090952],\n",
              "       [0.44609842, 0.43966175, 0.45462663, 0.45181931, 0.69362236],\n",
              "       [       nan,        nan,        nan,        nan,        nan],\n",
              "       [0.44858819, 0.43506214, 0.46071565, 0.44922869, 0.64608693]])"
            ]
          },
          "metadata": {},
          "execution_count": 18
        }
      ]
    },
    {
      "cell_type": "code",
      "metadata": {
        "id": "B4ncwtuykUVd"
      },
      "source": [
        "X_test = []\n",
        "Y_test = []\n",
        "for i in range (60, inputs.shape[0]):\n",
        "    X_test.append(inputs[i-60:i])\n",
        "    Y_test.append(inputs[i, 0])"
      ],
      "execution_count": 19,
      "outputs": []
    },
    {
      "cell_type": "code",
      "metadata": {
        "colab": {
          "base_uri": "https://localhost:8080/"
        },
        "id": "qJt0ugLkkUVd",
        "outputId": "b04eed68-32fc-4e82-fad8-419eff3ea256"
      },
      "source": [
        "X_test, Y_test = np.array(X_test), np.array(Y_test)\n",
        "X_test.shape, Y_test.shape"
      ],
      "execution_count": 20,
      "outputs": [
        {
          "output_type": "execute_result",
          "data": {
            "text/plain": [
              "((138, 60, 5), (138,))"
            ]
          },
          "metadata": {},
          "execution_count": 20
        }
      ]
    },
    {
      "cell_type": "markdown",
      "source": [
        "## Prediction values"
      ],
      "metadata": {
        "id": "kkfxDzS6LPbv"
      }
    },
    {
      "cell_type": "code",
      "metadata": {
        "colab": {
          "base_uri": "https://localhost:8080/"
        },
        "id": "E1edL4JwkUVd",
        "outputId": "1a8f853b-1803-4a85-9329-8066389a5906"
      },
      "source": [
        "Y_pred = reg.predict(X_test)\n",
        "Y_pred, Y_test"
      ],
      "execution_count": 21,
      "outputs": [
        {
          "output_type": "execute_result",
          "data": {
            "text/plain": [
              "(array([[0.3867746 ],\n",
              "        [0.38489515],\n",
              "        [0.38076973],\n",
              "        [0.37828046],\n",
              "        [0.39115047],\n",
              "        [0.4096342 ],\n",
              "        [0.41802973],\n",
              "        [0.41991627],\n",
              "        [0.41824603],\n",
              "        [0.41608593],\n",
              "        [0.4102267 ],\n",
              "        [0.40432775],\n",
              "        [0.40229106],\n",
              "        [0.40333667],\n",
              "        [0.4030208 ],\n",
              "        [0.39885464],\n",
              "        [0.39622873],\n",
              "        [0.40205702],\n",
              "        [0.41726926],\n",
              "        [0.4320856 ],\n",
              "        [0.4415657 ],\n",
              "        [0.44262457],\n",
              "        [0.43716756],\n",
              "        [0.43380556],\n",
              "        [0.43438464],\n",
              "        [0.4351578 ],\n",
              "        [0.43980405],\n",
              "        [0.44908276],\n",
              "        [0.45673582],\n",
              "        [0.46058556],\n",
              "        [0.46343544],\n",
              "        [0.46658435],\n",
              "        [0.46803668],\n",
              "        [0.47378922],\n",
              "        [0.48294356],\n",
              "        [0.48545998],\n",
              "        [0.48067626],\n",
              "        [0.47209546],\n",
              "        [0.46492824],\n",
              "        [0.464135  ],\n",
              "        [0.46674892],\n",
              "        [0.4651938 ],\n",
              "        [0.4595416 ],\n",
              "        [0.4529931 ],\n",
              "        [0.45392206],\n",
              "        [0.46021804],\n",
              "        [0.46044692],\n",
              "        [0.45288095],\n",
              "        [0.4373648 ],\n",
              "        [0.4226709 ],\n",
              "        [0.41221565],\n",
              "        [0.40855053],\n",
              "        [0.41493562],\n",
              "        [0.42416853],\n",
              "        [0.4257042 ],\n",
              "        [0.42524013],\n",
              "        [0.4269808 ],\n",
              "        [0.42653134],\n",
              "        [0.42033812],\n",
              "        [0.40931052],\n",
              "        [0.3960774 ],\n",
              "        [0.38496843],\n",
              "        [0.36994645],\n",
              "        [0.34925815],\n",
              "        [0.31821933],\n",
              "        [0.29119676],\n",
              "        [0.27583343],\n",
              "        [0.26922625],\n",
              "        [0.26843834],\n",
              "        [0.27839652],\n",
              "        [0.299043  ],\n",
              "        [0.3148445 ],\n",
              "        [0.3177818 ],\n",
              "        [0.31529832],\n",
              "        [0.31642154],\n",
              "        [0.32113737],\n",
              "        [0.3238501 ],\n",
              "        [0.32400104],\n",
              "        [0.32115895],\n",
              "        [0.31302768],\n",
              "        [0.30751985],\n",
              "        [0.30688885],\n",
              "        [0.3125862 ],\n",
              "        [0.32540354],\n",
              "        [0.3352582 ],\n",
              "        [0.33676082],\n",
              "        [0.3326033 ],\n",
              "        [0.33598626],\n",
              "        [0.3450266 ],\n",
              "        [0.35111287],\n",
              "        [0.35245836],\n",
              "        [0.3525073 ],\n",
              "        [0.34551668],\n",
              "        [0.33856228],\n",
              "        [0.33592767],\n",
              "        [0.33506256],\n",
              "        [0.33361766],\n",
              "        [0.3381258 ],\n",
              "        [0.34195882],\n",
              "        [0.34433305],\n",
              "        [0.34620905],\n",
              "        [0.34801406],\n",
              "        [0.34520465],\n",
              "        [0.34113553],\n",
              "        [0.34492707],\n",
              "        [0.3520518 ],\n",
              "        [0.35851935],\n",
              "        [0.36363333],\n",
              "        [0.36879486],\n",
              "        [0.37170112],\n",
              "        [0.38777792],\n",
              "        [0.41334528],\n",
              "        [0.42206106],\n",
              "        [0.41706088],\n",
              "        [0.41449553],\n",
              "        [0.41512904],\n",
              "        [0.4171962 ],\n",
              "        [0.42503384],\n",
              "        [0.44304088],\n",
              "        [0.4577087 ],\n",
              "        [0.45966604],\n",
              "        [0.45308927],\n",
              "        [0.43574125],\n",
              "        [0.4145265 ],\n",
              "        [0.40912327],\n",
              "        [0.42774144],\n",
              "        [0.44813445],\n",
              "        [0.45169145],\n",
              "        [0.44764033],\n",
              "        [0.4459524 ],\n",
              "        [0.4462219 ],\n",
              "        [0.44582212],\n",
              "        [0.44272634],\n",
              "        [0.4335543 ],\n",
              "        [0.42562586],\n",
              "        [0.4236867 ],\n",
              "        [0.42310908],\n",
              "        [       nan]], dtype=float32),\n",
              " array([0.4137693 , 0.40708865, 0.41519845, 0.4126678 , 0.4481315 ,\n",
              "        0.44746502, 0.44294293, 0.45340995, 0.45414747, 0.44187664,\n",
              "        0.43951171, 0.44392749, 0.44063401, 0.4263802 , 0.42817054,\n",
              "        0.42424758, 0.43631554, 0.45264889, 0.47570441, 0.47355641,\n",
              "        0.48352055, 0.47512856, 0.47738065, 0.47504183, 0.47235558,\n",
              "        0.46668552, 0.48919485, 0.49480043, 0.49827562, 0.50194548,\n",
              "        0.51498586, 0.5015308 , 0.51948498, 0.52578447, 0.51995978,\n",
              "        0.52526089, 0.50325567, 0.50571077, 0.49299865, 0.51644912,\n",
              "        0.48979094, 0.48888192, 0.49281608, 0.49155234, 0.50493469,\n",
              "        0.49093024, 0.47471054, 0.44811855, 0.44623423, 0.44014499,\n",
              "        0.4364425 , 0.4345515 , 0.45020644, 0.44622457, 0.4447604 ,\n",
              "        0.46123923, 0.46348247, 0.45242513, 0.41112436, 0.40133108,\n",
              "        0.40070633, 0.40088905, 0.25083985, 0.27961073, 0.26033447,\n",
              "        0.26987712, 0.25004949, 0.26168413, 0.26263251, 0.31166313,\n",
              "        0.31243352, 0.31134728, 0.29299475, 0.32435757, 0.34000998,\n",
              "        0.33671725, 0.33900849, 0.32594374, 0.3144597 , 0.297874  ,\n",
              "        0.3240448 , 0.32439264, 0.3331733 , 0.34305055, 0.33999267,\n",
              "        0.34642593, 0.34256623, 0.36772799, 0.36283855, 0.37106094,\n",
              "        0.36929136, 0.34667997, 0.34619432, 0.35176711, 0.34542816,\n",
              "        0.34554629, 0.33491835, 0.35958808, 0.35833095, 0.3670688 ,\n",
              "        0.36323185, 0.34731958, 0.34730177, 0.35983438, 0.37604647,\n",
              "        0.38207278, 0.3830913 , 0.38875379, 0.39484487, 0.39534968,\n",
              "        0.44669754, 0.44022631, 0.4503966 , 0.45633251, 0.45177945,\n",
              "        0.45266483, 0.45756715, 0.47075205, 0.50569013, 0.50075431,\n",
              "        0.48781382, 0.44451427, 0.43699315, 0.44709745, 0.47124086,\n",
              "        0.49522989, 0.47444888, 0.47660908, 0.49219367, 0.49485539,\n",
              "        0.49476552, 0.48426809, 0.46134423, 0.46677084, 0.46818132,\n",
              "        0.44609842,        nan, 0.44858819]))"
            ]
          },
          "metadata": {},
          "execution_count": 21
        }
      ]
    },
    {
      "cell_type": "code",
      "metadata": {
        "scrolled": true,
        "colab": {
          "base_uri": "https://localhost:8080/"
        },
        "id": "xfsjK7KmkUVd",
        "outputId": "0e399794-22b2-4e4d-885b-25ff85294374"
      },
      "source": [
        "scaler.scale_"
      ],
      "execution_count": 22,
      "outputs": [
        {
          "output_type": "execute_result",
          "data": {
            "text/plain": [
              "array([5.18164146e-05, 5.03087220e-05, 5.31841635e-05, 5.17617168e-05,\n",
              "       2.21730382e-11])"
            ]
          },
          "metadata": {},
          "execution_count": 22
        }
      ]
    },
    {
      "cell_type": "code",
      "metadata": {
        "colab": {
          "base_uri": "https://localhost:8080/"
        },
        "id": "H_771c9YkUVd",
        "outputId": "e4ac42a0-d3f3-41dd-bb86-1804fb25c399"
      },
      "source": [
        "scale = 1/6.1912345e-05\n",
        "scale"
      ],
      "execution_count": 23,
      "outputs": [
        {
          "output_type": "execute_result",
          "data": {
            "text/plain": [
              "19298.903787912797"
            ]
          },
          "metadata": {},
          "execution_count": 23
        }
      ]
    },
    {
      "cell_type": "code",
      "metadata": {
        "id": "wF0tlaiUkUVd"
      },
      "source": [
        "Y_test = Y_test*scale\n",
        "Y_pred = Y_pred*scale"
      ],
      "execution_count": 24,
      "outputs": []
    },
    {
      "cell_type": "code",
      "metadata": {
        "colab": {
          "base_uri": "https://localhost:8080/"
        },
        "id": "Cue_18ECkUVe",
        "outputId": "f29c44eb-0f40-4727-dc07-989036271123"
      },
      "source": [
        "Y_pred\n"
      ],
      "execution_count": 25,
      "outputs": [
        {
          "output_type": "execute_result",
          "data": {
            "text/plain": [
              "array([[7464.326 ],\n",
              "       [7428.0547],\n",
              "       [7348.4385],\n",
              "       [7300.3984],\n",
              "       [7548.7754],\n",
              "       [7905.491 ],\n",
              "       [8067.5156],\n",
              "       [8103.924 ],\n",
              "       [8071.69  ],\n",
              "       [8030.0024],\n",
              "       [7916.926 ],\n",
              "       [7803.0825],\n",
              "       [7763.777 ],\n",
              "       [7783.956 ],\n",
              "       [7777.86  ],\n",
              "       [7697.4575],\n",
              "       [7646.7803],\n",
              "       [7759.26  ],\n",
              "       [8052.8394],\n",
              "       [8338.778 ],\n",
              "       [8521.734 ],\n",
              "       [8542.169 ],\n",
              "       [8436.8545],\n",
              "       [8371.972 ],\n",
              "       [8383.147 ],\n",
              "       [8398.068 ],\n",
              "       [8487.736 ],\n",
              "       [8666.806 ],\n",
              "       [8814.501 ],\n",
              "       [8888.797 ],\n",
              "       [8943.796 ],\n",
              "       [9004.566 ],\n",
              "       [9032.595 ],\n",
              "       [9143.612 ],\n",
              "       [9320.281 ],\n",
              "       [9368.846 ],\n",
              "       [9276.525 ],\n",
              "       [9110.925 ],\n",
              "       [8972.605 ],\n",
              "       [8957.297 ],\n",
              "       [9007.743 ],\n",
              "       [8977.73  ],\n",
              "       [8868.649 ],\n",
              "       [8742.2705],\n",
              "       [8760.198 ],\n",
              "       [8881.704 ],\n",
              "       [8886.121 ],\n",
              "       [8740.106 ],\n",
              "       [8440.661 ],\n",
              "       [8157.0854],\n",
              "       [7955.3105],\n",
              "       [7884.5776],\n",
              "       [8007.8027],\n",
              "       [8185.988 ],\n",
              "       [8215.625 ],\n",
              "       [8206.669 ],\n",
              "       [8240.262 ],\n",
              "       [8231.588 ],\n",
              "       [8112.0654],\n",
              "       [7899.2446],\n",
              "       [7643.86  ],\n",
              "       [7429.4688],\n",
              "       [7139.561 ],\n",
              "       [6740.3   ],\n",
              "       [6141.2847],\n",
              "       [5619.7783],\n",
              "       [5323.2827],\n",
              "       [5195.7715],\n",
              "       [5180.566 ],\n",
              "       [5372.7476],\n",
              "       [5771.202 ],\n",
              "       [6076.154 ],\n",
              "       [6132.841 ],\n",
              "       [6084.912 ],\n",
              "       [6106.589 ],\n",
              "       [6197.599 ],\n",
              "       [6249.952 ],\n",
              "       [6252.865 ],\n",
              "       [6198.0156],\n",
              "       [6041.0913],\n",
              "       [5934.7964],\n",
              "       [5922.6187],\n",
              "       [6032.571 ],\n",
              "       [6279.9316],\n",
              "       [6470.1157],\n",
              "       [6499.1147],\n",
              "       [6418.8794],\n",
              "       [6484.1665],\n",
              "       [6658.6357],\n",
              "       [6776.0938],\n",
              "       [6802.06  ],\n",
              "       [6803.0044],\n",
              "       [6668.0933],\n",
              "       [6533.881 ],\n",
              "       [6483.0356],\n",
              "       [6466.3403],\n",
              "       [6438.455 ],\n",
              "       [6525.4575],\n",
              "       [6599.4307],\n",
              "       [6645.2505],\n",
              "       [6681.455 ],\n",
              "       [6716.29  ],\n",
              "       [6662.0713],\n",
              "       [6583.542 ],\n",
              "       [6656.7144],\n",
              "       [6794.214 ],\n",
              "       [6919.031 ],\n",
              "       [7017.725 ],\n",
              "       [7117.337 ],\n",
              "       [7173.4243],\n",
              "       [7483.689 ],\n",
              "       [7977.111 ],\n",
              "       [8145.316 ],\n",
              "       [8048.818 ],\n",
              "       [7999.3096],\n",
              "       [8011.5356],\n",
              "       [8051.4297],\n",
              "       [8202.6875],\n",
              "       [8550.203 ],\n",
              "       [8833.276 ],\n",
              "       [8871.051 ],\n",
              "       [8744.126 ],\n",
              "       [8409.328 ],\n",
              "       [7999.907 ],\n",
              "       [7895.631 ],\n",
              "       [8254.941 ],\n",
              "       [8648.504 ],\n",
              "       [8717.15  ],\n",
              "       [8638.968 ],\n",
              "       [8606.393 ],\n",
              "       [8611.594 ],\n",
              "       [8603.879 ],\n",
              "       [8544.134 ],\n",
              "       [8367.123 ],\n",
              "       [8214.112 ],\n",
              "       [8176.6895],\n",
              "       [8165.5415],\n",
              "       [      nan]], dtype=float32)"
            ]
          },
          "metadata": {},
          "execution_count": 25
        }
      ]
    },
    {
      "cell_type": "code",
      "metadata": {
        "colab": {
          "base_uri": "https://localhost:8080/"
        },
        "id": "XvVyFnPSkUVe",
        "outputId": "a95dcbc2-02da-496a-c42a-9eef044b72e1"
      },
      "source": [
        "Y_test"
      ],
      "execution_count": 26,
      "outputs": [
        {
          "output_type": "execute_result",
          "data": {
            "text/plain": [
              "array([ 7985.2939191 ,  7856.36472004,  8012.87497412,  7964.03610609,\n",
              "        8648.44675144,  8635.58444644,  8548.31296239,  8750.31491549,\n",
              "        8764.5483145 ,  8527.73483738,  8482.09421236,  8567.3139394 ,\n",
              "        8503.75339237,  8228.67038423,  8263.22214224,  8187.51315721,\n",
              "        8420.41159533,  8735.62741549,  9180.57370472,  9139.11960369,\n",
              "        9331.41647879,  9169.46042371,  9212.92331473,  9167.78659571,\n",
              "        9115.94479868,  9006.51901763,  9440.92429085,  9549.1059319 ,\n",
              "        9616.17331494,  9686.99753298,  9938.6625721 ,  9678.99460397,\n",
              "       10025.49069715, 10147.06394021, 10034.65378315, 10136.95944721,\n",
              "        9712.28268999,  9759.66354901,  9514.33347089,  9966.90183012,\n",
              "        9452.42819686,  9434.88522885,  9510.81003289,  9486.42136087,\n",
              "        9744.68601001,  9474.41550187,  9161.39304071,  8648.19675144,\n",
              "        8611.83151742,  8494.31589236,  8422.86179033,  8386.36764931,\n",
              "        8688.49069646,  8611.64499342,  8583.38815741,  8901.41159557,\n",
              "        8944.70358759,  8731.30905648,  7934.24948508,  7745.24997398,\n",
              "        7733.19284497,  7736.71921197,  4840.93405449,  5396.18063677,\n",
              "        5024.16989458,  5208.33249168,  4825.68112448,  5050.21676959,\n",
              "        5068.5195036 ,  6014.75680909,  6029.6244841 ,  6008.66110509,\n",
              "        5654.4775119 ,  6259.74557822,  6561.81979737,  6498.27389834,\n",
              "        6542.49216036,  6290.35690623,  6068.72751212,  5748.64157395,\n",
              "        6253.70944521,  6260.42233622,  6429.8793673 ,  6620.4994844 ,\n",
              "        6561.48581337,  6685.64059843,  6611.1528054 ,  7096.74704365,\n",
              "        7002.3862036 ,  7161.06930968,  7126.91843066,  6690.54343044,\n",
              "        6681.17087143,  6788.71969949,  6666.38473842,  6668.66452343,\n",
              "        6463.55710232,  6939.65573456,  6915.39450455,  7084.02536364,\n",
              "        7009.9765356 ,  6702.88718044,  6702.54343044,  6944.40915257,\n",
              "        7257.28464173,  7373.58591079,  7393.2421608 ,  7502.52194585,\n",
              "        7620.07321591,  7629.81540292,  8620.77292343,  8495.88522836,\n",
              "        8692.16061846,  8806.71725952,  8718.84811848,  8735.93503249,\n",
              "        8830.54440754,  9084.99850967,  9759.26511101,  9664.00925196,\n",
              "        9414.27194684,  8578.63815741,  8433.48874333,  8628.49069643,\n",
              "        9094.43210367,  9557.39401791,  9156.3432357 ,  9198.03268972,\n",
              "        9498.79831488,  9550.16647891,  9548.4321039 ,  9345.8432358 ,\n",
              "        8903.43796257,  9008.16550163,  9035.38620464,  8609.21042342,\n",
              "                  nan,  8657.26022845])"
            ]
          },
          "metadata": {},
          "execution_count": 26
        }
      ]
    },
    {
      "cell_type": "markdown",
      "source": [
        "## RESULT"
      ],
      "metadata": {
        "id": "PQ2m8kN_LJ3V"
      }
    },
    {
      "cell_type": "code",
      "metadata": {
        "colab": {
          "base_uri": "https://localhost:8080/",
          "height": 404
        },
        "id": "aoQU79iLkUVe",
        "outputId": "33ef8e74-586a-4143-b62d-7be7ade4faef"
      },
      "source": [
        "plt.figure(figsize=(15,6))\n",
        "plt.plot(Y_test, color = 'blue', label = 'Original Pirce')\n",
        "plt.plot(Y_pred, color = 'red', label = 'Prediction price')\n",
        "plt.title('Bitcoin prediction using RNN and LSTM')\n",
        "plt.xlabel('Time')\n",
        "plt.ylabel('Price')\n",
        "plt.legend()\n",
        "plt.show()"
      ],
      "execution_count": 27,
      "outputs": [
        {
          "output_type": "display_data",
          "data": {
            "image/png": "[encoded data removed]",
            "text/plain": [
              "<Figure size 1080x432 with 1 Axes>"
            ]
          },
          "metadata": {
            "needs_background": "light"
          }
        }
      ]
    },
    {
      "cell_type": "code",
      "metadata": {
        "id": "DmlSWDYHkUVe"
      },
      "source": [
        ""
      ],
      "execution_count": 27,
      "outputs": []
    }
  ]
}